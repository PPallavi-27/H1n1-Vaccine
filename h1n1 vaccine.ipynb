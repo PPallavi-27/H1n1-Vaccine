{
 "cells": [
  {
   "cell_type": "code",
   "execution_count": 8,
   "id": "a4a21df1",
   "metadata": {},
   "outputs": [],
   "source": [
    "import os\n",
    "os.chdir('C:\\\\Users\\\\Pallavi_P\\\\Desktop\\\\WD_Python')"
   ]
  },
  {
   "cell_type": "code",
   "execution_count": 9,
   "id": "c649cd2c",
   "metadata": {},
   "outputs": [],
   "source": [
    "import pandas as pd \n",
    "import pandas as pd \n",
    "import numpy as np \n",
    "import matplotlib.pyplot as plt\n",
    "import seaborn as sns\n",
    "import statsmodels.api as sm\n",
    "from statsmodels.formula.api import ols\n",
    "from scipy.stats import chi2_contingency\n",
    "from sklearn.preprocessing import LabelEncoder "
   ]
  },
  {
   "cell_type": "code",
   "execution_count": 10,
   "id": "194afd9c",
   "metadata": {},
   "outputs": [
    {
     "name": "stdout",
     "output_type": "stream",
     "text": [
      "<class 'pandas.core.frame.DataFrame'>\n",
      "RangeIndex: 26707 entries, 0 to 26706\n",
      "Data columns (total 34 columns):\n",
      " #   Column                     Non-Null Count  Dtype  \n",
      "---  ------                     --------------  -----  \n",
      " 0   unique_id                  26707 non-null  int64  \n",
      " 1   h1n1_worry                 26615 non-null  float64\n",
      " 2   h1n1_awareness             26591 non-null  float64\n",
      " 3   antiviral_medication       26636 non-null  float64\n",
      " 4   contact_avoidance          26499 non-null  float64\n",
      " 5   bought_face_mask           26688 non-null  float64\n",
      " 6   wash_hands_frequently      26665 non-null  float64\n",
      " 7   avoid_large_gatherings     26620 non-null  float64\n",
      " 8   reduced_outside_home_cont  26625 non-null  float64\n",
      " 9   avoid_touch_face           26579 non-null  float64\n",
      " 10  dr_recc_h1n1_vacc          24547 non-null  float64\n",
      " 11  dr_recc_seasonal_vacc      24547 non-null  float64\n",
      " 12  chronic_medic_condition    25736 non-null  float64\n",
      " 13  cont_child_undr_6_mnths    25887 non-null  float64\n",
      " 14  is_health_worker           25903 non-null  float64\n",
      " 15  has_health_insur           14433 non-null  float64\n",
      " 16  is_h1n1_vacc_effective     26316 non-null  float64\n",
      " 17  is_h1n1_risky              26319 non-null  float64\n",
      " 18  sick_from_h1n1_vacc        26312 non-null  float64\n",
      " 19  is_seas_vacc_effective     26245 non-null  float64\n",
      " 20  is_seas_risky              26193 non-null  float64\n",
      " 21  sick_from_seas_vacc        26170 non-null  float64\n",
      " 22  age_bracket                26707 non-null  object \n",
      " 23  qualification              25300 non-null  object \n",
      " 24  race                       26707 non-null  object \n",
      " 25  sex                        26707 non-null  object \n",
      " 26  income_level               22284 non-null  object \n",
      " 27  marital_status             25299 non-null  object \n",
      " 28  housing_status             24665 non-null  object \n",
      " 29  employment                 25244 non-null  object \n",
      " 30  census_msa                 26707 non-null  object \n",
      " 31  no_of_adults               26458 non-null  float64\n",
      " 32  no_of_children             26458 non-null  float64\n",
      " 33  h1n1_vaccine               26707 non-null  int64  \n",
      "dtypes: float64(23), int64(2), object(9)\n",
      "memory usage: 6.9+ MB\n"
     ]
    }
   ],
   "source": [
    "df = pd.read_csv('h1n1_vaccine_prediction.csv') #26707; 34 , 1st is unique id \n",
    "df.info()"
   ]
  },
  {
   "cell_type": "code",
   "execution_count": 11,
   "id": "839fe048",
   "metadata": {},
   "outputs": [
    {
     "name": "stdout",
     "output_type": "stream",
     "text": [
      "<class 'pandas.core.frame.DataFrame'>\n",
      "RangeIndex: 26707 entries, 0 to 26706\n",
      "Data columns (total 33 columns):\n",
      " #   Column                     Non-Null Count  Dtype  \n",
      "---  ------                     --------------  -----  \n",
      " 0   h1n1_worry                 26615 non-null  float64\n",
      " 1   h1n1_awareness             26591 non-null  float64\n",
      " 2   antiviral_medication       26636 non-null  float64\n",
      " 3   contact_avoidance          26499 non-null  float64\n",
      " 4   bought_face_mask           26688 non-null  float64\n",
      " 5   wash_hands_frequently      26665 non-null  float64\n",
      " 6   avoid_large_gatherings     26620 non-null  float64\n",
      " 7   reduced_outside_home_cont  26625 non-null  float64\n",
      " 8   avoid_touch_face           26579 non-null  float64\n",
      " 9   dr_recc_h1n1_vacc          24547 non-null  float64\n",
      " 10  dr_recc_seasonal_vacc      24547 non-null  float64\n",
      " 11  chronic_medic_condition    25736 non-null  float64\n",
      " 12  cont_child_undr_6_mnths    25887 non-null  float64\n",
      " 13  is_health_worker           25903 non-null  float64\n",
      " 14  has_health_insur           14433 non-null  float64\n",
      " 15  is_h1n1_vacc_effective     26316 non-null  float64\n",
      " 16  is_h1n1_risky              26319 non-null  float64\n",
      " 17  sick_from_h1n1_vacc        26312 non-null  float64\n",
      " 18  is_seas_vacc_effective     26245 non-null  float64\n",
      " 19  is_seas_risky              26193 non-null  float64\n",
      " 20  sick_from_seas_vacc        26170 non-null  float64\n",
      " 21  age_bracket                26707 non-null  object \n",
      " 22  qualification              25300 non-null  object \n",
      " 23  race                       26707 non-null  object \n",
      " 24  sex                        26707 non-null  object \n",
      " 25  income_level               22284 non-null  object \n",
      " 26  marital_status             25299 non-null  object \n",
      " 27  housing_status             24665 non-null  object \n",
      " 28  employment                 25244 non-null  object \n",
      " 29  census_msa                 26707 non-null  object \n",
      " 30  no_of_adults               26458 non-null  float64\n",
      " 31  no_of_children             26458 non-null  float64\n",
      " 32  h1n1_vaccine               26707 non-null  int64  \n",
      "dtypes: float64(23), int64(1), object(9)\n",
      "memory usage: 6.7+ MB\n",
      "<class 'pandas.core.frame.DataFrame'>\n",
      "Int64Index: 11794 entries, 0 to 26706\n",
      "Data columns (total 33 columns):\n",
      " #   Column                     Non-Null Count  Dtype  \n",
      "---  ------                     --------------  -----  \n",
      " 0   h1n1_worry                 11794 non-null  float64\n",
      " 1   h1n1_awareness             11794 non-null  float64\n",
      " 2   antiviral_medication       11794 non-null  float64\n",
      " 3   contact_avoidance          11794 non-null  float64\n",
      " 4   bought_face_mask           11794 non-null  float64\n",
      " 5   wash_hands_frequently      11794 non-null  float64\n",
      " 6   avoid_large_gatherings     11794 non-null  float64\n",
      " 7   reduced_outside_home_cont  11794 non-null  float64\n",
      " 8   avoid_touch_face           11794 non-null  float64\n",
      " 9   dr_recc_h1n1_vacc          11794 non-null  float64\n",
      " 10  dr_recc_seasonal_vacc      11794 non-null  float64\n",
      " 11  chronic_medic_condition    11794 non-null  float64\n",
      " 12  cont_child_undr_6_mnths    11794 non-null  float64\n",
      " 13  is_health_worker           11794 non-null  float64\n",
      " 14  has_health_insur           11794 non-null  float64\n",
      " 15  is_h1n1_vacc_effective     11794 non-null  float64\n",
      " 16  is_h1n1_risky              11794 non-null  float64\n",
      " 17  sick_from_h1n1_vacc        11794 non-null  float64\n",
      " 18  is_seas_vacc_effective     11794 non-null  float64\n",
      " 19  is_seas_risky              11794 non-null  float64\n",
      " 20  sick_from_seas_vacc        11794 non-null  float64\n",
      " 21  age_bracket                11794 non-null  object \n",
      " 22  qualification              11794 non-null  object \n",
      " 23  race                       11794 non-null  object \n",
      " 24  sex                        11794 non-null  object \n",
      " 25  income_level               11794 non-null  object \n",
      " 26  marital_status             11794 non-null  object \n",
      " 27  housing_status             11794 non-null  object \n",
      " 28  employment                 11794 non-null  object \n",
      " 29  census_msa                 11794 non-null  object \n",
      " 30  no_of_adults               11794 non-null  float64\n",
      " 31  no_of_children             11794 non-null  float64\n",
      " 32  h1n1_vaccine               11794 non-null  int64  \n",
      "dtypes: float64(23), int64(1), object(9)\n",
      "memory usage: 3.1+ MB\n"
     ]
    }
   ],
   "source": [
    "# lets drop 1st unique_id \n",
    "df33 = df.drop(['unique_id'], axis = 1)\n",
    "df33.info() # now 33 columns\n",
    "# droping all will give 11794 rows only 50% values \n",
    "dfnomissing = df33.dropna()\n",
    "dfnomissing.info() # # 11,794 rows; 33 columns\n",
    "# its not a good idea to carry with 11,794 rows\n",
    "## note that index identification remains same as in \n",
    "# the original file \n"
   ]
  },
  {
   "cell_type": "code",
   "execution_count": 12,
   "id": "07610505",
   "metadata": {},
   "outputs": [],
   "source": [
    "#so, we will remove the column- \"has_health_insur\" (14433 rows only)\n",
    "#and create a new file name 'df32'. This is shown below. \n",
    "df32 = df33.drop(['has_health_insur'], axis = 1)\n"
   ]
  },
  {
   "cell_type": "code",
   "execution_count": 13,
   "id": "dbf96854",
   "metadata": {},
   "outputs": [
    {
     "name": "stdout",
     "output_type": "stream",
     "text": [
      "<class 'pandas.core.frame.DataFrame'>\n",
      "RangeIndex: 26707 entries, 0 to 26706\n",
      "Data columns (total 32 columns):\n",
      " #   Column                     Non-Null Count  Dtype  \n",
      "---  ------                     --------------  -----  \n",
      " 0   h1n1_worry                 26615 non-null  float64\n",
      " 1   h1n1_awareness             26591 non-null  float64\n",
      " 2   antiviral_medication       26636 non-null  float64\n",
      " 3   contact_avoidance          26499 non-null  float64\n",
      " 4   bought_face_mask           26688 non-null  float64\n",
      " 5   wash_hands_frequently      26665 non-null  float64\n",
      " 6   avoid_large_gatherings     26620 non-null  float64\n",
      " 7   reduced_outside_home_cont  26625 non-null  float64\n",
      " 8   avoid_touch_face           26579 non-null  float64\n",
      " 9   dr_recc_h1n1_vacc          24547 non-null  float64\n",
      " 10  dr_recc_seasonal_vacc      24547 non-null  float64\n",
      " 11  chronic_medic_condition    25736 non-null  float64\n",
      " 12  cont_child_undr_6_mnths    25887 non-null  float64\n",
      " 13  is_health_worker           25903 non-null  float64\n",
      " 14  is_h1n1_vacc_effective     26316 non-null  float64\n",
      " 15  is_h1n1_risky              26319 non-null  float64\n",
      " 16  sick_from_h1n1_vacc        26312 non-null  float64\n",
      " 17  is_seas_vacc_effective     26245 non-null  float64\n",
      " 18  is_seas_risky              26193 non-null  float64\n",
      " 19  sick_from_seas_vacc        26170 non-null  float64\n",
      " 20  age_bracket                26707 non-null  object \n",
      " 21  qualification              25300 non-null  object \n",
      " 22  race                       26707 non-null  object \n",
      " 23  sex                        26707 non-null  object \n",
      " 24  income_level               22284 non-null  object \n",
      " 25  marital_status             25299 non-null  object \n",
      " 26  housing_status             24665 non-null  object \n",
      " 27  employment                 25244 non-null  object \n",
      " 28  census_msa                 26707 non-null  object \n",
      " 29  no_of_adults               26458 non-null  float64\n",
      " 30  no_of_children             26458 non-null  float64\n",
      " 31  h1n1_vaccine               26707 non-null  int64  \n",
      "dtypes: float64(22), int64(1), object(9)\n",
      "memory usage: 6.5+ MB\n"
     ]
    }
   ],
   "source": [
    "df32.info() # observe many missing values in many columns, now 32 columns\n"
   ]
  },
  {
   "cell_type": "code",
   "execution_count": 14,
   "id": "d7869dc0",
   "metadata": {},
   "outputs": [
    {
     "name": "stdout",
     "output_type": "stream",
     "text": [
      "<class 'pandas.core.frame.DataFrame'>\n",
      "Int64Index: 19642 entries, 0 to 26706\n",
      "Data columns (total 32 columns):\n",
      " #   Column                     Non-Null Count  Dtype  \n",
      "---  ------                     --------------  -----  \n",
      " 0   h1n1_worry                 19642 non-null  float64\n",
      " 1   h1n1_awareness             19642 non-null  float64\n",
      " 2   antiviral_medication       19642 non-null  float64\n",
      " 3   contact_avoidance          19642 non-null  float64\n",
      " 4   bought_face_mask           19642 non-null  float64\n",
      " 5   wash_hands_frequently      19642 non-null  float64\n",
      " 6   avoid_large_gatherings     19642 non-null  float64\n",
      " 7   reduced_outside_home_cont  19642 non-null  float64\n",
      " 8   avoid_touch_face           19642 non-null  float64\n",
      " 9   dr_recc_h1n1_vacc          19642 non-null  float64\n",
      " 10  dr_recc_seasonal_vacc      19642 non-null  float64\n",
      " 11  chronic_medic_condition    19642 non-null  float64\n",
      " 12  cont_child_undr_6_mnths    19642 non-null  float64\n",
      " 13  is_health_worker           19642 non-null  float64\n",
      " 14  is_h1n1_vacc_effective     19642 non-null  float64\n",
      " 15  is_h1n1_risky              19642 non-null  float64\n",
      " 16  sick_from_h1n1_vacc        19642 non-null  float64\n",
      " 17  is_seas_vacc_effective     19642 non-null  float64\n",
      " 18  is_seas_risky              19642 non-null  float64\n",
      " 19  sick_from_seas_vacc        19642 non-null  float64\n",
      " 20  age_bracket                19642 non-null  object \n",
      " 21  qualification              19642 non-null  object \n",
      " 22  race                       19642 non-null  object \n",
      " 23  sex                        19642 non-null  object \n",
      " 24  income_level               19642 non-null  object \n",
      " 25  marital_status             19642 non-null  object \n",
      " 26  housing_status             19642 non-null  object \n",
      " 27  employment                 19642 non-null  object \n",
      " 28  census_msa                 19642 non-null  object \n",
      " 29  no_of_adults               19642 non-null  float64\n",
      " 30  no_of_children             19642 non-null  float64\n",
      " 31  h1n1_vaccine               19642 non-null  int64  \n",
      "dtypes: float64(22), int64(1), object(9)\n",
      "memory usage: 4.9+ MB\n"
     ]
    }
   ],
   "source": [
    "# lets remove all missing values from df32\n",
    "df_vac = df32.dropna() # 19642 , 32 \n",
    "df_vac.info()\n",
    "## now , 19642 is a good no to go with! "
   ]
  },
  {
   "cell_type": "code",
   "execution_count": 15,
   "id": "7fd51768",
   "metadata": {},
   "outputs": [
    {
     "data": {
      "text/plain": [
       "0    15128\n",
       "1     4514\n",
       "Name: h1n1_vaccine, dtype: int64"
      ]
     },
     "execution_count": 15,
     "metadata": {},
     "output_type": "execute_result"
    }
   ],
   "source": [
    "###__________________1 ALWAYS START WITH TARGET VARIABLE\n",
    "# 1 h1n1_vaccine - Target Variable\n",
    "df_vac.h1n1_vaccine.isnull().sum() #No Missing values\n",
    "df_vac.h1n1_vaccine.value_counts() "
   ]
  },
  {
   "cell_type": "code",
   "execution_count": 16,
   "id": "0f520ab5",
   "metadata": {},
   "outputs": [
    {
     "data": {
      "text/plain": [
       "Text(0.5, 1.0, 'Barplot of h1n1_vaccine')"
      ]
     },
     "execution_count": 16,
     "metadata": {},
     "output_type": "execute_result"
    },
    {
     "data": {
      "image/png": "[encoded data removed]",
      "text/plain": [
       "<Figure size 432x288 with 1 Axes>"
      ]
     },
     "metadata": {
      "needs_background": "light"
     },
     "output_type": "display_data"
    }
   ],
   "source": [
    "# Bar Plot\n",
    "sns.countplot(x = 'h1n1_vaccine', data = df_vac , palette = 'hot')\n",
    "plt.title('Barplot of h1n1_vaccine')"
   ]
  },
  {
   "cell_type": "code",
   "execution_count": 17,
   "id": "3946d5e8",
   "metadata": {},
   "outputs": [
    {
     "data": {
      "text/plain": [
       "Text(0.5, 1.0, 'Histogram of h1n1_worry')"
      ]
     },
     "execution_count": 17,
     "metadata": {},
     "output_type": "execute_result"
    },
    {
     "data": {
      "image/png": "[encoded data removed]",
      "text/plain": [
       "<Figure size 432x288 with 1 Axes>"
      ]
     },
     "metadata": {
      "needs_background": "light"
     },
     "output_type": "display_data"
    }
   ],
   "source": [
    "#__________________ 2 h1n1_worry [0,1,2,3] ordered\n",
    "#______histogram\n",
    "#_run in block\n",
    "plt.hist(df_vac.h1n1_worry, bins = 'auto', facecolor = 'red')\n",
    "plt.xlabel('h1n1_worry')\n",
    "plt.ylabel('counts')\n",
    "plt.title('Histogram of h1n1_worry') "
   ]
  },
  {
   "cell_type": "code",
   "execution_count": 18,
   "id": "ea512c8e",
   "metadata": {},
   "outputs": [
    {
     "data": {
      "text/plain": [
       "<AxesSubplot:>"
      ]
     },
     "execution_count": 18,
     "metadata": {},
     "output_type": "execute_result"
    },
    {
     "data": {
      "image/png": "[encoded data removed]",
      "text/plain": [
       "<Figure size 432x288 with 1 Axes>"
      ]
     },
     "metadata": {
      "needs_background": "light"
     },
     "output_type": "display_data"
    }
   ],
   "source": [
    "#____boxplot\n",
    "props2 = dict(boxes = 'red', whiskers = 'green', medians = 'black', caps = 'red')\n",
    "df_vac['h1n1_worry'].plot.box(color=props2, patch_artist = True, vert = False) #No outliers"
   ]
  },
  {
   "cell_type": "code",
   "execution_count": 19,
   "id": "ba0f330f",
   "metadata": {},
   "outputs": [
    {
     "data": {
      "text/plain": [
       "2.0    7989\n",
       "1.0    6229\n",
       "3.0    3175\n",
       "0.0    2249\n",
       "Name: h1n1_worry, dtype: int64"
      ]
     },
     "execution_count": 19,
     "metadata": {},
     "output_type": "execute_result"
    }
   ],
   "source": [
    "df_vac.h1n1_worry.isnull().sum() #0 Missing values\n",
    "df_vac.h1n1_worry.value_counts()"
   ]
  },
  {
   "cell_type": "code",
   "execution_count": 20,
   "id": "7a506224",
   "metadata": {},
   "outputs": [
    {
     "name": "stdout",
     "output_type": "stream",
     "text": [
      "                   df        sum_sq     mean_sq           F        PR(>F)\n",
      "h1n1_vaccine      1.0    278.817902  278.817902  359.846071  1.564062e-79\n",
      "Residual      19640.0  15217.572282    0.774825         NaN           NaN\n"
     ]
    }
   ],
   "source": [
    "#Hypothesis Testing\n",
    "import statsmodels.api as sm\n",
    "from statsmodels.formula.api import ols\n",
    "mod = ols('h1n1_worry ~ h1n1_vaccine', data = df_vac).fit()\n",
    "aov_table = sm.stats.anova_lm(mod)\n",
    "print(aov_table)\n",
    "# 1.564e-79 ie p_value is <0.05; Ho Reject; Good Predictor"
   ]
  },
  {
   "cell_type": "code",
   "execution_count": 21,
   "id": "48b99b51",
   "metadata": {},
   "outputs": [
    {
     "data": {
      "text/plain": [
       "(361.4688796942114,\n",
       " 4.900068231096281e-78,\n",
       " 3,\n",
       " array([[1732.14906832, 4797.49068323, 6153.01863354, 2445.34161491],\n",
       "        [ 516.85093168, 1431.50931677, 1835.98136646,  729.65838509]]))"
      ]
     },
     "execution_count": 21,
     "metadata": {},
     "output_type": "execute_result"
    }
   ],
   "source": [
    "# let's judge from chisquare way!\n",
    "from scipy.stats import chi2_contingency\n",
    "ct_worry = pd.crosstab(df_vac.h1n1_vaccine, df_vac.h1n1_worry)\n",
    "chi2_contingency(ct_worry, correction = False)\n",
    "# p_val = 4.9e-78, Ho reject, hence association exists, good predictor "
   ]
  },
  {
   "cell_type": "code",
   "execution_count": 22,
   "id": "85d9c3b5",
   "metadata": {},
   "outputs": [
    {
     "data": {
      "text/plain": [
       "Text(0.5, 1.0, 'Histogram of h1n1_awareness')"
      ]
     },
     "execution_count": 22,
     "metadata": {},
     "output_type": "execute_result"
    },
    {
     "data": {
      "image/png": "[encoded data removed]",
      "text/plain": [
       "<Figure size 432x288 with 1 Axes>"
      ]
     },
     "metadata": {
      "needs_background": "light"
     },
     "output_type": "display_data"
    }
   ],
   "source": [
    "#_____________________________# 3 h1n1_awareness [0,1,2] ordered\n",
    "#______histogram\n",
    "#_run in block\n",
    "plt.hist(df_vac.h1n1_awareness, bins = 'auto', facecolor = 'red')\n",
    "plt.xlabel('h1n1_awareness')\n",
    "plt.ylabel('counts')\n",
    "plt.title('Histogram of h1n1_awareness') "
   ]
  },
  {
   "cell_type": "code",
   "execution_count": 23,
   "id": "3376a78b",
   "metadata": {},
   "outputs": [
    {
     "data": {
      "text/plain": [
       "<AxesSubplot:>"
      ]
     },
     "execution_count": 23,
     "metadata": {},
     "output_type": "execute_result"
    },
    {
     "data": {
      "image/png": "[encoded data removed]",
      "text/plain": [
       "<Figure size 432x288 with 1 Axes>"
      ]
     },
     "metadata": {
      "needs_background": "light"
     },
     "output_type": "display_data"
    }
   ],
   "source": [
    "#____boxplot\n",
    "props2 = dict(boxes = 'red', whiskers = 'green', medians = 'black', caps = 'red')\n",
    "df_vac['h1n1_awareness'].plot.box(color=props2, patch_artist = True, vert = False) #No outliers\n"
   ]
  },
  {
   "cell_type": "code",
   "execution_count": 24,
   "id": "a0105f0e",
   "metadata": {},
   "outputs": [
    {
     "data": {
      "text/plain": [
       "1.0    10861\n",
       "2.0     7362\n",
       "0.0     1419\n",
       "Name: h1n1_awareness, dtype: int64"
      ]
     },
     "execution_count": 24,
     "metadata": {},
     "output_type": "execute_result"
    }
   ],
   "source": [
    "df_vac.h1n1_awareness.isnull().sum() #0 Missing values\n",
    "df_vac.h1n1_awareness.value_counts() "
   ]
  },
  {
   "cell_type": "code",
   "execution_count": 25,
   "id": "8011c5a1",
   "metadata": {},
   "outputs": [
    {
     "data": {
      "text/plain": [
       "Text(0.5, 1.0, 'Countplot of h1n1_awareness')"
      ]
     },
     "execution_count": 25,
     "metadata": {},
     "output_type": "execute_result"
    },
    {
     "data": {
      "image/png": "[encoded data removed]",
      "text/plain": [
       "<Figure size 432x288 with 1 Axes>"
      ]
     },
     "metadata": {
      "needs_background": "light"
     },
     "output_type": "display_data"
    }
   ],
   "source": [
    "# Bar Plot\n",
    "sns.countplot(x = 'h1n1_awareness', data = df_vac , palette = 'spring')\n",
    "plt.title('Countplot of h1n1_awareness')"
   ]
  },
  {
   "cell_type": "code",
   "execution_count": 26,
   "id": "eeae83c9",
   "metadata": {},
   "outputs": [
    {
     "name": "stdout",
     "output_type": "stream",
     "text": [
      "                   df       sum_sq     mean_sq           F        PR(>F)\n",
      "h1n1_vaccine      1.0   110.644675  110.644675  316.210167  3.441770e-70\n",
      "Residual      19640.0  6872.206002    0.349909         NaN           NaN\n"
     ]
    }
   ],
   "source": [
    "#Hypothesis Testing\n",
    "import statsmodels.api as sm\n",
    "from statsmodels.formula.api import ols\n",
    "mod = ols('h1n1_awareness ~ h1n1_vaccine', data = df_vac).fit()\n",
    "aov_table = sm.stats.anova_lm(mod)\n",
    "print(aov_table)\n",
    "#3.442e-70 ie  p_value is <0.05; Ho Reject; Good Predictor"
   ]
  },
  {
   "cell_type": "code",
   "execution_count": 27,
   "id": "71fc611e",
   "metadata": {},
   "outputs": [
    {
     "data": {
      "text/plain": [
       "0.0    18671\n",
       "1.0      971\n",
       "Name: antiviral_medication, dtype: int64"
      ]
     },
     "execution_count": 27,
     "metadata": {},
     "output_type": "execute_result"
    }
   ],
   "source": [
    "#_______________ 4 antiviral_medication [0 and 1]\n",
    "\n",
    "df_vac.antiviral_medication.isnull().sum() #0 Missing values\n",
    "df_vac.antiviral_medication.value_counts() "
   ]
  },
  {
   "cell_type": "code",
   "execution_count": 28,
   "id": "6804d832",
   "metadata": {},
   "outputs": [
    {
     "data": {
      "text/plain": [
       "Text(0.5, 1.0, 'Countplot of antiviral_medication')"
      ]
     },
     "execution_count": 28,
     "metadata": {},
     "output_type": "execute_result"
    },
    {
     "data": {
      "image/png": "[encoded data removed]",
      "text/plain": [
       "<Figure size 432x288 with 1 Axes>"
      ]
     },
     "metadata": {
      "needs_background": "light"
     },
     "output_type": "display_data"
    }
   ],
   "source": [
    "# Bar Plot\n",
    "sns.countplot(x = 'antiviral_medication', data = df_vac , palette = 'cool')\n",
    "plt.title('Countplot of antiviral_medication')"
   ]
  },
  {
   "cell_type": "code",
   "execution_count": 29,
   "id": "027630c8",
   "metadata": {},
   "outputs": [
    {
     "data": {
      "text/plain": [
       "(25.7430310280289,\n",
       " 3.900328532557542e-07,\n",
       " 1,\n",
       " array([[14380.14906832,   747.85093168],\n",
       "        [ 4290.85093168,   223.14906832]]))"
      ]
     },
     "execution_count": 29,
     "metadata": {},
     "output_type": "execute_result"
    }
   ],
   "source": [
    "#Hypothesis Testing\n",
    "from scipy.stats import chi2_contingency\n",
    "ct_antiviral = pd.crosstab(df_vac.h1n1_vaccine, df_vac.antiviral_medication)\n",
    "chi2_contingency(ct_antiviral, correction = False)\n",
    "# p_val = 3.9e-7, Ho reject, hence association exists, good predictor "
   ]
  },
  {
   "cell_type": "code",
   "execution_count": 30,
   "id": "6d775aa9",
   "metadata": {},
   "outputs": [
    {
     "data": {
      "text/plain": [
       "1.0    14544\n",
       "0.0     5098\n",
       "Name: contact_avoidance, dtype: int64"
      ]
     },
     "execution_count": 30,
     "metadata": {},
     "output_type": "execute_result"
    }
   ],
   "source": [
    "#________________ 5 contact_avoidance [0 and 1]\n",
    "\n",
    "df_vac.contact_avoidance.isnull().sum() #0 Missing values\n",
    "df_vac.contact_avoidance.value_counts()"
   ]
  },
  {
   "cell_type": "code",
   "execution_count": 31,
   "id": "517408c1",
   "metadata": {},
   "outputs": [
    {
     "data": {
      "text/plain": [
       "Text(0.5, 1.0, 'Countplot of contact_avoidance')"
      ]
     },
     "execution_count": 31,
     "metadata": {},
     "output_type": "execute_result"
    },
    {
     "data": {
      "image/png": "[encoded data removed]",
      "text/plain": [
       "<Figure size 432x288 with 1 Axes>"
      ]
     },
     "metadata": {
      "needs_background": "light"
     },
     "output_type": "display_data"
    }
   ],
   "source": [
    "# Bar Plot\n",
    "sns.countplot(x = 'contact_avoidance', data = df_vac , palette = 'turbo')\n",
    "plt.title('Countplot of contact_avoidance')"
   ]
  },
  {
   "cell_type": "code",
   "execution_count": 32,
   "id": "795d5a06",
   "metadata": {},
   "outputs": [
    {
     "data": {
      "text/plain": [
       "(38.119047488867295,\n",
       " 6.655721920427935e-10,\n",
       " 1,\n",
       " array([[ 3926.40993789, 11201.59006211],\n",
       "        [ 1171.59006211,  3342.40993789]]))"
      ]
     },
     "execution_count": 32,
     "metadata": {},
     "output_type": "execute_result"
    }
   ],
   "source": [
    "#Hypothesis Testing\n",
    "from scipy.stats import chi2_contingency\n",
    "ct_avoid = pd.crosstab(df_vac.h1n1_vaccine, df_vac.contact_avoidance)\n",
    "chi2_contingency(ct_avoid, correction = False)\n",
    "# p_val = 6.6 e-10, Ho reject, hence association exists, good predictor "
   ]
  },
  {
   "cell_type": "code",
   "execution_count": 33,
   "id": "6551ec27",
   "metadata": {},
   "outputs": [
    {
     "data": {
      "text/plain": [
       "0.0    18312\n",
       "1.0     1330\n",
       "Name: bought_face_mask, dtype: int64"
      ]
     },
     "execution_count": 33,
     "metadata": {},
     "output_type": "execute_result"
    }
   ],
   "source": [
    "#_________________ 6 bought_face_mask [0 and 1]\n",
    "\n",
    "df_vac.bought_face_mask.isnull().sum() #0 Missing values\n",
    "df_vac.bought_face_mask.value_counts()"
   ]
  },
  {
   "cell_type": "code",
   "execution_count": 34,
   "id": "25fd2882",
   "metadata": {},
   "outputs": [
    {
     "data": {
      "text/plain": [
       "Text(0.5, 1.0, 'Countplot of bought_face_mask')"
      ]
     },
     "execution_count": 34,
     "metadata": {},
     "output_type": "execute_result"
    },
    {
     "data": {
      "image/png": "[encoded data removed]",
      "text/plain": [
       "<Figure size 432x288 with 1 Axes>"
      ]
     },
     "metadata": {
      "needs_background": "light"
     },
     "output_type": "display_data"
    }
   ],
   "source": [
    "# Bar Plot\n",
    "sns.countplot(x = 'bought_face_mask', data = df_vac , palette = 'afmhot')\n",
    "plt.title('Countplot of bought_face_mask')"
   ]
  },
  {
   "cell_type": "code",
   "execution_count": 35,
   "id": "3994f108",
   "metadata": {},
   "outputs": [
    {
     "data": {
      "text/plain": [
       "(111.38079745607507,\n",
       " 4.8829999983371125e-26,\n",
       " 1,\n",
       " array([[14103.65217391,  1024.34782609],\n",
       "        [ 4208.34782609,   305.65217391]]))"
      ]
     },
     "execution_count": 35,
     "metadata": {},
     "output_type": "execute_result"
    }
   ],
   "source": [
    "#Hypothesis Testing\n",
    "from scipy.stats import chi2_contingency\n",
    "ct_avoid = pd.crosstab(df_vac.h1n1_vaccine, df_vac.bought_face_mask)\n",
    "chi2_contingency(ct_avoid, correction = False)\n",
    "# p_val = 4.88-e-26, Ho reject, hence association exists, good predictor "
   ]
  },
  {
   "cell_type": "code",
   "execution_count": 36,
   "id": "687df6d5",
   "metadata": {},
   "outputs": [
    {
     "data": {
      "text/plain": [
       "1.0    16399\n",
       "0.0     3243\n",
       "Name: wash_hands_frequently, dtype: int64"
      ]
     },
     "execution_count": 36,
     "metadata": {},
     "output_type": "execute_result"
    }
   ],
   "source": [
    "#________________ 7 wash_hands_frequently [0 and 1] \n",
    "\n",
    "df_vac.wash_hands_frequently.isnull().sum() #0 Missing values\n",
    "df_vac.wash_hands_frequently.value_counts()"
   ]
  },
  {
   "cell_type": "code",
   "execution_count": 37,
   "id": "d6de41e6",
   "metadata": {},
   "outputs": [
    {
     "data": {
      "text/plain": [
       "Text(0.5, 1.0, 'Countplot of wash_hands_frequently')"
      ]
     },
     "execution_count": 37,
     "metadata": {},
     "output_type": "execute_result"
    },
    {
     "data": {
      "image/png": "[encoded data removed]",
      "text/plain": [
       "<Figure size 432x288 with 1 Axes>"
      ]
     },
     "metadata": {
      "needs_background": "light"
     },
     "output_type": "display_data"
    }
   ],
   "source": [
    "# Bar Plot\n",
    "sns.countplot(x = 'wash_hands_frequently', data = df_vac , palette = 'rainbow')\n",
    "plt.title('Countplot of wash_hands_frequently')\n"
   ]
  },
  {
   "cell_type": "code",
   "execution_count": 38,
   "id": "a709082f",
   "metadata": {},
   "outputs": [
    {
     "data": {
      "text/plain": [
       "(111.62137100015417,\n",
       " 4.32500265148964e-26,\n",
       " 1,\n",
       " array([[ 2497.71428571, 12630.28571429],\n",
       "        [  745.28571429,  3768.71428571]]))"
      ]
     },
     "execution_count": 38,
     "metadata": {},
     "output_type": "execute_result"
    }
   ],
   "source": [
    "#Hypothesis Testing\n",
    "ct_wash = pd.crosstab(df_vac.h1n1_vaccine, df_vac.wash_hands_frequently)\n",
    "chi2_contingency(ct_wash, correction = False)\n",
    "# p_val = 4.3 e-26, Ho reject, hence association exists, good predictor "
   ]
  },
  {
   "cell_type": "code",
   "execution_count": 39,
   "id": "01d28f8e",
   "metadata": {},
   "outputs": [
    {
     "data": {
      "text/plain": [
       "0.0    12703\n",
       "1.0     6939\n",
       "Name: avoid_large_gatherings, dtype: int64"
      ]
     },
     "execution_count": 39,
     "metadata": {},
     "output_type": "execute_result"
    }
   ],
   "source": [
    "#__________________ 8 avoid_large_gatherings [0 and 1]\n",
    "\n",
    "df_vac.avoid_large_gatherings.isnull().sum() #0 Missing values\n",
    "df_vac.avoid_large_gatherings.value_counts()"
   ]
  },
  {
   "cell_type": "code",
   "execution_count": 40,
   "id": "1479b413",
   "metadata": {},
   "outputs": [
    {
     "data": {
      "text/plain": [
       "Text(0.5, 1.0, 'Countplot of avoid_large_gatherings')"
      ]
     },
     "execution_count": 40,
     "metadata": {},
     "output_type": "execute_result"
    },
    {
     "data": {
      "image/png": "[encoded data removed]",
      "text/plain": [
       "<Figure size 432x288 with 1 Axes>"
      ]
     },
     "metadata": {
      "needs_background": "light"
     },
     "output_type": "display_data"
    }
   ],
   "source": [
    "# Bar Plot\n",
    "sns.countplot(x = 'avoid_large_gatherings', data = df_vac , palette = 'icefire')\n",
    "plt.title('Countplot of avoid_large_gatherings')"
   ]
  },
  {
   "cell_type": "code",
   "execution_count": 41,
   "id": "08676557",
   "metadata": {},
   "outputs": [
    {
     "data": {
      "text/plain": [
       "(8.326019959345679,\n",
       " 0.003908118862931521,\n",
       " 1,\n",
       " array([[9783.67701863, 5344.32298137],\n",
       "        [2919.32298137, 1594.67701863]]))"
      ]
     },
     "execution_count": 41,
     "metadata": {},
     "output_type": "execute_result"
    }
   ],
   "source": [
    "#Hypothesis Testing\n",
    "ct_gath = pd.crosstab(df_vac.h1n1_vaccine, df_vac.avoid_large_gatherings)\n",
    "chi2_contingency(ct_gath, correction = False)\n",
    "# p_val = 0.004, Ho reject, hence association exists, good predictor "
   ]
  },
  {
   "cell_type": "code",
   "execution_count": 42,
   "id": "660525ae",
   "metadata": {},
   "outputs": [
    {
     "data": {
      "text/plain": [
       "0.0    13159\n",
       "1.0     6483\n",
       "Name: reduced_outside_home_cont, dtype: int64"
      ]
     },
     "execution_count": 42,
     "metadata": {},
     "output_type": "execute_result"
    }
   ],
   "source": [
    "#______________ 9 reduced_outside_home_cont [0 and 1] \n",
    "df_vac.reduced_outside_home_cont.isnull().sum() #0 Missing values\n",
    "df_vac.reduced_outside_home_cont.value_counts()"
   ]
  },
  {
   "cell_type": "code",
   "execution_count": 43,
   "id": "ad94afbc",
   "metadata": {},
   "outputs": [
    {
     "data": {
      "text/plain": [
       "Text(0.5, 1.0, 'Countplot of reduced_outside_home_cont')"
      ]
     },
     "execution_count": 43,
     "metadata": {},
     "output_type": "execute_result"
    },
    {
     "data": {
      "image/png": "[encoded data removed]",
      "text/plain": [
       "<Figure size 432x288 with 1 Axes>"
      ]
     },
     "metadata": {
      "needs_background": "light"
     },
     "output_type": "display_data"
    }
   ],
   "source": [
    "# Bar Plot\n",
    "sns.countplot(x = 'reduced_outside_home_cont', data = df_vac , palette = 'gist_heat')\n",
    "plt.title('Countplot of reduced_outside_home_cont')"
   ]
  },
  {
   "cell_type": "code",
   "execution_count": 44,
   "id": "2357e05b",
   "metadata": {},
   "outputs": [
    {
     "data": {
      "text/plain": [
       "(5.859941970831115,\n",
       " 0.015489304669565737,\n",
       " 1,\n",
       " array([[10134.88198758,  4993.11801242],\n",
       "        [ 3024.11801242,  1489.88198758]]))"
      ]
     },
     "execution_count": 44,
     "metadata": {},
     "output_type": "execute_result"
    }
   ],
   "source": [
    "#Hypothesis Testing\n",
    "ct_outside = pd.crosstab(df_vac.h1n1_vaccine, df_vac.reduced_outside_home_cont)\n",
    "chi2_contingency(ct_outside, correction = False)\n",
    "# p_val = 0.015, Ho reject, hence association exists, good predictor "
   ]
  },
  {
   "cell_type": "code",
   "execution_count": 45,
   "id": "f983c626",
   "metadata": {},
   "outputs": [
    {
     "data": {
      "text/plain": [
       "1.0    13455\n",
       "0.0     6187\n",
       "Name: avoid_touch_face, dtype: int64"
      ]
     },
     "execution_count": 45,
     "metadata": {},
     "output_type": "execute_result"
    }
   ],
   "source": [
    "#__________________10 avoid_touch_face [0 and 1]\n",
    "df_vac.avoid_touch_face.isnull().sum() #0 Missing values\n",
    "df_vac.avoid_touch_face.value_counts()"
   ]
  },
  {
   "cell_type": "code",
   "execution_count": 46,
   "id": "d57afe83",
   "metadata": {},
   "outputs": [
    {
     "data": {
      "text/plain": [
       "Text(0.5, 1.0, 'Countplot of avoid_touch_face')"
      ]
     },
     "execution_count": 46,
     "metadata": {},
     "output_type": "execute_result"
    },
    {
     "data": {
      "image/png": "[encoded data removed]",
      "text/plain": [
       "<Figure size 432x288 with 1 Axes>"
      ]
     },
     "metadata": {
      "needs_background": "light"
     },
     "output_type": "display_data"
    }
   ],
   "source": [
    "# Bar Plot\n",
    "sns.countplot(x = 'avoid_touch_face', data = df_vac , palette = 'GnBu')\n",
    "plt.title('Countplot of avoid_touch_face')"
   ]
  },
  {
   "cell_type": "code",
   "execution_count": 47,
   "id": "a227efc0",
   "metadata": {},
   "outputs": [
    {
     "data": {
      "text/plain": [
       "(99.97660321127165,\n",
       " 1.5420802703508326e-23,\n",
       " 1,\n",
       " array([[ 4765.14285714, 10362.85714286],\n",
       "        [ 1421.85714286,  3092.14285714]]))"
      ]
     },
     "execution_count": 47,
     "metadata": {},
     "output_type": "execute_result"
    }
   ],
   "source": [
    "#Hypothesis Testing\n",
    "ct_face = pd.crosstab(df_vac.h1n1_vaccine, df_vac.avoid_touch_face)\n",
    "chi2_contingency(ct_face, correction = False)\n",
    "# p_val = 1.5e-23, Ho reject, hence association exists, good predictor \n"
   ]
  },
  {
   "cell_type": "code",
   "execution_count": 48,
   "id": "99ebe6bd",
   "metadata": {},
   "outputs": [
    {
     "data": {
      "text/plain": [
       "0.0    15203\n",
       "1.0     4439\n",
       "Name: dr_recc_h1n1_vacc, dtype: int64"
      ]
     },
     "execution_count": 48,
     "metadata": {},
     "output_type": "execute_result"
    }
   ],
   "source": [
    "#_____________________ 11 dr_recc_h1n1_vacc [0 and 1]\n",
    "df_vac.dr_recc_h1n1_vacc.isnull().sum() #0 Missing values\n",
    "df_vac.dr_recc_h1n1_vacc.value_counts() "
   ]
  },
  {
   "cell_type": "code",
   "execution_count": 49,
   "id": "7182db51",
   "metadata": {},
   "outputs": [
    {
     "data": {
      "text/plain": [
       "Text(0.5, 1.0, 'Histogram of dr_recc_h1n1_vacc')"
      ]
     },
     "execution_count": 49,
     "metadata": {},
     "output_type": "execute_result"
    },
    {
     "data": {
      "image/png": "[encoded data removed]",
      "text/plain": [
       "<Figure size 432x288 with 1 Axes>"
      ]
     },
     "metadata": {
      "needs_background": "light"
     },
     "output_type": "display_data"
    }
   ],
   "source": [
    "# Bar Plot\n",
    "sns.countplot(x = 'dr_recc_h1n1_vacc', data = df_vac , palette = 'Reds')\n",
    "plt.title('Histogram of dr_recc_h1n1_vacc')"
   ]
  },
  {
   "cell_type": "code",
   "execution_count": 50,
   "id": "13f646fd",
   "metadata": {},
   "outputs": [
    {
     "data": {
      "text/plain": [
       "(3094.6916755786597,\n",
       " 0.0,\n",
       " 1,\n",
       " array([[11709.14285714,  3418.85714286],\n",
       "        [ 3493.85714286,  1020.14285714]]))"
      ]
     },
     "execution_count": 50,
     "metadata": {},
     "output_type": "execute_result"
    }
   ],
   "source": [
    "#Hypothesis Testing\n",
    "ct_drrec = pd.crosstab(df_vac.h1n1_vaccine, df_vac.dr_recc_h1n1_vacc)\n",
    "chi2_contingency(ct_drrec, correction = False)\n",
    "# p_val = 0, Ho reject, hence association exists, good predictor"
   ]
  },
  {
   "cell_type": "code",
   "execution_count": 51,
   "id": "db1bcc9c",
   "metadata": {},
   "outputs": [
    {
     "data": {
      "text/plain": [
       "0.0    13091\n",
       "1.0     6551\n",
       "Name: dr_recc_seasonal_vacc, dtype: int64"
      ]
     },
     "execution_count": 51,
     "metadata": {},
     "output_type": "execute_result"
    }
   ],
   "source": [
    "#_______________ 12 dr_recc_seasonal_vacc [0 and 1]\n",
    "df_vac.dr_recc_seasonal_vacc.isnull().sum() #0 Missing values\n",
    "df_vac.dr_recc_seasonal_vacc.value_counts()"
   ]
  },
  {
   "cell_type": "code",
   "execution_count": 52,
   "id": "95187210",
   "metadata": {},
   "outputs": [
    {
     "data": {
      "text/plain": [
       "Text(0.5, 1.0, 'Barplot of dr_recc_seasonal_vacc')"
      ]
     },
     "execution_count": 52,
     "metadata": {},
     "output_type": "execute_result"
    },
    {
     "data": {
      "image/png": "[encoded data removed]",
      "text/plain": [
       "<Figure size 432x288 with 1 Axes>"
      ]
     },
     "metadata": {
      "needs_background": "light"
     },
     "output_type": "display_data"
    }
   ],
   "source": [
    "# Bar Plot\n",
    "sns.countplot(x = 'dr_recc_seasonal_vacc', data = df_vac , palette = 'mako')\n",
    "plt.title('Barplot of dr_recc_seasonal_vacc')"
   ]
  },
  {
   "cell_type": "code",
   "execution_count": 53,
   "id": "c87c9e05",
   "metadata": {},
   "outputs": [
    {
     "data": {
      "text/plain": [
       "(875.3779473401858,\n",
       " 2.21025047497519e-192,\n",
       " 1,\n",
       " array([[10082.50931677,  5045.49068323],\n",
       "        [ 3008.49068323,  1505.50931677]]))"
      ]
     },
     "execution_count": 53,
     "metadata": {},
     "output_type": "execute_result"
    }
   ],
   "source": [
    "#Hypothesis Testing\n",
    "ct_drseason = pd.crosstab(df_vac.h1n1_vaccine, df_vac.dr_recc_seasonal_vacc)\n",
    "chi2_contingency(ct_drseason, correction = False)\n",
    "# p_val = 2.2e-192, Ho reject, hence association exists, good predictor"
   ]
  },
  {
   "cell_type": "code",
   "execution_count": 54,
   "id": "c975cf6c",
   "metadata": {},
   "outputs": [
    {
     "data": {
      "text/plain": [
       "0.0    14066\n",
       "1.0     5576\n",
       "Name: chronic_medic_condition, dtype: int64"
      ]
     },
     "execution_count": 54,
     "metadata": {},
     "output_type": "execute_result"
    }
   ],
   "source": [
    "#________________________ 13 chronic_medic_condition [0 and 1]\n",
    "df_vac.chronic_medic_condition.isnull().sum() #0 Missing values\n",
    "df_vac.chronic_medic_condition.value_counts() "
   ]
  },
  {
   "cell_type": "code",
   "execution_count": 55,
   "id": "bba46e28",
   "metadata": {},
   "outputs": [
    {
     "data": {
      "text/plain": [
       "Text(0.5, 1.0, 'Barplot of chronic_medic_condition')"
      ]
     },
     "execution_count": 55,
     "metadata": {},
     "output_type": "execute_result"
    },
    {
     "data": {
      "image/png": "[encoded data removed]",
      "text/plain": [
       "<Figure size 432x288 with 1 Axes>"
      ]
     },
     "metadata": {
      "needs_background": "light"
     },
     "output_type": "display_data"
    }
   ],
   "source": [
    "# Bar Plot\n",
    "sns.countplot(x = 'chronic_medic_condition', data = df_vac , palette = 'Dark2')\n",
    "plt.title('Barplot of chronic_medic_condition')"
   ]
  },
  {
   "cell_type": "code",
   "execution_count": 56,
   "id": "970f2d56",
   "metadata": {},
   "outputs": [
    {
     "data": {
      "text/plain": [
       "(219.14944840010486,\n",
       " 1.3864754403096512e-49,\n",
       " 1,\n",
       " array([[10833.44099379,  4294.55900621],\n",
       "        [ 3232.55900621,  1281.44099379]]))"
      ]
     },
     "execution_count": 56,
     "metadata": {},
     "output_type": "execute_result"
    }
   ],
   "source": [
    "#Hypothesis Testing\n",
    "ct_chronic = pd.crosstab(df_vac.h1n1_vaccine, df_vac.chronic_medic_condition)\n",
    "chi2_contingency(ct_chronic, correction = False)\n",
    "# p_val = 1.39e-49, Ho reject, hence association exists, good predictor "
   ]
  },
  {
   "cell_type": "code",
   "execution_count": 57,
   "id": "046d3d15",
   "metadata": {},
   "outputs": [
    {
     "data": {
      "text/plain": [
       "0.0    17995\n",
       "1.0     1647\n",
       "Name: cont_child_undr_6_mnths, dtype: int64"
      ]
     },
     "execution_count": 57,
     "metadata": {},
     "output_type": "execute_result"
    }
   ],
   "source": [
    "#_________________ 14 cont_child_undr_6_mnths [0 and 1]\n",
    "df_vac.cont_child_undr_6_mnths.isnull().sum() #0 Missing values\n",
    "df_vac.cont_child_undr_6_mnths.value_counts()"
   ]
  },
  {
   "cell_type": "code",
   "execution_count": 58,
   "id": "2d5cbd3c",
   "metadata": {},
   "outputs": [
    {
     "data": {
      "text/plain": [
       "Text(0.5, 1.0, 'Barplot of cont_child_undr_6_mnths')"
      ]
     },
     "execution_count": 58,
     "metadata": {},
     "output_type": "execute_result"
    },
    {
     "data": {
      "image/png": "[encoded data removed]",
      "text/plain": [
       "<Figure size 432x288 with 1 Axes>"
      ]
     },
     "metadata": {
      "needs_background": "light"
     },
     "output_type": "display_data"
    }
   ],
   "source": [
    "# Bar Plot\n",
    "sns.countplot(x = 'cont_child_undr_6_mnths', data = df_vac , palette = 'Accent')\n",
    "plt.title('Barplot of cont_child_undr_6_mnths')"
   ]
  },
  {
   "cell_type": "code",
   "execution_count": 59,
   "id": "f1756ce9",
   "metadata": {},
   "outputs": [
    {
     "data": {
      "text/plain": [
       "(110.12378230842235,\n",
       " 9.205896231946304e-26,\n",
       " 1,\n",
       " array([[13859.50310559,  1268.49689441],\n",
       "        [ 4135.49689441,   378.50310559]]))"
      ]
     },
     "execution_count": 59,
     "metadata": {},
     "output_type": "execute_result"
    }
   ],
   "source": [
    "#Hypothesis Testing\n",
    "ct_child = pd.crosstab(df_vac.h1n1_vaccine, df_vac.cont_child_undr_6_mnths)\n",
    "chi2_contingency(ct_child, correction = False)\n",
    "# p_val = 9.2e-26, Ho reject, hence association exists, good predictor"
   ]
  },
  {
   "cell_type": "code",
   "execution_count": 60,
   "id": "c628c7a2",
   "metadata": {},
   "outputs": [
    {
     "data": {
      "text/plain": [
       "0.0    17310\n",
       "1.0     2332\n",
       "Name: is_health_worker, dtype: int64"
      ]
     },
     "execution_count": 60,
     "metadata": {},
     "output_type": "execute_result"
    }
   ],
   "source": [
    "#____________________ 15 is_health_worker [0 and 1]\n",
    "df_vac.is_health_worker.isnull().sum() #0 Missing values\n",
    "df_vac.is_health_worker.value_counts()"
   ]
  },
  {
   "cell_type": "code",
   "execution_count": 61,
   "id": "6e0c17ba",
   "metadata": {},
   "outputs": [
    {
     "data": {
      "text/plain": [
       "Text(0.5, 1.0, 'Countplot of is_health_worker')"
      ]
     },
     "execution_count": 61,
     "metadata": {},
     "output_type": "execute_result"
    },
    {
     "data": {
      "image/png": "[encoded data removed]",
      "text/plain": [
       "<Figure size 432x288 with 1 Axes>"
      ]
     },
     "metadata": {
      "needs_background": "light"
     },
     "output_type": "display_data"
    }
   ],
   "source": [
    "# Bar Plot\n",
    "sns.countplot(x = 'is_health_worker', data = df_vac , palette = 'Set2')\n",
    "plt.title('Countplot of is_health_worker')"
   ]
  },
  {
   "cell_type": "code",
   "execution_count": 62,
   "id": "4f6f475e",
   "metadata": {},
   "outputs": [
    {
     "data": {
      "text/plain": [
       "(690.2288349047097,\n",
       " 3.985927974118901e-152,\n",
       " 1,\n",
       " array([[13331.92546584,  1796.07453416],\n",
       "        [ 3978.07453416,   535.92546584]]))"
      ]
     },
     "execution_count": 62,
     "metadata": {},
     "output_type": "execute_result"
    }
   ],
   "source": [
    "#Hypothesis Testing\n",
    "ct_hw = pd.crosstab(df_vac.h1n1_vaccine, df_vac.is_health_worker)\n",
    "chi2_contingency(ct_hw, correction = False)\n",
    "# p_val = 4e-152, Ho reject, hence association exists, good predictor "
   ]
  },
  {
   "cell_type": "code",
   "execution_count": 63,
   "id": "857095f1",
   "metadata": {},
   "outputs": [
    {
     "data": {
      "text/plain": [
       "Text(0.5, 1.0, 'Histogram of is_h1n1_vacc_effective')"
      ]
     },
     "execution_count": 63,
     "metadata": {},
     "output_type": "execute_result"
    },
    {
     "data": {
      "image/png": "[encoded data removed]",
      "text/plain": [
       "<Figure size 432x288 with 1 Axes>"
      ]
     },
     "metadata": {
      "needs_background": "light"
     },
     "output_type": "display_data"
    }
   ],
   "source": [
    "#____________________ 16 is_h1n1_vacc_effective [1,2,3,4,5] ordered\n",
    "#______histogram\n",
    "#_run in block\n",
    "plt.hist(df_vac.is_h1n1_vacc_effective, bins = 'auto', facecolor = 'red')\n",
    "plt.xlabel('is_h1n1_vacc_effective')\n",
    "plt.ylabel('counts')\n",
    "plt.title('Histogram of is_h1n1_vacc_effective')"
   ]
  },
  {
   "cell_type": "code",
   "execution_count": 64,
   "id": "ce698e86",
   "metadata": {},
   "outputs": [
    {
     "data": {
      "text/plain": [
       "<AxesSubplot:>"
      ]
     },
     "execution_count": 64,
     "metadata": {},
     "output_type": "execute_result"
    },
    {
     "data": {
      "image/png": "[encoded data removed]",
      "text/plain": [
       "<Figure size 432x288 with 1 Axes>"
      ]
     },
     "metadata": {
      "needs_background": "light"
     },
     "output_type": "display_data"
    }
   ],
   "source": [
    "#____boxplot\n",
    "props2 = dict(boxes = 'red', whiskers = 'green', medians = 'black', caps = 'red')\n",
    "df_vac['is_h1n1_vacc_effective'].plot.box(color=props2, patch_artist = True, vert = False)"
   ]
  },
  {
   "cell_type": "code",
   "execution_count": 65,
   "id": "a7946a9f",
   "metadata": {},
   "outputs": [
    {
     "data": {
      "text/plain": [
       "4.0    9172\n",
       "5.0    5715\n",
       "3.0    2838\n",
       "2.0    1347\n",
       "1.0     570\n",
       "Name: is_h1n1_vacc_effective, dtype: int64"
      ]
     },
     "execution_count": 65,
     "metadata": {},
     "output_type": "execute_result"
    }
   ],
   "source": [
    "# few outliers on lower side; IGNORE! \n",
    "df_vac.is_h1n1_vacc_effective.isnull().sum() #0 Missing values\n",
    "df_vac.is_h1n1_vacc_effective.value_counts()"
   ]
  },
  {
   "cell_type": "code",
   "execution_count": 66,
   "id": "b3a67910",
   "metadata": {},
   "outputs": [
    {
     "data": {
      "text/plain": [
       "Text(0.5, 1.0, 'Countplot of is_h1n1_vacc_effective')"
      ]
     },
     "execution_count": 66,
     "metadata": {},
     "output_type": "execute_result"
    },
    {
     "data": {
      "image/png": "[encoded data removed]",
      "text/plain": [
       "<Figure size 432x288 with 1 Axes>"
      ]
     },
     "metadata": {
      "needs_background": "light"
     },
     "output_type": "display_data"
    }
   ],
   "source": [
    "# Bar Plot\n",
    "sns.countplot(x = 'is_h1n1_vacc_effective', data = df_vac , palette = 'Dark2')\n",
    "plt.title('Countplot of is_h1n1_vacc_effective')"
   ]
  },
  {
   "cell_type": "code",
   "execution_count": 67,
   "id": "2203efc0",
   "metadata": {},
   "outputs": [
    {
     "name": "stdout",
     "output_type": "stream",
     "text": [
      "                   df        sum_sq      mean_sq            F  PR(>F)\n",
      "h1n1_vaccine      1.0   1411.109998  1411.109998  1579.950867     0.0\n",
      "Residual      19640.0  17541.178618     0.893135          NaN     NaN\n"
     ]
    }
   ],
   "source": [
    "#Hypothesis Testing\n",
    "import statsmodels.api as sm\n",
    "from statsmodels.formula.api import ols\n",
    "mod = ols('is_h1n1_vacc_effective~ h1n1_vaccine', data = df_vac).fit()\n",
    "aov_table = sm.stats.anova_lm(mod)\n",
    "print(aov_table)\n",
    "#0.0  ie p_value which is <0.05; Ho Reject; Good Predictor\n"
   ]
  },
  {
   "cell_type": "code",
   "execution_count": 68,
   "id": "8bd12ca6",
   "metadata": {},
   "outputs": [
    {
     "data": {
      "text/plain": [
       "Text(0.5, 1.0, 'Histogram of is_h1n1_risky')"
      ]
     },
     "execution_count": 68,
     "metadata": {},
     "output_type": "execute_result"
    },
    {
     "data": {
      "image/png": "[encoded data removed]",
      "text/plain": [
       "<Figure size 432x288 with 1 Axes>"
      ]
     },
     "metadata": {
      "needs_background": "light"
     },
     "output_type": "display_data"
    }
   ],
   "source": [
    "#_______________________ 17 is_h1n1_risky [1,2,3,4,5] ordered\n",
    "#______histogram\n",
    "#_run in block\n",
    "plt.hist(df_vac.is_h1n1_risky, bins = 'auto', facecolor = 'red')\n",
    "plt.xlabel('is_h1n1_risky')\n",
    "plt.ylabel('counts')\n",
    "plt.title('Histogram of is_h1n1_risky')"
   ]
  },
  {
   "cell_type": "code",
   "execution_count": 69,
   "id": "38231c8f",
   "metadata": {},
   "outputs": [
    {
     "data": {
      "text/plain": [
       "<AxesSubplot:>"
      ]
     },
     "execution_count": 69,
     "metadata": {},
     "output_type": "execute_result"
    },
    {
     "data": {
      "image/png": "[encoded data removed]",
      "text/plain": [
       "<Figure size 432x288 with 1 Axes>"
      ]
     },
     "metadata": {
      "needs_background": "light"
     },
     "output_type": "display_data"
    }
   ],
   "source": [
    "#____boxplot\n",
    "props2 = dict(boxes = 'red', whiskers = 'green', medians = 'black', caps = 'red')\n",
    "df_vac['is_h1n1_risky'].plot.box(color=props2, patch_artist = True, vert = False) #No outliers"
   ]
  },
  {
   "cell_type": "code",
   "execution_count": 70,
   "id": "3abaaf05",
   "metadata": {},
   "outputs": [
    {
     "data": {
      "text/plain": [
       "2.0    7691\n",
       "1.0    5881\n",
       "4.0    4184\n",
       "5.0    1348\n",
       "3.0     538\n",
       "Name: is_h1n1_risky, dtype: int64"
      ]
     },
     "execution_count": 70,
     "metadata": {},
     "output_type": "execute_result"
    }
   ],
   "source": [
    "df_vac.is_h1n1_risky.isnull().sum() #0 Missing values\n",
    "df_vac.is_h1n1_risky.value_counts()"
   ]
  },
  {
   "cell_type": "code",
   "execution_count": 71,
   "id": "ab0255d6",
   "metadata": {},
   "outputs": [
    {
     "data": {
      "text/plain": [
       "Text(0.5, 1.0, 'Barplot of is_h1n1_risky')"
      ]
     },
     "execution_count": 71,
     "metadata": {},
     "output_type": "execute_result"
    },
    {
     "data": {
      "image/png": "[encoded data removed]",
      "text/plain": [
       "<Figure size 432x288 with 1 Axes>"
      ]
     },
     "metadata": {
      "needs_background": "light"
     },
     "output_type": "display_data"
    }
   ],
   "source": [
    "# Bar Plot\n",
    "sns.countplot(x = 'is_h1n1_risky', data = df_vac , palette = 'Set1')\n",
    "plt.title('Barplot of is_h1n1_risky')"
   ]
  },
  {
   "cell_type": "code",
   "execution_count": 72,
   "id": "a38f65db",
   "metadata": {},
   "outputs": [
    {
     "name": "stdout",
     "output_type": "stream",
     "text": [
      "                   df        sum_sq      mean_sq            F  PR(>F)\n",
      "h1n1_vaccine      1.0   4134.782428  4134.782428  2838.602067     0.0\n",
      "Residual      19640.0  28608.140543     1.456626          NaN     NaN\n"
     ]
    }
   ],
   "source": [
    "#Hypothesis Testing\n",
    "import statsmodels.api as sm\n",
    "from statsmodels.formula.api import ols\n",
    "mod = ols('is_h1n1_risky ~ h1n1_vaccine', data = df_vac).fit()\n",
    "aov_table = sm.stats.anova_lm(mod)\n",
    "print(aov_table)\n",
    "#0.0  ie p_value is <0.05; Ho Reject; Good Predictor"
   ]
  },
  {
   "cell_type": "code",
   "execution_count": 73,
   "id": "f558238d",
   "metadata": {},
   "outputs": [
    {
     "data": {
      "text/plain": [
       "Text(0.5, 1.0, 'Histogram of sick_from_h1n1_vacc')"
      ]
     },
     "execution_count": 73,
     "metadata": {},
     "output_type": "execute_result"
    },
    {
     "data": {
      "image/png": "[encoded data removed]",
      "text/plain": [
       "<Figure size 432x288 with 1 Axes>"
      ]
     },
     "metadata": {
      "needs_background": "light"
     },
     "output_type": "display_data"
    }
   ],
   "source": [
    "#____________________ 18 sick_from_h1n1_vacc [1,2,3,4,5] ordered \n",
    "#______histogram\n",
    "#_run in block\n",
    "plt.hist(df_vac.sick_from_h1n1_vacc, bins = 'auto', facecolor = 'red')\n",
    "plt.xlabel('sick_from_h1n1_vacc')\n",
    "plt.ylabel('counts')\n",
    "plt.title('Histogram of sick_from_h1n1_vacc')"
   ]
  },
  {
   "cell_type": "code",
   "execution_count": 74,
   "id": "0722cfb8",
   "metadata": {},
   "outputs": [
    {
     "data": {
      "text/plain": [
       "<AxesSubplot:>"
      ]
     },
     "execution_count": 74,
     "metadata": {},
     "output_type": "execute_result"
    },
    {
     "data": {
      "image/png": "[encoded data removed]",
      "text/plain": [
       "<Figure size 432x288 with 1 Axes>"
      ]
     },
     "metadata": {
      "needs_background": "light"
     },
     "output_type": "display_data"
    }
   ],
   "source": [
    "#____boxplot\n",
    "props2 = dict(boxes = 'red', whiskers = 'green', medians = 'black', caps = 'red')\n",
    "df_vac['sick_from_h1n1_vacc'].plot.box(color=props2, patch_artist = True, vert = False) #No outliers"
   ]
  },
  {
   "cell_type": "code",
   "execution_count": 75,
   "id": "89a8eca0",
   "metadata": {},
   "outputs": [
    {
     "data": {
      "text/plain": [
       "2.0    6956\n",
       "1.0    6684\n",
       "4.0    4390\n",
       "5.0    1560\n",
       "3.0      52\n",
       "Name: sick_from_h1n1_vacc, dtype: int64"
      ]
     },
     "execution_count": 75,
     "metadata": {},
     "output_type": "execute_result"
    }
   ],
   "source": [
    "df_vac.sick_from_h1n1_vacc.isnull().sum() #0 Missing values\n",
    "df_vac.sick_from_h1n1_vacc.value_counts() "
   ]
  },
  {
   "cell_type": "code",
   "execution_count": 76,
   "id": "716cf5b1",
   "metadata": {},
   "outputs": [
    {
     "data": {
      "text/plain": [
       "Text(0.5, 1.0, 'Countplot of sick_from_h1n1_vacc')"
      ]
     },
     "execution_count": 76,
     "metadata": {},
     "output_type": "execute_result"
    },
    {
     "data": {
      "image/png": "[encoded data removed]",
      "text/plain": [
       "<Figure size 432x288 with 1 Axes>"
      ]
     },
     "metadata": {
      "needs_background": "light"
     },
     "output_type": "display_data"
    }
   ],
   "source": [
    "# Bar Plot\n",
    "sns.countplot(x = 'sick_from_h1n1_vacc', data = df_vac , palette = 'turbo')\n",
    "plt.title('Countplot of sick_from_h1n1_vacc')\n"
   ]
  },
  {
   "cell_type": "code",
   "execution_count": 77,
   "id": "ae04bf44",
   "metadata": {},
   "outputs": [
    {
     "name": "stdout",
     "output_type": "stream",
     "text": [
      "                   df        sum_sq     mean_sq           F        PR(>F)\n",
      "h1n1_vaccine      1.0    246.018980  246.018980  135.282692  3.623260e-31\n",
      "Residual      19640.0  35716.414988    1.818555         NaN           NaN\n"
     ]
    }
   ],
   "source": [
    "#Hypothesis Testing\n",
    "import statsmodels.api as sm\n",
    "from statsmodels.formula.api import ols\n",
    "mod = ols('sick_from_h1n1_vacc ~ h1n1_vaccine', data = df_vac).fit()\n",
    "aov_table = sm.stats.anova_lm(mod)\n",
    "print(aov_table)\n",
    "#3.62e-31  ie p_value is <0.05; Ho Reject; Good Predictor"
   ]
  },
  {
   "cell_type": "code",
   "execution_count": 78,
   "id": "de218446",
   "metadata": {},
   "outputs": [
    {
     "data": {
      "text/plain": [
       "Text(0.5, 1.0, 'Countplot of is_seas_vacc_effective')"
      ]
     },
     "execution_count": 78,
     "metadata": {},
     "output_type": "execute_result"
    },
    {
     "data": {
      "image/png": "[encoded data removed]",
      "text/plain": [
       "<Figure size 432x288 with 1 Axes>"
      ]
     },
     "metadata": {
      "needs_background": "light"
     },
     "output_type": "display_data"
    }
   ],
   "source": [
    "#_______________ 19 is_seas_vacc_effective [1,2,3,4,5] ordered\n",
    "#______histogram\n",
    "#_run in block\n",
    "plt.hist(df_vac.is_seas_vacc_effective, bins = 'auto', facecolor = 'red')\n",
    "plt.xlabel('is_seas_vacc_effective')\n",
    "plt.ylabel('counts')\n",
    "plt.title('Countplot of is_seas_vacc_effective') "
   ]
  },
  {
   "cell_type": "code",
   "execution_count": 79,
   "id": "2e242eb3",
   "metadata": {},
   "outputs": [
    {
     "data": {
      "text/plain": [
       "<AxesSubplot:>"
      ]
     },
     "execution_count": 79,
     "metadata": {},
     "output_type": "execute_result"
    },
    {
     "data": {
      "image/png": "[encoded data removed]",
      "text/plain": [
       "<Figure size 432x288 with 1 Axes>"
      ]
     },
     "metadata": {
      "needs_background": "light"
     },
     "output_type": "display_data"
    }
   ],
   "source": [
    "#____boxplot\n",
    "props2 = dict(boxes = 'red', whiskers = 'green', medians = 'black', caps = 'red')\n",
    "df_vac['is_seas_vacc_effective'].plot.box(color=props2, patch_artist = True, vert = False) "
   ]
  },
  {
   "cell_type": "code",
   "execution_count": 80,
   "id": "9d8b2c83",
   "metadata": {},
   "outputs": [
    {
     "data": {
      "text/plain": [
       "4.0    8906\n",
       "5.0    7603\n",
       "2.0    1638\n",
       "1.0     822\n",
       "3.0     673\n",
       "Name: is_seas_vacc_effective, dtype: int64"
      ]
     },
     "execution_count": 80,
     "metadata": {},
     "output_type": "execute_result"
    }
   ],
   "source": [
    "df_vac.is_seas_vacc_effective.isnull().sum() #0 Missing values\n",
    "df_vac.is_seas_vacc_effective.value_counts() "
   ]
  },
  {
   "cell_type": "code",
   "execution_count": 81,
   "id": "d68e5924",
   "metadata": {},
   "outputs": [
    {
     "data": {
      "text/plain": [
       "Text(0.5, 1.0, 'Barplot of is_seas_vacc_effective')"
      ]
     },
     "execution_count": 81,
     "metadata": {},
     "output_type": "execute_result"
    },
    {
     "data": {
      "image/png": "[encoded data removed]",
      "text/plain": [
       "<Figure size 432x288 with 1 Axes>"
      ]
     },
     "metadata": {
      "needs_background": "light"
     },
     "output_type": "display_data"
    }
   ],
   "source": [
    "# Bar Plot\n",
    "sns.countplot(x = 'is_seas_vacc_effective', data = df_vac , palette = 'turbo')\n",
    "plt.title('Barplot of is_seas_vacc_effective')"
   ]
  },
  {
   "cell_type": "code",
   "execution_count": 82,
   "id": "ed66f307",
   "metadata": {},
   "outputs": [
    {
     "name": "stdout",
     "output_type": "stream",
     "text": [
      "                   df        sum_sq     mean_sq           F         PR(>F)\n",
      "h1n1_vaccine      1.0    763.264159  763.264159  700.789605  9.196705e-152\n",
      "Residual      19640.0  21390.882466    1.089149         NaN            NaN\n"
     ]
    }
   ],
   "source": [
    "#Hypothesis Testing\n",
    "import statsmodels.api as sm\n",
    "from statsmodels.formula.api import ols\n",
    "mod = ols('is_seas_vacc_effective ~ h1n1_vaccine', data = df_vac).fit()\n",
    "aov_table = sm.stats.anova_lm(mod)\n",
    "print(aov_table)\n",
    "#9.2e-152 ie p_value is <0.05; Ho Reject; Good Predictor"
   ]
  },
  {
   "cell_type": "code",
   "execution_count": 83,
   "id": "8784cf3d",
   "metadata": {},
   "outputs": [
    {
     "name": "stdout",
     "output_type": "stream",
     "text": [
      "<class 'pandas.core.frame.DataFrame'>\n",
      "Int64Index: 19642 entries, 0 to 26706\n",
      "Data columns (total 32 columns):\n",
      " #   Column                     Non-Null Count  Dtype  \n",
      "---  ------                     --------------  -----  \n",
      " 0   h1n1_worry                 19642 non-null  float64\n",
      " 1   h1n1_awareness             19642 non-null  float64\n",
      " 2   antiviral_medication       19642 non-null  float64\n",
      " 3   contact_avoidance          19642 non-null  float64\n",
      " 4   bought_face_mask           19642 non-null  float64\n",
      " 5   wash_hands_frequently      19642 non-null  float64\n",
      " 6   avoid_large_gatherings     19642 non-null  float64\n",
      " 7   reduced_outside_home_cont  19642 non-null  float64\n",
      " 8   avoid_touch_face           19642 non-null  float64\n",
      " 9   dr_recc_h1n1_vacc          19642 non-null  float64\n",
      " 10  dr_recc_seasonal_vacc      19642 non-null  float64\n",
      " 11  chronic_medic_condition    19642 non-null  float64\n",
      " 12  cont_child_undr_6_mnths    19642 non-null  float64\n",
      " 13  is_health_worker           19642 non-null  float64\n",
      " 14  is_h1n1_vacc_effective     19642 non-null  float64\n",
      " 15  is_h1n1_risky              19642 non-null  float64\n",
      " 16  sick_from_h1n1_vacc        19642 non-null  float64\n",
      " 17  is_seas_vacc_effective     19642 non-null  float64\n",
      " 18  is_seas_risky              19642 non-null  float64\n",
      " 19  sick_from_seas_vacc        19642 non-null  float64\n",
      " 20  age_bracket                19642 non-null  object \n",
      " 21  qualification              19642 non-null  object \n",
      " 22  race                       19642 non-null  object \n",
      " 23  sex                        19642 non-null  object \n",
      " 24  income_level               19642 non-null  object \n",
      " 25  marital_status             19642 non-null  object \n",
      " 26  housing_status             19642 non-null  object \n",
      " 27  employment                 19642 non-null  object \n",
      " 28  census_msa                 19642 non-null  object \n",
      " 29  no_of_adults               19642 non-null  float64\n",
      " 30  no_of_children             19642 non-null  float64\n",
      " 31  h1n1_vaccine               19642 non-null  int64  \n",
      "dtypes: float64(22), int64(1), object(9)\n",
      "memory usage: 4.9+ MB\n"
     ]
    }
   ],
   "source": [
    "df_vac.info()"
   ]
  },
  {
   "cell_type": "code",
   "execution_count": 84,
   "id": "9886452a",
   "metadata": {},
   "outputs": [
    {
     "data": {
      "text/plain": [
       "Text(0.5, 1.0, 'Histogram of is_seas_risky')"
      ]
     },
     "execution_count": 84,
     "metadata": {},
     "output_type": "execute_result"
    },
    {
     "data": {
      "image/png": "[encoded data removed]",
      "text/plain": [
       "<Figure size 432x288 with 1 Axes>"
      ]
     },
     "metadata": {
      "needs_background": "light"
     },
     "output_type": "display_data"
    }
   ],
   "source": [
    "#_____________________ 20 is_seas_risky [1,2,3,4,5] ordered \n",
    "#______histogram\n",
    "#_run in block\n",
    "plt.hist(df_vac.is_seas_risky, bins = 'auto', facecolor = 'red')\n",
    "plt.xlabel('is_seas_risky')\n",
    "plt.ylabel('counts')\n",
    "plt.title('Histogram of is_seas_risky') "
   ]
  },
  {
   "cell_type": "code",
   "execution_count": 85,
   "id": "e46fa320",
   "metadata": {},
   "outputs": [
    {
     "data": {
      "text/plain": [
       "2.0    6811\n",
       "4.0    5984\n",
       "1.0    4258\n",
       "5.0    2286\n",
       "3.0     303\n",
       "Name: is_seas_risky, dtype: int64"
      ]
     },
     "execution_count": 85,
     "metadata": {},
     "output_type": "execute_result"
    },
    {
     "data": {
      "image/png": "[encoded data removed]",
      "text/plain": [
       "<Figure size 432x288 with 1 Axes>"
      ]
     },
     "metadata": {
      "needs_background": "light"
     },
     "output_type": "display_data"
    }
   ],
   "source": [
    "#____boxplot\n",
    "props2 = dict(boxes = 'red', whiskers = 'green', medians = 'black', caps = 'red')\n",
    "df_vac['is_seas_risky'].plot.box(color=props2, patch_artist = True, vert = False) \n",
    "# no outliers \n",
    "df_vac.is_seas_risky.isnull().sum() #0 Missing values\n",
    "df_vac.is_seas_risky.value_counts() "
   ]
  },
  {
   "cell_type": "code",
   "execution_count": 86,
   "id": "23746c9e",
   "metadata": {},
   "outputs": [
    {
     "data": {
      "text/plain": [
       "Text(0.5, 1.0, 'Barplot of is_seas_risky')"
      ]
     },
     "execution_count": 86,
     "metadata": {},
     "output_type": "execute_result"
    },
    {
     "data": {
      "image/png": "[encoded data removed]",
      "text/plain": [
       "<Figure size 432x288 with 1 Axes>"
      ]
     },
     "metadata": {
      "needs_background": "light"
     },
     "output_type": "display_data"
    }
   ],
   "source": [
    "# Bar Plot\n",
    "sns.countplot(x = 'is_seas_risky', data = df_vac , palette = 'turbo')\n",
    "plt.title('Barplot of is_seas_risky')"
   ]
  },
  {
   "cell_type": "code",
   "execution_count": 87,
   "id": "8cdb7b76",
   "metadata": {},
   "outputs": [
    {
     "name": "stdout",
     "output_type": "stream",
     "text": [
      "                   df        sum_sq      mean_sq            F  PR(>F)\n",
      "h1n1_vaccine      1.0   2938.840524  2938.840524  1655.101131     0.0\n",
      "Residual      19640.0  34873.293730     1.775626          NaN     NaN\n"
     ]
    }
   ],
   "source": [
    "#Hypothesis Testing\n",
    "import statsmodels.api as sm\n",
    "from statsmodels.formula.api import ols\n",
    "mod = ols('is_seas_risky ~ h1n1_vaccine', data = df_vac).fit()\n",
    "aov_table = sm.stats.anova_lm(mod)\n",
    "print(aov_table)\n",
    "#0.0 ie p_value which is <0.05; Ho Reject; Good Predictor"
   ]
  },
  {
   "cell_type": "code",
   "execution_count": 88,
   "id": "dbdbea7b",
   "metadata": {},
   "outputs": [
    {
     "data": {
      "text/plain": [
       "Text(0.5, 1.0, 'Histogram of sick_from_seas_vacc')"
      ]
     },
     "execution_count": 88,
     "metadata": {},
     "output_type": "execute_result"
    },
    {
     "data": {
      "image/png": "[encoded data removed]",
      "text/plain": [
       "<Figure size 432x288 with 1 Axes>"
      ]
     },
     "metadata": {
      "needs_background": "light"
     },
     "output_type": "display_data"
    }
   ],
   "source": [
    "#___________________ 21 sick_from_seas_vacc [1,2,3,4,5] ordered\n",
    "#______histogram\n",
    "#_run in block\n",
    "plt.hist(df_vac.sick_from_seas_vacc, bins = 'auto', facecolor = 'red')\n",
    "plt.xlabel('sick_from_seas_vacc')\n",
    "plt.ylabel('counts')\n",
    "plt.title('Histogram of sick_from_seas_vacc')"
   ]
  },
  {
   "cell_type": "code",
   "execution_count": 89,
   "id": "f9bc49cc",
   "metadata": {},
   "outputs": [
    {
     "data": {
      "text/plain": [
       "<AxesSubplot:>"
      ]
     },
     "execution_count": 89,
     "metadata": {},
     "output_type": "execute_result"
    },
    {
     "data": {
      "image/png": "[encoded data removed]",
      "text/plain": [
       "<Figure size 432x288 with 1 Axes>"
      ]
     },
     "metadata": {
      "needs_background": "light"
     },
     "output_type": "display_data"
    }
   ],
   "source": [
    "#____boxplot\n",
    "props2 = dict(boxes = 'red', whiskers = 'green', medians = 'black', caps = 'red')\n",
    "df_vac['sick_from_seas_vacc'].plot.box(color=props2, patch_artist = True, vert = False) #No outliers\n"
   ]
  },
  {
   "cell_type": "code",
   "execution_count": 90,
   "id": "a4875116",
   "metadata": {},
   "outputs": [
    {
     "data": {
      "text/plain": [
       "1.0    8996\n",
       "2.0    5713\n",
       "4.0    3683\n",
       "5.0    1221\n",
       "3.0      29\n",
       "Name: sick_from_seas_vacc, dtype: int64"
      ]
     },
     "execution_count": 90,
     "metadata": {},
     "output_type": "execute_result"
    }
   ],
   "source": [
    "df_vac.sick_from_seas_vacc.isnull().sum() #0 Missing values\n",
    "df_vac.sick_from_seas_vacc.value_counts() "
   ]
  },
  {
   "cell_type": "code",
   "execution_count": 91,
   "id": "7b75fadb",
   "metadata": {},
   "outputs": [
    {
     "data": {
      "text/plain": [
       "Text(0.5, 1.0, 'Barplot of sick_from_seas_vacc')"
      ]
     },
     "execution_count": 91,
     "metadata": {},
     "output_type": "execute_result"
    },
    {
     "data": {
      "image/png": "[encoded data removed]",
      "text/plain": [
       "<Figure size 432x288 with 1 Axes>"
      ]
     },
     "metadata": {
      "needs_background": "light"
     },
     "output_type": "display_data"
    }
   ],
   "source": [
    "# Bar Plot\n",
    "sns.countplot(x = 'sick_from_seas_vacc', data = df_vac , palette = 'turbo')\n",
    "plt.title('Barplot of sick_from_seas_vacc')"
   ]
  },
  {
   "cell_type": "code",
   "execution_count": 94,
   "id": "19d4c4dc",
   "metadata": {},
   "outputs": [
    {
     "name": "stdout",
     "output_type": "stream",
     "text": [
      "                   df        sum_sq   mean_sq         F    PR(>F)\n",
      "h1n1_vaccine      1.0      1.496253  1.496253  0.851088  0.356256\n",
      "Residual      19640.0  34528.036789  1.758047       NaN       NaN\n"
     ]
    }
   ],
   "source": [
    "#Hypothesis Testing\n",
    "import statsmodels.api as sm\n",
    "from statsmodels.formula.api import ols\n",
    "mod = ols('sick_from_seas_vacc ~ h1n1_vaccine', data = df_vac).fit()\n",
    "aov_table = sm.stats.anova_lm(mod)\n",
    "print(aov_table)\n",
    "#0.36 ie p_value is >0.05; Ho accepted; Bad Predictor\n"
   ]
  },
  {
   "cell_type": "code",
   "execution_count": 95,
   "id": "0803c11f",
   "metadata": {},
   "outputs": [
    {
     "name": "stderr",
     "output_type": "stream",
     "text": [
      "C:\\Users\\Pallavi_P\\AppData\\Local\\Temp\\ipykernel_13448\\2086898981.py:1: SettingWithCopyWarning: \n",
      "A value is trying to be set on a copy of a slice from a DataFrame.\n",
      "Try using .loc[row_indexer,col_indexer] = value instead\n",
      "\n",
      "See the caveats in the documentation: https://pandas.pydata.org/pandas-docs/stable/user_guide/indexing.html#returning-a-view-versus-a-copy\n",
      "  df_vac['age_bracket'] =df_vac.get('age_bracket').replace('65+ Years', 5)\n",
      "C:\\Users\\Pallavi_P\\AppData\\Local\\Temp\\ipykernel_13448\\2086898981.py:2: SettingWithCopyWarning: \n",
      "A value is trying to be set on a copy of a slice from a DataFrame.\n",
      "Try using .loc[row_indexer,col_indexer] = value instead\n",
      "\n",
      "See the caveats in the documentation: https://pandas.pydata.org/pandas-docs/stable/user_guide/indexing.html#returning-a-view-versus-a-copy\n",
      "  df_vac['age_bracket'] =df_vac.get('age_bracket').replace('55 - 64 Years', 4)\n",
      "C:\\Users\\Pallavi_P\\AppData\\Local\\Temp\\ipykernel_13448\\2086898981.py:3: SettingWithCopyWarning: \n",
      "A value is trying to be set on a copy of a slice from a DataFrame.\n",
      "Try using .loc[row_indexer,col_indexer] = value instead\n",
      "\n",
      "See the caveats in the documentation: https://pandas.pydata.org/pandas-docs/stable/user_guide/indexing.html#returning-a-view-versus-a-copy\n",
      "  df_vac['age_bracket'] =df_vac.get('age_bracket').replace('45 - 54 Years', 3)\n",
      "C:\\Users\\Pallavi_P\\AppData\\Local\\Temp\\ipykernel_13448\\2086898981.py:4: SettingWithCopyWarning: \n",
      "A value is trying to be set on a copy of a slice from a DataFrame.\n",
      "Try using .loc[row_indexer,col_indexer] = value instead\n",
      "\n",
      "See the caveats in the documentation: https://pandas.pydata.org/pandas-docs/stable/user_guide/indexing.html#returning-a-view-versus-a-copy\n",
      "  df_vac['age_bracket'] =df_vac.get('age_bracket').replace('18 - 34 Years', 1)\n",
      "C:\\Users\\Pallavi_P\\AppData\\Local\\Temp\\ipykernel_13448\\2086898981.py:5: SettingWithCopyWarning: \n",
      "A value is trying to be set on a copy of a slice from a DataFrame.\n",
      "Try using .loc[row_indexer,col_indexer] = value instead\n",
      "\n",
      "See the caveats in the documentation: https://pandas.pydata.org/pandas-docs/stable/user_guide/indexing.html#returning-a-view-versus-a-copy\n",
      "  df_vac['age_bracket'] =df_vac.get('age_bracket').replace('35 - 44 Years', 2)\n"
     ]
    }
   ],
   "source": [
    "\n",
    "df_vac['age_bracket'] =df_vac.get('age_bracket').replace('65+ Years', 5)\n",
    "df_vac['age_bracket'] =df_vac.get('age_bracket').replace('55 - 64 Years', 4)\n",
    "df_vac['age_bracket'] =df_vac.get('age_bracket').replace('45 - 54 Years', 3)\n",
    "df_vac['age_bracket'] =df_vac.get('age_bracket').replace('18 - 34 Years', 1)\n",
    "df_vac['age_bracket'] =df_vac.get('age_bracket').replace('35 - 44 Years', 2)\n",
    "# ignore warnings ! \n",
    "\n"
   ]
  },
  {
   "cell_type": "code",
   "execution_count": 96,
   "id": "cc41a46e",
   "metadata": {},
   "outputs": [
    {
     "data": {
      "text/plain": [
       "5    4491\n",
       "4    4234\n",
       "3    4038\n",
       "1    3925\n",
       "2    2954\n",
       "Name: age_bracket, dtype: int64"
      ]
     },
     "execution_count": 96,
     "metadata": {},
     "output_type": "execute_result"
    }
   ],
   "source": [
    "df_vac.age_bracket.isnull().sum()\n",
    "df_vac.age_bracket.value_counts()"
   ]
  },
  {
   "cell_type": "code",
   "execution_count": 97,
   "id": "f6a88a72",
   "metadata": {},
   "outputs": [
    {
     "data": {
      "text/plain": [
       "<AxesSubplot:>"
      ]
     },
     "execution_count": 97,
     "metadata": {},
     "output_type": "execute_result"
    },
    {
     "data": {
      "image/png": "[encoded data removed]",
      "text/plain": [
       "<Figure size 432x288 with 1 Axes>"
      ]
     },
     "metadata": {
      "needs_background": "light"
     },
     "output_type": "display_data"
    }
   ],
   "source": [
    "# now boxplot will come\n",
    "props2 = dict(boxes = 'red', whiskers = 'green', medians = 'black', caps = 'red')\n",
    "df_vac['age_bracket'].plot.box(color=props2, patch_artist = True, vert = False) #No outliers"
   ]
  },
  {
   "cell_type": "code",
   "execution_count": 98,
   "id": "b082e887",
   "metadata": {},
   "outputs": [],
   "source": [
    "#__________________________we could have followed a more easier way! \n",
    "# label encoding the data ; its good for nominal data , not good for ordered data\n",
    "# like in our present case!\n",
    "# DO NOT TRY AS IT HAS ALREAY BEING DONE !!!!\n",
    "from sklearn.preprocessing import LabelEncoder \n",
    "le = LabelEncoder() \n",
    "  "
   ]
  },
  {
   "cell_type": "code",
   "execution_count": 99,
   "id": "2de785a2",
   "metadata": {},
   "outputs": [
    {
     "data": {
      "text/plain": [
       "5    4491\n",
       "4    4234\n",
       "3    4038\n",
       "1    3925\n",
       "2    2954\n",
       "Name: age_bracket, dtype: int64"
      ]
     },
     "execution_count": 99,
     "metadata": {},
     "output_type": "execute_result"
    }
   ],
   "source": [
    "#df_vac['age_bracket']= le.fit_transform(df_vac['age_bracket']) \n",
    "df_vac.age_bracket.value_counts()"
   ]
  },
  {
   "cell_type": "code",
   "execution_count": 100,
   "id": "39233002",
   "metadata": {},
   "outputs": [
    {
     "data": {
      "text/plain": [
       "Text(0.5, 1.0, 'Barplot of age_bracket')"
      ]
     },
     "execution_count": 100,
     "metadata": {},
     "output_type": "execute_result"
    },
    {
     "data": {
      "image/png": "[encoded data removed]",
      "text/plain": [
       "<Figure size 432x288 with 1 Axes>"
      ]
     },
     "metadata": {
      "needs_background": "light"
     },
     "output_type": "display_data"
    }
   ],
   "source": [
    "# Bar Plot\n",
    "sns.countplot(x = 'age_bracket', data = df_vac , palette = 'Dark2')\n",
    "plt.title('Barplot of age_bracket')"
   ]
  },
  {
   "cell_type": "code",
   "execution_count": 101,
   "id": "6127535e",
   "metadata": {},
   "outputs": [
    {
     "name": "stdout",
     "output_type": "stream",
     "text": [
      "                   df        sum_sq    mean_sq          F        PR(>F)\n",
      "h1n1_vaccine      1.0     84.712087  84.712087  41.109469  1.472151e-10\n",
      "Residual      19640.0  40471.098931   2.060647        NaN           NaN\n"
     ]
    }
   ],
   "source": [
    "#Hypothesis Testing\n",
    "import statsmodels.api as sm\n",
    "from statsmodels.formula.api import ols\n",
    "mod = ols('age_bracket ~ h1n1_vaccine', data = df_vac).fit()\n",
    "aov_table = sm.stats.anova_lm(mod)\n",
    "print(aov_table)\n",
    "#1.5e-10 ie p_value is <0.05; Ho rejected; Good Predictor"
   ]
  },
  {
   "cell_type": "code",
   "execution_count": 102,
   "id": "3bcf25f8",
   "metadata": {},
   "outputs": [
    {
     "data": {
      "text/plain": [
       "College Graduate    8165\n",
       "Some College        5570\n",
       "12 Years            4287\n",
       "< 12 Years          1620\n",
       "Name: qualification, dtype: int64"
      ]
     },
     "execution_count": 102,
     "metadata": {},
     "output_type": "execute_result"
    }
   ],
   "source": [
    "#__________________ 23 qualification - object, Actually ordered! 3 levels\n",
    "df_vac.qualification.isnull().sum() \n",
    "df_vac.qualification.value_counts()"
   ]
  },
  {
   "cell_type": "code",
   "execution_count": 103,
   "id": "ce36e874",
   "metadata": {},
   "outputs": [
    {
     "name": "stderr",
     "output_type": "stream",
     "text": [
      "C:\\Users\\Pallavi_P\\AppData\\Local\\Temp\\ipykernel_13448\\3913644751.py:2: SettingWithCopyWarning: \n",
      "A value is trying to be set on a copy of a slice from a DataFrame.\n",
      "Try using .loc[row_indexer,col_indexer] = value instead\n",
      "\n",
      "See the caveats in the documentation: https://pandas.pydata.org/pandas-docs/stable/user_guide/indexing.html#returning-a-view-versus-a-copy\n",
      "  df_vac['qualification'] =df_vac.get('qualification').replace('College Graduate', 4)\n",
      "C:\\Users\\Pallavi_P\\AppData\\Local\\Temp\\ipykernel_13448\\3913644751.py:3: SettingWithCopyWarning: \n",
      "A value is trying to be set on a copy of a slice from a DataFrame.\n",
      "Try using .loc[row_indexer,col_indexer] = value instead\n",
      "\n",
      "See the caveats in the documentation: https://pandas.pydata.org/pandas-docs/stable/user_guide/indexing.html#returning-a-view-versus-a-copy\n",
      "  df_vac['qualification'] =df_vac.get('qualification').replace('Some College', 3)\n",
      "C:\\Users\\Pallavi_P\\AppData\\Local\\Temp\\ipykernel_13448\\3913644751.py:4: SettingWithCopyWarning: \n",
      "A value is trying to be set on a copy of a slice from a DataFrame.\n",
      "Try using .loc[row_indexer,col_indexer] = value instead\n",
      "\n",
      "See the caveats in the documentation: https://pandas.pydata.org/pandas-docs/stable/user_guide/indexing.html#returning-a-view-versus-a-copy\n",
      "  df_vac['qualification'] =df_vac.get('qualification').replace('12 Years', 2)\n",
      "C:\\Users\\Pallavi_P\\AppData\\Local\\Temp\\ipykernel_13448\\3913644751.py:5: SettingWithCopyWarning: \n",
      "A value is trying to be set on a copy of a slice from a DataFrame.\n",
      "Try using .loc[row_indexer,col_indexer] = value instead\n",
      "\n",
      "See the caveats in the documentation: https://pandas.pydata.org/pandas-docs/stable/user_guide/indexing.html#returning-a-view-versus-a-copy\n",
      "  df_vac['qualification'] =df_vac.get('qualification').replace('< 12 Years', 1)\n"
     ]
    }
   ],
   "source": [
    "# let's put them in order\n",
    "df_vac['qualification'] =df_vac.get('qualification').replace('College Graduate', 4)\n",
    "df_vac['qualification'] =df_vac.get('qualification').replace('Some College', 3)\n",
    "df_vac['qualification'] =df_vac.get('qualification').replace('12 Years', 2)\n",
    "df_vac['qualification'] =df_vac.get('qualification').replace('< 12 Years', 1)\n"
   ]
  },
  {
   "cell_type": "code",
   "execution_count": 104,
   "id": "afa8f51a",
   "metadata": {},
   "outputs": [
    {
     "data": {
      "text/plain": [
       "4    8165\n",
       "3    5570\n",
       "2    4287\n",
       "1    1620\n",
       "Name: qualification, dtype: int64"
      ]
     },
     "execution_count": 104,
     "metadata": {},
     "output_type": "execute_result"
    }
   ],
   "source": [
    "df_vac.qualification.value_counts()"
   ]
  },
  {
   "cell_type": "code",
   "execution_count": 105,
   "id": "1b5197a7",
   "metadata": {},
   "outputs": [
    {
     "data": {
      "text/plain": [
       "Text(0.5, 1.0, 'Barplot of qualification')"
      ]
     },
     "execution_count": 105,
     "metadata": {},
     "output_type": "execute_result"
    },
    {
     "data": {
      "image/png": "[encoded data removed]",
      "text/plain": [
       "<Figure size 432x288 with 1 Axes>"
      ]
     },
     "metadata": {
      "needs_background": "light"
     },
     "output_type": "display_data"
    }
   ],
   "source": [
    "# Bar Plot\n",
    "sns.countplot(x = 'qualification', data = df_vac , palette = 'Set2')\n",
    "plt.title('Barplot of qualification')"
   ]
  },
  {
   "cell_type": "code",
   "execution_count": 106,
   "id": "65898cec",
   "metadata": {},
   "outputs": [
    {
     "name": "stdout",
     "output_type": "stream",
     "text": [
      "                   df        sum_sq    mean_sq          F        PR(>F)\n",
      "h1n1_vaccine      1.0     91.618704  91.618704  95.612329  1.572981e-22\n",
      "Residual      19640.0  18819.658151   0.958231        NaN           NaN\n"
     ]
    }
   ],
   "source": [
    "#Hypothesis Testing\n",
    "import statsmodels.api as sm\n",
    "from statsmodels.formula.api import ols\n",
    "mod = ols('qualification ~ h1n1_vaccine', data = df_vac).fit()\n",
    "aov_table = sm.stats.anova_lm(mod)\n",
    "print(aov_table)\n",
    "#1.57e-22 ie p_value is <0.05; Ho rejected; Good Predictor"
   ]
  },
  {
   "cell_type": "code",
   "execution_count": 107,
   "id": "3897c4c2",
   "metadata": {},
   "outputs": [
    {
     "data": {
      "text/plain": [
       "White                15745\n",
       "Black                 1474\n",
       "Hispanic              1295\n",
       "Other or Multiple     1128\n",
       "Name: race, dtype: int64"
      ]
     },
     "execution_count": 107,
     "metadata": {},
     "output_type": "execute_result"
    }
   ],
   "source": [
    "#_________________ 24 race - object [NO ORDER, NOMINAL]; 4 levels\n",
    "df_vac.race.isnull().sum() #No Missing values\n",
    "df_vac.race.value_counts() "
   ]
  },
  {
   "cell_type": "code",
   "execution_count": 108,
   "id": "269e66ce",
   "metadata": {},
   "outputs": [],
   "source": [
    "# label encoding 'race' ; does alphabetically! \n",
    "# HERE WE CAN USE LabelEncoder!\n",
    "from sklearn.preprocessing import LabelEncoder \n",
    "le = LabelEncoder() "
   ]
  },
  {
   "cell_type": "code",
   "execution_count": 109,
   "id": "cbc032fe",
   "metadata": {},
   "outputs": [
    {
     "name": "stderr",
     "output_type": "stream",
     "text": [
      "C:\\Users\\Pallavi_P\\AppData\\Local\\Temp\\ipykernel_13448\\276460331.py:1: SettingWithCopyWarning: \n",
      "A value is trying to be set on a copy of a slice from a DataFrame.\n",
      "Try using .loc[row_indexer,col_indexer] = value instead\n",
      "\n",
      "See the caveats in the documentation: https://pandas.pydata.org/pandas-docs/stable/user_guide/indexing.html#returning-a-view-versus-a-copy\n",
      "  df_vac['race']= le.fit_transform(df_vac['race'])\n"
     ]
    },
    {
     "data": {
      "text/plain": [
       "3    15745\n",
       "0     1474\n",
       "1     1295\n",
       "2     1128\n",
       "Name: race, dtype: int64"
      ]
     },
     "execution_count": 109,
     "metadata": {},
     "output_type": "execute_result"
    }
   ],
   "source": [
    "df_vac['race']= le.fit_transform(df_vac['race']) \n",
    "df_vac.race.value_counts()"
   ]
  },
  {
   "cell_type": "code",
   "execution_count": 110,
   "id": "a03b5af3",
   "metadata": {},
   "outputs": [
    {
     "data": {
      "text/plain": [
       "Text(0.5, 1.0, 'Countplot of race')"
      ]
     },
     "execution_count": 110,
     "metadata": {},
     "output_type": "execute_result"
    },
    {
     "data": {
      "image/png": "[encoded data removed]",
      "text/plain": [
       "<Figure size 432x288 with 1 Axes>"
      ]
     },
     "metadata": {
      "needs_background": "light"
     },
     "output_type": "display_data"
    }
   ],
   "source": [
    "# Bar Plot\n",
    "sns.countplot(x = 'race', data = df_vac , palette = 'Dark2')\n",
    "plt.title('Countplot of race')\n"
   ]
  },
  {
   "cell_type": "code",
   "execution_count": 111,
   "id": "32fbba77",
   "metadata": {},
   "outputs": [
    {
     "data": {
      "text/plain": [
       "(47.734514060409225,\n",
       " 2.425304962460163e-10,\n",
       " 3,\n",
       " array([[ 1135.25465839,   997.39130435,   868.77018634, 12126.58385093],\n",
       "        [  338.74534161,   297.60869565,   259.22981366,  3618.41614907]]))"
      ]
     },
     "execution_count": 111,
     "metadata": {},
     "output_type": "execute_result"
    }
   ],
   "source": [
    "#Hypothesis Testing\n",
    "from scipy.stats import chi2_contingency\n",
    "ct_race = pd.crosstab(df_vac.h1n1_vaccine, df_vac.race)\n",
    "chi2_contingency(ct_race, correction = False)\n",
    "# p_val = 2.4e-10, Ho reject, hence association exists, good predictor \n"
   ]
  },
  {
   "cell_type": "code",
   "execution_count": 112,
   "id": "0a9c22cc",
   "metadata": {},
   "outputs": [
    {
     "data": {
      "text/plain": [
       "Female    11638\n",
       "Male       8004\n",
       "Name: sex, dtype: int64"
      ]
     },
     "execution_count": 112,
     "metadata": {},
     "output_type": "execute_result"
    }
   ],
   "source": [
    "#___________________ 25 sex - object [female, male]\n",
    "df_vac.sex.isnull().sum() #No Missing values\n",
    "df_vac.sex.value_counts()"
   ]
  },
  {
   "cell_type": "code",
   "execution_count": 113,
   "id": "34523fd0",
   "metadata": {},
   "outputs": [],
   "source": [
    "# label encoding the data \n",
    "from sklearn.preprocessing import LabelEncoder \n",
    "le = LabelEncoder()"
   ]
  },
  {
   "cell_type": "code",
   "execution_count": 114,
   "id": "ff21fc5c",
   "metadata": {},
   "outputs": [
    {
     "name": "stderr",
     "output_type": "stream",
     "text": [
      "C:\\Users\\Pallavi_P\\AppData\\Local\\Temp\\ipykernel_13448\\1151057439.py:1: SettingWithCopyWarning: \n",
      "A value is trying to be set on a copy of a slice from a DataFrame.\n",
      "Try using .loc[row_indexer,col_indexer] = value instead\n",
      "\n",
      "See the caveats in the documentation: https://pandas.pydata.org/pandas-docs/stable/user_guide/indexing.html#returning-a-view-versus-a-copy\n",
      "  df_vac['sex']= le.fit_transform(df_vac['sex'])\n"
     ]
    },
    {
     "data": {
      "text/plain": [
       "0    11638\n",
       "1     8004\n",
       "Name: sex, dtype: int64"
      ]
     },
     "execution_count": 114,
     "metadata": {},
     "output_type": "execute_result"
    }
   ],
   "source": [
    "df_vac['sex']= le.fit_transform(df_vac['sex']) \n",
    "df_vac.sex.value_counts()"
   ]
  },
  {
   "cell_type": "code",
   "execution_count": 115,
   "id": "a5e8abf7",
   "metadata": {},
   "outputs": [
    {
     "data": {
      "text/plain": [
       "Text(0.5, 1.0, 'Countplot of sex')"
      ]
     },
     "execution_count": 115,
     "metadata": {},
     "output_type": "execute_result"
    },
    {
     "data": {
      "image/png": "[encoded data removed]",
      "text/plain": [
       "<Figure size 432x288 with 1 Axes>"
      ]
     },
     "metadata": {
      "needs_background": "light"
     },
     "output_type": "display_data"
    }
   ],
   "source": [
    "# Bar Plot\n",
    "sns.countplot(x = 'sex', data = df_vac , palette = 'Set1')\n",
    "plt.title('Countplot of sex')"
   ]
  },
  {
   "cell_type": "code",
   "execution_count": 116,
   "id": "7c1325a1",
   "metadata": {},
   "outputs": [
    {
     "data": {
      "text/plain": [
       "(12.498872792045749,\n",
       " 0.0004071976301199202,\n",
       " 1,\n",
       " array([[8963.42857143, 6164.57142857],\n",
       "        [2674.57142857, 1839.42857143]]))"
      ]
     },
     "execution_count": 116,
     "metadata": {},
     "output_type": "execute_result"
    }
   ],
   "source": [
    "#Hypothesis Testing\n",
    "from scipy.stats import chi2_contingency\n",
    "ct_sex = pd.crosstab(df_vac.h1n1_vaccine, df_vac.sex)\n",
    "chi2_contingency(ct_sex, correction = False)\n",
    "# p_val = 00, Ho reject, hence association exists, good predictor "
   ]
  },
  {
   "cell_type": "code",
   "execution_count": 117,
   "id": "e13390a6",
   "metadata": {},
   "outputs": [
    {
     "data": {
      "text/plain": [
       "<= $75,000, Above Poverty    11185\n",
       "> $75,000                     6159\n",
       "Below Poverty                 2298\n",
       "Name: income_level, dtype: int64"
      ]
     },
     "execution_count": 117,
     "metadata": {},
     "output_type": "execute_result"
    }
   ],
   "source": [
    "#______________ 26 income_level - object, its ordered\n",
    "df_vac.income_level.isnull().sum() # no missing values \n",
    "df_vac.income_level.value_counts()"
   ]
  },
  {
   "cell_type": "code",
   "execution_count": 118,
   "id": "26a20c82",
   "metadata": {},
   "outputs": [
    {
     "name": "stderr",
     "output_type": "stream",
     "text": [
      "C:\\Users\\Pallavi_P\\AppData\\Local\\Temp\\ipykernel_13448\\2390358693.py:2: SettingWithCopyWarning: \n",
      "A value is trying to be set on a copy of a slice from a DataFrame.\n",
      "Try using .loc[row_indexer,col_indexer] = value instead\n",
      "\n",
      "See the caveats in the documentation: https://pandas.pydata.org/pandas-docs/stable/user_guide/indexing.html#returning-a-view-versus-a-copy\n",
      "  df_vac['income_level']=df_vac.get('income_level').replace('Below Poverty', 1)\n",
      "C:\\Users\\Pallavi_P\\AppData\\Local\\Temp\\ipykernel_13448\\2390358693.py:3: SettingWithCopyWarning: \n",
      "A value is trying to be set on a copy of a slice from a DataFrame.\n",
      "Try using .loc[row_indexer,col_indexer] = value instead\n",
      "\n",
      "See the caveats in the documentation: https://pandas.pydata.org/pandas-docs/stable/user_guide/indexing.html#returning-a-view-versus-a-copy\n",
      "  df_vac['income_level']=df_vac.get('income_level').replace('<= $75,000, Above Poverty', 2)\n",
      "C:\\Users\\Pallavi_P\\AppData\\Local\\Temp\\ipykernel_13448\\2390358693.py:4: SettingWithCopyWarning: \n",
      "A value is trying to be set on a copy of a slice from a DataFrame.\n",
      "Try using .loc[row_indexer,col_indexer] = value instead\n",
      "\n",
      "See the caveats in the documentation: https://pandas.pydata.org/pandas-docs/stable/user_guide/indexing.html#returning-a-view-versus-a-copy\n",
      "  df_vac['income_level']=df_vac.get('income_level').replace('> $75,000', 3)\n"
     ]
    }
   ],
   "source": [
    "#Converting to numeric/ integer\n",
    "df_vac['income_level']=df_vac.get('income_level').replace('Below Poverty', 1)\n",
    "df_vac['income_level']=df_vac.get('income_level').replace('<= $75,000, Above Poverty', 2)\n",
    "df_vac['income_level']=df_vac.get('income_level').replace('> $75,000', 3)\n"
   ]
  },
  {
   "cell_type": "code",
   "execution_count": 119,
   "id": "933187e1",
   "metadata": {},
   "outputs": [
    {
     "data": {
      "text/plain": [
       "2    11185\n",
       "3     6159\n",
       "1     2298\n",
       "Name: income_level, dtype: int64"
      ]
     },
     "execution_count": 119,
     "metadata": {},
     "output_type": "execute_result"
    }
   ],
   "source": [
    "df_vac.income_level.value_counts()"
   ]
  },
  {
   "cell_type": "code",
   "execution_count": 120,
   "id": "bc349ed6",
   "metadata": {},
   "outputs": [
    {
     "name": "stdout",
     "output_type": "stream",
     "text": [
      "<class 'pandas.core.frame.DataFrame'>\n",
      "Int64Index: 19642 entries, 0 to 26706\n",
      "Data columns (total 32 columns):\n",
      " #   Column                     Non-Null Count  Dtype  \n",
      "---  ------                     --------------  -----  \n",
      " 0   h1n1_worry                 19642 non-null  float64\n",
      " 1   h1n1_awareness             19642 non-null  float64\n",
      " 2   antiviral_medication       19642 non-null  float64\n",
      " 3   contact_avoidance          19642 non-null  float64\n",
      " 4   bought_face_mask           19642 non-null  float64\n",
      " 5   wash_hands_frequently      19642 non-null  float64\n",
      " 6   avoid_large_gatherings     19642 non-null  float64\n",
      " 7   reduced_outside_home_cont  19642 non-null  float64\n",
      " 8   avoid_touch_face           19642 non-null  float64\n",
      " 9   dr_recc_h1n1_vacc          19642 non-null  float64\n",
      " 10  dr_recc_seasonal_vacc      19642 non-null  float64\n",
      " 11  chronic_medic_condition    19642 non-null  float64\n",
      " 12  cont_child_undr_6_mnths    19642 non-null  float64\n",
      " 13  is_health_worker           19642 non-null  float64\n",
      " 14  is_h1n1_vacc_effective     19642 non-null  float64\n",
      " 15  is_h1n1_risky              19642 non-null  float64\n",
      " 16  sick_from_h1n1_vacc        19642 non-null  float64\n",
      " 17  is_seas_vacc_effective     19642 non-null  float64\n",
      " 18  is_seas_risky              19642 non-null  float64\n",
      " 19  sick_from_seas_vacc        19642 non-null  float64\n",
      " 20  age_bracket                19642 non-null  int64  \n",
      " 21  qualification              19642 non-null  int64  \n",
      " 22  race                       19642 non-null  int32  \n",
      " 23  sex                        19642 non-null  int32  \n",
      " 24  income_level               19642 non-null  int64  \n",
      " 25  marital_status             19642 non-null  object \n",
      " 26  housing_status             19642 non-null  object \n",
      " 27  employment                 19642 non-null  object \n",
      " 28  census_msa                 19642 non-null  object \n",
      " 29  no_of_adults               19642 non-null  float64\n",
      " 30  no_of_children             19642 non-null  float64\n",
      " 31  h1n1_vaccine               19642 non-null  int64  \n",
      "dtypes: float64(22), int32(2), int64(4), object(4)\n",
      "memory usage: 4.8+ MB\n"
     ]
    }
   ],
   "source": [
    "df_vac.info()"
   ]
  },
  {
   "cell_type": "code",
   "execution_count": 121,
   "id": "96b7166d",
   "metadata": {},
   "outputs": [
    {
     "data": {
      "text/plain": [
       "Text(0.5, 1.0, 'Countplot of income_level')"
      ]
     },
     "execution_count": 121,
     "metadata": {},
     "output_type": "execute_result"
    },
    {
     "data": {
      "image/png": "[encoded data removed]",
      "text/plain": [
       "<Figure size 432x288 with 1 Axes>"
      ]
     },
     "metadata": {
      "needs_background": "light"
     },
     "output_type": "display_data"
    }
   ],
   "source": [
    "# Bar Plot\n",
    "sns.countplot(x = 'income_level', data = df_vac , palette = 'Dark2')\n",
    "plt.title('Countplot of income_level')"
   ]
  },
  {
   "cell_type": "code",
   "execution_count": 122,
   "id": "07341b27",
   "metadata": {},
   "outputs": [
    {
     "name": "stdout",
     "output_type": "stream",
     "text": [
      "                   df       sum_sq    mean_sq          F        PR(>F)\n",
      "h1n1_vaccine      1.0    24.472822  24.472822  62.636538  2.617146e-15\n",
      "Residual      19640.0  7673.575900   0.390712        NaN           NaN\n"
     ]
    }
   ],
   "source": [
    "#Hypothesis Testing\n",
    "import statsmodels.api as sm\n",
    "from statsmodels.formula.api import ols\n",
    "mod = ols('income_level ~ h1n1_vaccine', data = df_vac).fit()\n",
    "aov_table = sm.stats.anova_lm(mod)\n",
    "print(aov_table)\n",
    "# 2.62e-15 ie p_value is <0.05; Ho rejected; Good Predictor"
   ]
  },
  {
   "cell_type": "code",
   "execution_count": 123,
   "id": "f989deb9",
   "metadata": {},
   "outputs": [
    {
     "data": {
      "text/plain": [
       "Married        10768\n",
       "Not Married     8874\n",
       "Name: marital_status, dtype: int64"
      ]
     },
     "execution_count": 123,
     "metadata": {},
     "output_type": "execute_result"
    }
   ],
   "source": [
    "#___________________27 marital_status - object [0,1]\n",
    "df_vac.marital_status.isnull().sum() #471 Missing values\n",
    "df_vac.marital_status.value_counts() "
   ]
  },
  {
   "cell_type": "code",
   "execution_count": 124,
   "id": "7a95d707",
   "metadata": {},
   "outputs": [],
   "source": [
    "# label encoding the data \n",
    "from sklearn.preprocessing import LabelEncoder \n",
    "le = LabelEncoder()"
   ]
  },
  {
   "cell_type": "code",
   "execution_count": 125,
   "id": "d788f97d",
   "metadata": {},
   "outputs": [
    {
     "name": "stderr",
     "output_type": "stream",
     "text": [
      "C:\\Users\\Pallavi_P\\AppData\\Local\\Temp\\ipykernel_13448\\4109331241.py:1: SettingWithCopyWarning: \n",
      "A value is trying to be set on a copy of a slice from a DataFrame.\n",
      "Try using .loc[row_indexer,col_indexer] = value instead\n",
      "\n",
      "See the caveats in the documentation: https://pandas.pydata.org/pandas-docs/stable/user_guide/indexing.html#returning-a-view-versus-a-copy\n",
      "  df_vac['marital_status']= le.fit_transform(df_vac['marital_status'])\n"
     ]
    },
    {
     "data": {
      "text/plain": [
       "0    10768\n",
       "1     8874\n",
       "Name: marital_status, dtype: int64"
      ]
     },
     "execution_count": 125,
     "metadata": {},
     "output_type": "execute_result"
    }
   ],
   "source": [
    "df_vac['marital_status']= le.fit_transform(df_vac['marital_status']) \n",
    "df_vac.marital_status.value_counts()"
   ]
  },
  {
   "cell_type": "code",
   "execution_count": 126,
   "id": "71c3b3f0",
   "metadata": {},
   "outputs": [
    {
     "name": "stdout",
     "output_type": "stream",
     "text": [
      "<class 'pandas.core.frame.DataFrame'>\n",
      "Int64Index: 19642 entries, 0 to 26706\n",
      "Data columns (total 32 columns):\n",
      " #   Column                     Non-Null Count  Dtype  \n",
      "---  ------                     --------------  -----  \n",
      " 0   h1n1_worry                 19642 non-null  float64\n",
      " 1   h1n1_awareness             19642 non-null  float64\n",
      " 2   antiviral_medication       19642 non-null  float64\n",
      " 3   contact_avoidance          19642 non-null  float64\n",
      " 4   bought_face_mask           19642 non-null  float64\n",
      " 5   wash_hands_frequently      19642 non-null  float64\n",
      " 6   avoid_large_gatherings     19642 non-null  float64\n",
      " 7   reduced_outside_home_cont  19642 non-null  float64\n",
      " 8   avoid_touch_face           19642 non-null  float64\n",
      " 9   dr_recc_h1n1_vacc          19642 non-null  float64\n",
      " 10  dr_recc_seasonal_vacc      19642 non-null  float64\n",
      " 11  chronic_medic_condition    19642 non-null  float64\n",
      " 12  cont_child_undr_6_mnths    19642 non-null  float64\n",
      " 13  is_health_worker           19642 non-null  float64\n",
      " 14  is_h1n1_vacc_effective     19642 non-null  float64\n",
      " 15  is_h1n1_risky              19642 non-null  float64\n",
      " 16  sick_from_h1n1_vacc        19642 non-null  float64\n",
      " 17  is_seas_vacc_effective     19642 non-null  float64\n",
      " 18  is_seas_risky              19642 non-null  float64\n",
      " 19  sick_from_seas_vacc        19642 non-null  float64\n",
      " 20  age_bracket                19642 non-null  int64  \n",
      " 21  qualification              19642 non-null  int64  \n",
      " 22  race                       19642 non-null  int32  \n",
      " 23  sex                        19642 non-null  int32  \n",
      " 24  income_level               19642 non-null  int64  \n",
      " 25  marital_status             19642 non-null  int32  \n",
      " 26  housing_status             19642 non-null  object \n",
      " 27  employment                 19642 non-null  object \n",
      " 28  census_msa                 19642 non-null  object \n",
      " 29  no_of_adults               19642 non-null  float64\n",
      " 30  no_of_children             19642 non-null  float64\n",
      " 31  h1n1_vaccine               19642 non-null  int64  \n",
      "dtypes: float64(22), int32(3), int64(4), object(3)\n",
      "memory usage: 4.7+ MB\n"
     ]
    }
   ],
   "source": [
    "df_vac.info()"
   ]
  },
  {
   "cell_type": "code",
   "execution_count": 127,
   "id": "31c77aef",
   "metadata": {},
   "outputs": [
    {
     "data": {
      "text/plain": [
       "Text(0.5, 1.0, 'Countplot of marital_status')"
      ]
     },
     "execution_count": 127,
     "metadata": {},
     "output_type": "execute_result"
    },
    {
     "data": {
      "image/png": "[encoded data removed]",
      "text/plain": [
       "<Figure size 432x288 with 1 Axes>"
      ]
     },
     "metadata": {
      "needs_background": "light"
     },
     "output_type": "display_data"
    }
   ],
   "source": [
    "# Bar Plot\n",
    "sns.countplot(x = 'marital_status', data = df_vac , palette = 'winter')\n",
    "plt.title('Countplot of marital_status')\n"
   ]
  },
  {
   "cell_type": "code",
   "execution_count": 128,
   "id": "0c5e0b17",
   "metadata": {},
   "outputs": [
    {
     "data": {
      "text/plain": [
       "(53.866122687069605,\n",
       " 2.1462663932476588e-13,\n",
       " 1,\n",
       " array([[8293.36645963, 6834.63354037],\n",
       "        [2474.63354037, 2039.36645963]]))"
      ]
     },
     "execution_count": 128,
     "metadata": {},
     "output_type": "execute_result"
    }
   ],
   "source": [
    "#Hypothesis Testing\n",
    "from scipy.stats import chi2_contingency\n",
    "ct_mari = pd.crosstab(df_vac.h1n1_vaccine, df_vac.marital_status)\n",
    "chi2_contingency(ct_mari, correction = False)\n",
    "# p_val = 2.14e-13, Ho reject, hence association exists, good predictor"
   ]
  },
  {
   "cell_type": "code",
   "execution_count": 129,
   "id": "b23996bf",
   "metadata": {},
   "outputs": [
    {
     "data": {
      "text/plain": [
       "Own     14980\n",
       "Rent     4662\n",
       "Name: housing_status, dtype: int64"
      ]
     },
     "execution_count": 129,
     "metadata": {},
     "output_type": "execute_result"
    }
   ],
   "source": [
    "#__________28 housing_status - object [own, rent]\n",
    "df_vac.housing_status.isnull().sum()\n",
    "df_vac.housing_status.value_counts() "
   ]
  },
  {
   "cell_type": "code",
   "execution_count": 130,
   "id": "1cf30651",
   "metadata": {},
   "outputs": [
    {
     "name": "stderr",
     "output_type": "stream",
     "text": [
      "C:\\Users\\Pallavi_P\\AppData\\Local\\Temp\\ipykernel_13448\\3281849152.py:4: SettingWithCopyWarning: \n",
      "A value is trying to be set on a copy of a slice from a DataFrame.\n",
      "Try using .loc[row_indexer,col_indexer] = value instead\n",
      "\n",
      "See the caveats in the documentation: https://pandas.pydata.org/pandas-docs/stable/user_guide/indexing.html#returning-a-view-versus-a-copy\n",
      "  df_vac['housing_status']= le.fit_transform(df_vac['housing_status'])\n"
     ]
    },
    {
     "data": {
      "text/plain": [
       "0    14980\n",
       "1     4662\n",
       "Name: housing_status, dtype: int64"
      ]
     },
     "execution_count": 130,
     "metadata": {},
     "output_type": "execute_result"
    }
   ],
   "source": [
    "# label encoding the data \n",
    "from sklearn.preprocessing import LabelEncoder \n",
    "le = LabelEncoder()   \n",
    "df_vac['housing_status']= le.fit_transform(df_vac['housing_status']) \n",
    "df_vac.housing_status.value_counts()"
   ]
  },
  {
   "cell_type": "code",
   "execution_count": 131,
   "id": "9b40678c",
   "metadata": {},
   "outputs": [
    {
     "data": {
      "text/plain": [
       "(24.587253027110627,\n",
       " 7.101997402926761e-07,\n",
       " 1,\n",
       " array([[11537.39130435,  3590.60869565],\n",
       "        [ 3442.60869565,  1071.39130435]]))"
      ]
     },
     "execution_count": 131,
     "metadata": {},
     "output_type": "execute_result"
    },
    {
     "data": {
      "image/png": "[encoded data removed]",
      "text/plain": [
       "<Figure size 432x288 with 1 Axes>"
      ]
     },
     "metadata": {
      "needs_background": "light"
     },
     "output_type": "display_data"
    }
   ],
   "source": [
    "# Bar Plot\n",
    "sns.countplot(x = 'housing_status', data = df_vac , palette = 'Set2')\n",
    "plt.title('Barplot of housing_status')\n",
    "#Hypothesis Testing\n",
    "from scipy.stats import chi2_contingency\n",
    "ct_house = pd.crosstab(df_vac.h1n1_vaccine, df_vac.housing_status)\n",
    "chi2_contingency(ct_house, correction = False)\n",
    "# p_val = 7.1e-07, Ho reject, hence association exists, good predictor \n"
   ]
  },
  {
   "cell_type": "code",
   "execution_count": 132,
   "id": "51514497",
   "metadata": {},
   "outputs": [
    {
     "data": {
      "text/plain": [
       "Employed              11093\n",
       "Not in Labor Force     7417\n",
       "Unemployed             1132\n",
       "Name: employment, dtype: int64"
      ]
     },
     "execution_count": 132,
     "metadata": {},
     "output_type": "execute_result"
    }
   ],
   "source": [
    "# _______________ 29 employment - object [3 levels] actually ordered\n",
    "df_vac.employment.isnull().sum() \n",
    "df_vac.employment.value_counts() "
   ]
  },
  {
   "cell_type": "code",
   "execution_count": 133,
   "id": "58fdf98f",
   "metadata": {},
   "outputs": [
    {
     "name": "stderr",
     "output_type": "stream",
     "text": [
      "C:\\Users\\Pallavi_P\\AppData\\Local\\Temp\\ipykernel_13448\\2889079335.py:2: SettingWithCopyWarning: \n",
      "A value is trying to be set on a copy of a slice from a DataFrame.\n",
      "Try using .loc[row_indexer,col_indexer] = value instead\n",
      "\n",
      "See the caveats in the documentation: https://pandas.pydata.org/pandas-docs/stable/user_guide/indexing.html#returning-a-view-versus-a-copy\n",
      "  df_vac['employment']=df_vac.get('employment').replace('Employed', 3)\n",
      "C:\\Users\\Pallavi_P\\AppData\\Local\\Temp\\ipykernel_13448\\2889079335.py:3: SettingWithCopyWarning: \n",
      "A value is trying to be set on a copy of a slice from a DataFrame.\n",
      "Try using .loc[row_indexer,col_indexer] = value instead\n",
      "\n",
      "See the caveats in the documentation: https://pandas.pydata.org/pandas-docs/stable/user_guide/indexing.html#returning-a-view-versus-a-copy\n",
      "  df_vac['employment']=df_vac.get('employment').replace('Not in Labor Force', 2)\n",
      "C:\\Users\\Pallavi_P\\AppData\\Local\\Temp\\ipykernel_13448\\2889079335.py:4: SettingWithCopyWarning: \n",
      "A value is trying to be set on a copy of a slice from a DataFrame.\n",
      "Try using .loc[row_indexer,col_indexer] = value instead\n",
      "\n",
      "See the caveats in the documentation: https://pandas.pydata.org/pandas-docs/stable/user_guide/indexing.html#returning-a-view-versus-a-copy\n",
      "  df_vac['employment']=df_vac.get('employment').replace('Unemployed', 1)\n"
     ]
    }
   ],
   "source": [
    "#Converting to numeric/ integer\n",
    "df_vac['employment']=df_vac.get('employment').replace('Employed', 3)\n",
    "df_vac['employment']=df_vac.get('employment').replace('Not in Labor Force', 2)\n",
    "df_vac['employment']=df_vac.get('employment').replace('Unemployed', 1)"
   ]
  },
  {
   "cell_type": "code",
   "execution_count": 134,
   "id": "21a718d0",
   "metadata": {},
   "outputs": [
    {
     "data": {
      "text/plain": [
       "3    11093\n",
       "2     7417\n",
       "1     1132\n",
       "Name: employment, dtype: int64"
      ]
     },
     "execution_count": 134,
     "metadata": {},
     "output_type": "execute_result"
    }
   ],
   "source": [
    "df_vac.employment.value_counts()"
   ]
  },
  {
   "cell_type": "code",
   "execution_count": 135,
   "id": "e18dd13f",
   "metadata": {},
   "outputs": [],
   "source": [
    "#____________________LabelEncoder giving opposite notation!\n",
    "# label encoding the data ; DO NOT TRY THIS\n",
    "from sklearn.preprocessing import LabelEncoder \n",
    "le = LabelEncoder() \n",
    "  "
   ]
  },
  {
   "cell_type": "code",
   "execution_count": 136,
   "id": "23c7457a",
   "metadata": {},
   "outputs": [
    {
     "name": "stderr",
     "output_type": "stream",
     "text": [
      "C:\\Users\\Pallavi_P\\AppData\\Local\\Temp\\ipykernel_13448\\907243926.py:1: SettingWithCopyWarning: \n",
      "A value is trying to be set on a copy of a slice from a DataFrame.\n",
      "Try using .loc[row_indexer,col_indexer] = value instead\n",
      "\n",
      "See the caveats in the documentation: https://pandas.pydata.org/pandas-docs/stable/user_guide/indexing.html#returning-a-view-versus-a-copy\n",
      "  df_vac['employment']= le.fit_transform(df_vac['employment'])\n"
     ]
    },
    {
     "data": {
      "text/plain": [
       "2    11093\n",
       "1     7417\n",
       "0     1132\n",
       "Name: employment, dtype: int64"
      ]
     },
     "execution_count": 136,
     "metadata": {},
     "output_type": "execute_result"
    }
   ],
   "source": [
    "df_vac['employment']= le.fit_transform(df_vac['employment']) \n",
    "df_vac.employment.value_counts()"
   ]
  },
  {
   "cell_type": "code",
   "execution_count": 137,
   "id": "475a2851",
   "metadata": {},
   "outputs": [
    {
     "data": {
      "text/plain": [
       "Text(0.5, 1.0, 'Barplot of employment')"
      ]
     },
     "execution_count": 137,
     "metadata": {},
     "output_type": "execute_result"
    },
    {
     "data": {
      "image/png": "[encoded data removed]",
      "text/plain": [
       "<Figure size 432x288 with 1 Axes>"
      ]
     },
     "metadata": {
      "needs_background": "light"
     },
     "output_type": "display_data"
    }
   ],
   "source": [
    "# Bar Plot\n",
    "sns.countplot(x = 'employment', data = df_vac , palette = 'Reds')\n",
    "plt.title('Barplot of employment')"
   ]
  },
  {
   "cell_type": "code",
   "execution_count": 138,
   "id": "efe8565c",
   "metadata": {},
   "outputs": [
    {
     "name": "stdout",
     "output_type": "stream",
     "text": [
      "                   df       sum_sq   mean_sq         F    PR(>F)\n",
      "h1n1_vaccine      1.0     2.168418  2.168418  5.938608  0.014822\n",
      "Residual      19640.0  7171.333720  0.365139       NaN       NaN\n"
     ]
    }
   ],
   "source": [
    "#Hypothesis Testing\n",
    "import statsmodels.api as sm\n",
    "from statsmodels.formula.api import ols\n",
    "mod = ols('employment ~ h1n1_vaccine', data = df_vac).fit()\n",
    "aov_table = sm.stats.anova_lm(mod)\n",
    "print(aov_table)\n",
    "#0.015 ie p_value is <0.05; Ho rejected; Good Predictor"
   ]
  },
  {
   "cell_type": "code",
   "execution_count": 139,
   "id": "65d59c44",
   "metadata": {},
   "outputs": [
    {
     "data": {
      "text/plain": [
       "MSA, Not Principle  City    8571\n",
       "MSA, Principle City         5717\n",
       "Non-MSA                     5354\n",
       "Name: census_msa, dtype: int64"
      ]
     },
     "execution_count": 139,
     "metadata": {},
     "output_type": "execute_result"
    }
   ],
   "source": [
    "#____________30 census_msa - object, 3 levels, NOMINAL\n",
    "df_vac.census_msa.isnull().sum() #No Missing values\n",
    "df_vac.census_msa.value_counts()"
   ]
  },
  {
   "cell_type": "code",
   "execution_count": 140,
   "id": "0a217b1a",
   "metadata": {},
   "outputs": [],
   "source": [
    "# label encoding the data \n",
    "from sklearn.preprocessing import LabelEncoder \n",
    "le = LabelEncoder()"
   ]
  },
  {
   "cell_type": "code",
   "execution_count": 141,
   "id": "643ed7fc",
   "metadata": {},
   "outputs": [
    {
     "name": "stderr",
     "output_type": "stream",
     "text": [
      "C:\\Users\\Pallavi_P\\AppData\\Local\\Temp\\ipykernel_13448\\4019068394.py:1: SettingWithCopyWarning: \n",
      "A value is trying to be set on a copy of a slice from a DataFrame.\n",
      "Try using .loc[row_indexer,col_indexer] = value instead\n",
      "\n",
      "See the caveats in the documentation: https://pandas.pydata.org/pandas-docs/stable/user_guide/indexing.html#returning-a-view-versus-a-copy\n",
      "  df_vac['census_msa']= le.fit_transform(df_vac['census_msa'])\n"
     ]
    },
    {
     "data": {
      "text/plain": [
       "0    8571\n",
       "1    5717\n",
       "2    5354\n",
       "Name: census_msa, dtype: int64"
      ]
     },
     "execution_count": 141,
     "metadata": {},
     "output_type": "execute_result"
    }
   ],
   "source": [
    "df_vac['census_msa']= le.fit_transform(df_vac['census_msa']) \n",
    "df_vac.census_msa.value_counts()"
   ]
  },
  {
   "cell_type": "code",
   "execution_count": 142,
   "id": "c8cf0bc5",
   "metadata": {},
   "outputs": [
    {
     "data": {
      "text/plain": [
       "Text(0.5, 1.0, 'Countplot of census_msa')"
      ]
     },
     "execution_count": 142,
     "metadata": {},
     "output_type": "execute_result"
    },
    {
     "data": {
      "image/png": "[encoded data removed]",
      "text/plain": [
       "<Figure size 432x288 with 1 Axes>"
      ]
     },
     "metadata": {
      "needs_background": "light"
     },
     "output_type": "display_data"
    }
   ],
   "source": [
    "# Bar Plot\n",
    "sns.countplot(x = 'census_msa', data = df_vac , palette = 'Dark2')\n",
    "plt.title('Countplot of census_msa')"
   ]
  },
  {
   "cell_type": "code",
   "execution_count": 143,
   "id": "3c8dc038",
   "metadata": {},
   "outputs": [
    {
     "data": {
      "text/plain": [
       "(0.5600038986351584,\n",
       " 0.7557822681946281,\n",
       " 2,\n",
       " array([[6601.26708075, 4403.1552795 , 4123.57763975],\n",
       "        [1969.73291925, 1313.8447205 , 1230.42236025]]))"
      ]
     },
     "execution_count": 143,
     "metadata": {},
     "output_type": "execute_result"
    }
   ],
   "source": [
    "#Hypothesis Testing\n",
    "from scipy.stats import chi2_contingency\n",
    "ct_msa = pd.crosstab(df_vac.h1n1_vaccine, df_vac.census_msa)\n",
    "ct_msa\n",
    "chi2_contingency(ct_msa, correction = False)\n",
    "# p_val = 0.76, > 0.05 Ho accept, hence association does not exists, bad predictor"
   ]
  },
  {
   "cell_type": "code",
   "execution_count": 144,
   "id": "acd30fe4",
   "metadata": {},
   "outputs": [
    {
     "data": {
      "text/plain": [
       "1.0    11006\n",
       "0.0     5683\n",
       "2.0     2124\n",
       "3.0      829\n",
       "Name: no_of_adults, dtype: int64"
      ]
     },
     "execution_count": 144,
     "metadata": {},
     "output_type": "execute_result"
    }
   ],
   "source": [
    "#______________31 no_of_adults, ordered  \n",
    "df_vac.no_of_adults.isnull().sum() #No Missing values\n",
    "df_vac.no_of_adults.value_counts() "
   ]
  },
  {
   "cell_type": "code",
   "execution_count": 145,
   "id": "d1af6eaf",
   "metadata": {},
   "outputs": [
    {
     "data": {
      "text/plain": [
       "Text(0.5, 1.0, 'Countplot of no_of_adults')"
      ]
     },
     "execution_count": 145,
     "metadata": {},
     "output_type": "execute_result"
    },
    {
     "data": {
      "image/png": "[encoded data removed]",
      "text/plain": [
       "<Figure size 432x288 with 1 Axes>"
      ]
     },
     "metadata": {
      "needs_background": "light"
     },
     "output_type": "display_data"
    }
   ],
   "source": [
    "# Bar Plot\n",
    "sns.countplot(x = 'no_of_adults', data = df_vac , palette = 'Set2')\n",
    "plt.title('Countplot of no_of_adults')\n"
   ]
  },
  {
   "cell_type": "code",
   "execution_count": 146,
   "id": "620569f5",
   "metadata": {},
   "outputs": [
    {
     "name": "stdout",
     "output_type": "stream",
     "text": [
      "                   df        sum_sq   mean_sq        F    PR(>F)\n",
      "h1n1_vaccine      1.0      0.192588  0.192588  0.34578  0.556518\n",
      "Residual      19640.0  10938.824060  0.556967      NaN       NaN\n"
     ]
    }
   ],
   "source": [
    "#Hypothesis Testing\n",
    "import statsmodels.api as sm\n",
    "from statsmodels.formula.api import ols\n",
    "mod = ols('no_of_adults ~ h1n1_vaccine', data = df_vac).fit()\n",
    "aov_table = sm.stats.anova_lm(mod)\n",
    "print(aov_table)\n",
    "#0.55 ie p_value is >0.05; Ho accepted; Bad Predictor"
   ]
  },
  {
   "cell_type": "code",
   "execution_count": 147,
   "id": "31c721e4",
   "metadata": {},
   "outputs": [
    {
     "data": {
      "text/plain": [
       "0.0    13697\n",
       "1.0     2402\n",
       "2.0     2207\n",
       "3.0     1336\n",
       "Name: no_of_children, dtype: int64"
      ]
     },
     "execution_count": 147,
     "metadata": {},
     "output_type": "execute_result"
    }
   ],
   "source": [
    "#_______________ 32 no_of_children , ordered \n",
    "df_vac.no_of_children.isnull().sum() #No Missing values\n",
    "df_vac.no_of_children.value_counts()"
   ]
  },
  {
   "cell_type": "code",
   "execution_count": 148,
   "id": "027bc6ac",
   "metadata": {},
   "outputs": [
    {
     "data": {
      "text/plain": [
       "Text(0.5, 1.0, 'Countplot of no_of_children')"
      ]
     },
     "execution_count": 148,
     "metadata": {},
     "output_type": "execute_result"
    },
    {
     "data": {
      "image/png": "[encoded data removed]",
      "text/plain": [
       "<Figure size 432x288 with 1 Axes>"
      ]
     },
     "metadata": {
      "needs_background": "light"
     },
     "output_type": "display_data"
    }
   ],
   "source": [
    "# Bar Plot\n",
    "sns.countplot(x = 'no_of_children', data = df_vac , palette = 'Dark2')\n",
    "plt.title('Countplot of no_of_children')"
   ]
  },
  {
   "cell_type": "code",
   "execution_count": 149,
   "id": "214ebe5b",
   "metadata": {},
   "outputs": [
    {
     "name": "stdout",
     "output_type": "stream",
     "text": [
      "                   df        sum_sq   mean_sq         F    PR(>F)\n",
      "h1n1_vaccine      1.0      0.202039  0.202039  0.229512  0.631891\n",
      "Residual      19640.0  17289.080722  0.880299       NaN       NaN\n"
     ]
    }
   ],
   "source": [
    "#Hypothesis Testing\n",
    "import statsmodels.api as sm\n",
    "from statsmodels.formula.api import ols\n",
    "mod = ols('no_of_children ~ h1n1_vaccine', data = df_vac).fit()\n",
    "aov_table = sm.stats.anova_lm(mod)\n",
    "print(aov_table)\n",
    "#0.63 ie p_value is >0.05; Ho accepted; Bad Predictor"
   ]
  },
  {
   "cell_type": "code",
   "execution_count": 150,
   "id": "b8e1571e",
   "metadata": {},
   "outputs": [
    {
     "name": "stdout",
     "output_type": "stream",
     "text": [
      "<class 'pandas.core.frame.DataFrame'>\n",
      "Int64Index: 19642 entries, 0 to 26706\n",
      "Data columns (total 32 columns):\n",
      " #   Column                     Non-Null Count  Dtype  \n",
      "---  ------                     --------------  -----  \n",
      " 0   h1n1_worry                 19642 non-null  float64\n",
      " 1   h1n1_awareness             19642 non-null  float64\n",
      " 2   antiviral_medication       19642 non-null  float64\n",
      " 3   contact_avoidance          19642 non-null  float64\n",
      " 4   bought_face_mask           19642 non-null  float64\n",
      " 5   wash_hands_frequently      19642 non-null  float64\n",
      " 6   avoid_large_gatherings     19642 non-null  float64\n",
      " 7   reduced_outside_home_cont  19642 non-null  float64\n",
      " 8   avoid_touch_face           19642 non-null  float64\n",
      " 9   dr_recc_h1n1_vacc          19642 non-null  float64\n",
      " 10  dr_recc_seasonal_vacc      19642 non-null  float64\n",
      " 11  chronic_medic_condition    19642 non-null  float64\n",
      " 12  cont_child_undr_6_mnths    19642 non-null  float64\n",
      " 13  is_health_worker           19642 non-null  float64\n",
      " 14  is_h1n1_vacc_effective     19642 non-null  float64\n",
      " 15  is_h1n1_risky              19642 non-null  float64\n",
      " 16  sick_from_h1n1_vacc        19642 non-null  float64\n",
      " 17  is_seas_vacc_effective     19642 non-null  float64\n",
      " 18  is_seas_risky              19642 non-null  float64\n",
      " 19  sick_from_seas_vacc        19642 non-null  float64\n",
      " 20  age_bracket                19642 non-null  int64  \n",
      " 21  qualification              19642 non-null  int64  \n",
      " 22  race                       19642 non-null  int32  \n",
      " 23  sex                        19642 non-null  int32  \n",
      " 24  income_level               19642 non-null  int64  \n",
      " 25  marital_status             19642 non-null  int32  \n",
      " 26  housing_status             19642 non-null  int32  \n",
      " 27  employment                 19642 non-null  int64  \n",
      " 28  census_msa                 19642 non-null  int32  \n",
      " 29  no_of_adults               19642 non-null  float64\n",
      " 30  no_of_children             19642 non-null  float64\n",
      " 31  h1n1_vaccine               19642 non-null  int64  \n",
      "dtypes: float64(22), int32(5), int64(5)\n",
      "memory usage: 4.6 MB\n"
     ]
    }
   ],
   "source": [
    "df_vac.info()"
   ]
  },
  {
   "cell_type": "code",
   "execution_count": 151,
   "id": "c6f19446",
   "metadata": {},
   "outputs": [
    {
     "name": "stdout",
     "output_type": "stream",
     "text": [
      "<class 'pandas.core.frame.DataFrame'>\n",
      "Int64Index: 19642 entries, 0 to 26706\n",
      "Data columns (total 28 columns):\n",
      " #   Column                     Non-Null Count  Dtype  \n",
      "---  ------                     --------------  -----  \n",
      " 0   h1n1_worry                 19642 non-null  float64\n",
      " 1   h1n1_awareness             19642 non-null  float64\n",
      " 2   antiviral_medication       19642 non-null  float64\n",
      " 3   contact_avoidance          19642 non-null  float64\n",
      " 4   bought_face_mask           19642 non-null  float64\n",
      " 5   wash_hands_frequently      19642 non-null  float64\n",
      " 6   avoid_large_gatherings     19642 non-null  float64\n",
      " 7   reduced_outside_home_cont  19642 non-null  float64\n",
      " 8   avoid_touch_face           19642 non-null  float64\n",
      " 9   dr_recc_h1n1_vacc          19642 non-null  float64\n",
      " 10  dr_recc_seasonal_vacc      19642 non-null  float64\n",
      " 11  chronic_medic_condition    19642 non-null  float64\n",
      " 12  cont_child_undr_6_mnths    19642 non-null  float64\n",
      " 13  is_health_worker           19642 non-null  float64\n",
      " 14  is_h1n1_vacc_effective     19642 non-null  float64\n",
      " 15  is_h1n1_risky              19642 non-null  float64\n",
      " 16  sick_from_h1n1_vacc        19642 non-null  float64\n",
      " 17  is_seas_vacc_effective     19642 non-null  float64\n",
      " 18  is_seas_risky              19642 non-null  float64\n",
      " 19  age_bracket                19642 non-null  int64  \n",
      " 20  qualification              19642 non-null  int64  \n",
      " 21  race                       19642 non-null  int32  \n",
      " 22  sex                        19642 non-null  int32  \n",
      " 23  income_level               19642 non-null  int64  \n",
      " 24  marital_status             19642 non-null  int32  \n",
      " 25  housing_status             19642 non-null  int32  \n",
      " 26  employment                 19642 non-null  int64  \n",
      " 27  h1n1_vaccine               19642 non-null  int64  \n",
      "dtypes: float64(19), int32(4), int64(5)\n",
      "memory usage: 4.0 MB\n"
     ]
    }
   ],
   "source": [
    "'''\n",
    "lets delete\n",
    "index 19, sick_from_seas_vacc\n",
    "index 28, census_msa\n",
    "index 29, no_of_adults\n",
    "index 30, no_of_children\n",
    "\n",
    "AND SAVE NEW DATA AS hn and export to wd and \n",
    "THEN START A NEW SCRIPT\n",
    "'''\n",
    "hn = df_vac.drop(['sick_from_seas_vacc','census_msa','no_of_adults','no_of_children'], axis = 1)\n",
    "hn.info() # 19642, 28 columns \n"
   ]
  },
  {
   "cell_type": "code",
   "execution_count": 152,
   "id": "2f1c3e1f",
   "metadata": {},
   "outputs": [],
   "source": [
    "hn.to_csv('hn.csv')\n"
   ]
  },
  {
   "cell_type": "code",
   "execution_count": 153,
   "id": "a6ca0fc6",
   "metadata": {},
   "outputs": [],
   "source": [
    "#________lets create dummy variables for 'race'\n",
    "\n",
    "df2 = pd.get_dummies(hn.race, drop_first = True, prefix = 'race')\n",
    "\n",
    "hnd = pd.concat([hn, df2], axis = 1)"
   ]
  },
  {
   "cell_type": "code",
   "execution_count": 154,
   "id": "7f3bbd53",
   "metadata": {},
   "outputs": [
    {
     "name": "stdout",
     "output_type": "stream",
     "text": [
      "<class 'pandas.core.frame.DataFrame'>\n",
      "Int64Index: 19642 entries, 0 to 26706\n",
      "Data columns (total 30 columns):\n",
      " #   Column                     Non-Null Count  Dtype  \n",
      "---  ------                     --------------  -----  \n",
      " 0   h1n1_worry                 19642 non-null  float64\n",
      " 1   h1n1_awareness             19642 non-null  float64\n",
      " 2   antiviral_medication       19642 non-null  float64\n",
      " 3   contact_avoidance          19642 non-null  float64\n",
      " 4   bought_face_mask           19642 non-null  float64\n",
      " 5   wash_hands_frequently      19642 non-null  float64\n",
      " 6   avoid_large_gatherings     19642 non-null  float64\n",
      " 7   reduced_outside_home_cont  19642 non-null  float64\n",
      " 8   avoid_touch_face           19642 non-null  float64\n",
      " 9   dr_recc_h1n1_vacc          19642 non-null  float64\n",
      " 10  dr_recc_seasonal_vacc      19642 non-null  float64\n",
      " 11  chronic_medic_condition    19642 non-null  float64\n",
      " 12  cont_child_undr_6_mnths    19642 non-null  float64\n",
      " 13  is_health_worker           19642 non-null  float64\n",
      " 14  is_h1n1_vacc_effective     19642 non-null  float64\n",
      " 15  is_h1n1_risky              19642 non-null  float64\n",
      " 16  sick_from_h1n1_vacc        19642 non-null  float64\n",
      " 17  is_seas_vacc_effective     19642 non-null  float64\n",
      " 18  is_seas_risky              19642 non-null  float64\n",
      " 19  age_bracket                19642 non-null  int64  \n",
      " 20  qualification              19642 non-null  int64  \n",
      " 21  sex                        19642 non-null  int32  \n",
      " 22  income_level               19642 non-null  int64  \n",
      " 23  marital_status             19642 non-null  int32  \n",
      " 24  housing_status             19642 non-null  int32  \n",
      " 25  employment                 19642 non-null  int64  \n",
      " 26  h1n1_vaccine               19642 non-null  int64  \n",
      " 27  race_1                     19642 non-null  uint8  \n",
      " 28  race_2                     19642 non-null  uint8  \n",
      " 29  race_3                     19642 non-null  uint8  \n",
      "dtypes: float64(19), int32(3), int64(5), uint8(3)\n",
      "memory usage: 4.0 MB\n"
     ]
    }
   ],
   "source": [
    "# we must remove the original col 'race'\n",
    "\n",
    "hnc = hnd.drop(['race'], axis = 1)\n",
    "hnc.info() #19642, 30 columns "
   ]
  },
  {
   "cell_type": "code",
   "execution_count": 155,
   "id": "81ac8fe1",
   "metadata": {},
   "outputs": [],
   "source": [
    "hnc.to_csv('hnc.csv')"
   ]
  },
  {
   "cell_type": "code",
   "execution_count": 156,
   "id": "3b71493c",
   "metadata": {},
   "outputs": [],
   "source": [
    "import os\n",
    "os.chdir('C:\\\\Users\\\\Pallavi_P\\\\Desktop\\\\WD_Python')\n",
    "import pandas as pd \n",
    "import pandas as pd \n",
    "import numpy as np \n",
    "import matplotlib.pyplot as plt\n",
    "import seaborn as sns\n",
    "import statsmodels.api as sm\n",
    "from statsmodels.formula.api import ols\n",
    "from scipy.stats import chi2_contingency\n",
    "from sklearn.preprocessing import LabelEncoder \n",
    "from statsmodels.stats.outliers_influence import variance_inflation_factor\n",
    "from sklearn.linear_model import LogisticRegression\n",
    "from sklearn import metrics\n",
    "from sklearn.metrics import classification_report, confusion_matrix\n",
    "from sklearn.metrics import classification_report\n",
    "from sklearn.metrics import roc_curve, auc, roc_auc_score\n",
    "from sklearn.utils import resample"
   ]
  },
  {
   "cell_type": "code",
   "execution_count": 157,
   "id": "4a17d1fa",
   "metadata": {},
   "outputs": [
    {
     "name": "stdout",
     "output_type": "stream",
     "text": [
      "<class 'pandas.core.frame.DataFrame'>\n",
      "RangeIndex: 19642 entries, 0 to 19641\n",
      "Data columns (total 31 columns):\n",
      " #   Column                     Non-Null Count  Dtype  \n",
      "---  ------                     --------------  -----  \n",
      " 0   Unnamed: 0                 19642 non-null  int64  \n",
      " 1   h1n1_worry                 19642 non-null  float64\n",
      " 2   h1n1_awareness             19642 non-null  float64\n",
      " 3   antiviral_medication       19642 non-null  float64\n",
      " 4   contact_avoidance          19642 non-null  float64\n",
      " 5   bought_face_mask           19642 non-null  float64\n",
      " 6   wash_hands_frequently      19642 non-null  float64\n",
      " 7   avoid_large_gatherings     19642 non-null  float64\n",
      " 8   reduced_outside_home_cont  19642 non-null  float64\n",
      " 9   avoid_touch_face           19642 non-null  float64\n",
      " 10  dr_recc_h1n1_vacc          19642 non-null  float64\n",
      " 11  dr_recc_seasonal_vacc      19642 non-null  float64\n",
      " 12  chronic_medic_condition    19642 non-null  float64\n",
      " 13  cont_child_undr_6_mnths    19642 non-null  float64\n",
      " 14  is_health_worker           19642 non-null  float64\n",
      " 15  is_h1n1_vacc_effective     19642 non-null  float64\n",
      " 16  is_h1n1_risky              19642 non-null  float64\n",
      " 17  sick_from_h1n1_vacc        19642 non-null  float64\n",
      " 18  is_seas_vacc_effective     19642 non-null  float64\n",
      " 19  is_seas_risky              19642 non-null  float64\n",
      " 20  age_bracket                19642 non-null  int64  \n",
      " 21  qualification              19642 non-null  int64  \n",
      " 22  sex                        19642 non-null  int64  \n",
      " 23  income_level               19642 non-null  int64  \n",
      " 24  marital_status             19642 non-null  int64  \n",
      " 25  housing_status             19642 non-null  int64  \n",
      " 26  employment                 19642 non-null  int64  \n",
      " 27  h1n1_vaccine               19642 non-null  int64  \n",
      " 28  race_1                     19642 non-null  int64  \n",
      " 29  race_2                     19642 non-null  int64  \n",
      " 30  race_3                     19642 non-null  int64  \n",
      "dtypes: float64(19), int64(12)\n",
      "memory usage: 4.6 MB\n"
     ]
    }
   ],
   "source": [
    "df = pd.read_csv('hnc.csv') #19642; 31 , 1st is unique id \n",
    "df.info()\n"
   ]
  },
  {
   "cell_type": "code",
   "execution_count": 158,
   "id": "98bf6ab9",
   "metadata": {},
   "outputs": [],
   "source": [
    "#_______________VIF\n",
    "from statsmodels.stats.outliers_influence import variance_inflation_factor\n"
   ]
  },
  {
   "cell_type": "code",
   "execution_count": 159,
   "id": "829f50c8",
   "metadata": {},
   "outputs": [],
   "source": [
    "# first put your predictors in x\n",
    "x = df.iloc[:, [1,2,15,16,17,18,19,20,21,23,26]] # x is a data frame"
   ]
  },
  {
   "cell_type": "code",
   "execution_count": 160,
   "id": "e1021eb0",
   "metadata": {},
   "outputs": [],
   "source": [
    "# VIF dataframe\n",
    "vif_data = pd.DataFrame()\n",
    "vif_data[\"feature\"] = x.columns "
   ]
  },
  {
   "cell_type": "code",
   "execution_count": 161,
   "id": "1a52aab8",
   "metadata": {},
   "outputs": [],
   "source": [
    "# calculating VIF for each feature\n",
    "vif_data[\"VIF\"] = [variance_inflation_factor(x.values, i)\n",
    "                          for i in range(len(x.columns))]"
   ]
  },
  {
   "cell_type": "code",
   "execution_count": 162,
   "id": "748fd150",
   "metadata": {},
   "outputs": [
    {
     "name": "stdout",
     "output_type": "stream",
     "text": [
      "                   feature        VIF\n",
      "0               h1n1_worry   5.760260\n",
      "1           h1n1_awareness   6.614486\n",
      "2   is_h1n1_vacc_effective  21.012104\n",
      "3            is_h1n1_risky   7.199900\n",
      "4      sick_from_h1n1_vacc   4.643447\n",
      "5   is_seas_vacc_effective  20.713540\n",
      "6            is_seas_risky   8.017016\n",
      "7              age_bracket   5.486319\n",
      "8            qualification  13.197759\n",
      "9             income_level  16.193963\n",
      "10              employment   7.636121\n"
     ]
    }
   ],
   "source": [
    "print(vif_data) # two columns, feature & VIF will appear"
   ]
  },
  {
   "cell_type": "code",
   "execution_count": 163,
   "id": "f7da08aa",
   "metadata": {},
   "outputs": [],
   "source": [
    "# drop VIF> 10\n",
    "df = df.drop(['is_h1n1_vacc_effective', 'is_seas_vacc_effective',\n",
    "               'qualification', 'employment'], axis = 1)"
   ]
  },
  {
   "cell_type": "code",
   "execution_count": 164,
   "id": "c24803fc",
   "metadata": {},
   "outputs": [
    {
     "name": "stdout",
     "output_type": "stream",
     "text": [
      "<class 'pandas.core.frame.DataFrame'>\n",
      "RangeIndex: 19642 entries, 0 to 19641\n",
      "Data columns (total 27 columns):\n",
      " #   Column                     Non-Null Count  Dtype  \n",
      "---  ------                     --------------  -----  \n",
      " 0   Unnamed: 0                 19642 non-null  int64  \n",
      " 1   h1n1_worry                 19642 non-null  float64\n",
      " 2   h1n1_awareness             19642 non-null  float64\n",
      " 3   antiviral_medication       19642 non-null  float64\n",
      " 4   contact_avoidance          19642 non-null  float64\n",
      " 5   bought_face_mask           19642 non-null  float64\n",
      " 6   wash_hands_frequently      19642 non-null  float64\n",
      " 7   avoid_large_gatherings     19642 non-null  float64\n",
      " 8   reduced_outside_home_cont  19642 non-null  float64\n",
      " 9   avoid_touch_face           19642 non-null  float64\n",
      " 10  dr_recc_h1n1_vacc          19642 non-null  float64\n",
      " 11  dr_recc_seasonal_vacc      19642 non-null  float64\n",
      " 12  chronic_medic_condition    19642 non-null  float64\n",
      " 13  cont_child_undr_6_mnths    19642 non-null  float64\n",
      " 14  is_health_worker           19642 non-null  float64\n",
      " 15  is_h1n1_risky              19642 non-null  float64\n",
      " 16  sick_from_h1n1_vacc        19642 non-null  float64\n",
      " 17  is_seas_risky              19642 non-null  float64\n",
      " 18  age_bracket                19642 non-null  int64  \n",
      " 19  sex                        19642 non-null  int64  \n",
      " 20  income_level               19642 non-null  int64  \n",
      " 21  marital_status             19642 non-null  int64  \n",
      " 22  housing_status             19642 non-null  int64  \n",
      " 23  h1n1_vaccine               19642 non-null  int64  \n",
      " 24  race_1                     19642 non-null  int64  \n",
      " 25  race_2                     19642 non-null  int64  \n",
      " 26  race_3                     19642 non-null  int64  \n",
      "dtypes: float64(17), int64(10)\n",
      "memory usage: 4.0 MB\n",
      "<class 'pandas.core.frame.DataFrame'>\n",
      "RangeIndex: 19642 entries, 0 to 19641\n",
      "Data columns (total 26 columns):\n",
      " #   Column                     Non-Null Count  Dtype  \n",
      "---  ------                     --------------  -----  \n",
      " 0   h1n1_worry                 19642 non-null  float64\n",
      " 1   h1n1_awareness             19642 non-null  float64\n",
      " 2   antiviral_medication       19642 non-null  float64\n",
      " 3   contact_avoidance          19642 non-null  float64\n",
      " 4   bought_face_mask           19642 non-null  float64\n",
      " 5   wash_hands_frequently      19642 non-null  float64\n",
      " 6   avoid_large_gatherings     19642 non-null  float64\n",
      " 7   reduced_outside_home_cont  19642 non-null  float64\n",
      " 8   avoid_touch_face           19642 non-null  float64\n",
      " 9   dr_recc_h1n1_vacc          19642 non-null  float64\n",
      " 10  dr_recc_seasonal_vacc      19642 non-null  float64\n",
      " 11  chronic_medic_condition    19642 non-null  float64\n",
      " 12  cont_child_undr_6_mnths    19642 non-null  float64\n",
      " 13  is_health_worker           19642 non-null  float64\n",
      " 14  is_h1n1_risky              19642 non-null  float64\n",
      " 15  sick_from_h1n1_vacc        19642 non-null  float64\n",
      " 16  is_seas_risky              19642 non-null  float64\n",
      " 17  age_bracket                19642 non-null  int64  \n",
      " 18  sex                        19642 non-null  int64  \n",
      " 19  income_level               19642 non-null  int64  \n",
      " 20  marital_status             19642 non-null  int64  \n",
      " 21  housing_status             19642 non-null  int64  \n",
      " 22  h1n1_vaccine               19642 non-null  int64  \n",
      " 23  race_1                     19642 non-null  int64  \n",
      " 24  race_2                     19642 non-null  int64  \n",
      " 25  race_3                     19642 non-null  int64  \n",
      "dtypes: float64(17), int64(9)\n",
      "memory usage: 3.9 MB\n"
     ]
    }
   ],
   "source": [
    "df.info() # 19642, 27 [with 1st as Unnamed: 0, lets remove this]\n",
    "df = df.drop(['Unnamed: 0'], axis = 1)\n",
    "df.info() # 19642, 26\n",
    "df.to_csv('hnvif.csv')"
   ]
  },
  {
   "cell_type": "code",
   "execution_count": 165,
   "id": "0fbbc122",
   "metadata": {},
   "outputs": [],
   "source": [
    "# X and y\n",
    "X = df.loc[:, df.columns != 'h1n1_vaccine']\n",
    "y = df.loc[:, df.columns == 'h1n1_vaccine']"
   ]
  },
  {
   "cell_type": "code",
   "execution_count": 166,
   "id": "605d72a9",
   "metadata": {},
   "outputs": [
    {
     "data": {
      "text/plain": [
       "'\\nliblinear [library for linear classification]: good for small data\\nnewton-cg [newton conjugate]: can be used in this case\\nlbfgs[limited memory BFGS]: for multiclass problems\\nBFGS:Broyden–Fletcher–Goldfarb–Shanno algorithm \\nsag [Stochastic Average Gradient Descent]: good for large data sets\\nsaga: a little variant of sag\\n'"
      ]
     },
     "execution_count": 166,
     "metadata": {},
     "output_type": "execute_result"
    }
   ],
   "source": [
    "# solver = liblinear\n",
    "'''\n",
    "liblinear [library for linear classification]: good for small data\n",
    "newton-cg [newton conjugate]: can be used in this case\n",
    "lbfgs[limited memory BFGS]: for multiclass problems\n",
    "BFGS:Broyden–Fletcher–Goldfarb–Shanno algorithm \n",
    "sag [Stochastic Average Gradient Descent]: good for large data sets\n",
    "saga: a little variant of sag\n",
    "'''"
   ]
  },
  {
   "cell_type": "code",
   "execution_count": 167,
   "id": "a5901097",
   "metadata": {},
   "outputs": [
    {
     "name": "stderr",
     "output_type": "stream",
     "text": [
      "C:\\ProgramData\\Anaconda3\\lib\\site-packages\\sklearn\\utils\\validation.py:993: DataConversionWarning: A column-vector y was passed when a 1d array was expected. Please change the shape of y to (n_samples, ), for example using ravel().\n",
      "  y = column_or_1d(y, warn=True)\n"
     ]
    },
    {
     "data": {
      "text/plain": [
       "array([[-0.04498622,  0.23585599,  0.08002784, -0.02169612,  0.11127951,\n",
       "         0.06433442, -0.18866288, -0.09143329,  0.02792018,  2.01272413,\n",
       "        -0.55614926,  0.13015877,  0.23410969,  0.86014732,  0.45516231,\n",
       "        -0.06153379,  0.21774851,  0.1597454 ,  0.20150454,  0.09885089,\n",
       "        -0.12242922, -0.01306621,  0.13690496,  0.37603527,  0.35276364]])"
      ]
     },
     "execution_count": 167,
     "metadata": {},
     "output_type": "execute_result"
    }
   ],
   "source": [
    "from sklearn.linear_model import LogisticRegression\n",
    "model1 = LogisticRegression(solver='liblinear', random_state=0)\n",
    "model1.fit(X, y)\n",
    "model1.intercept_\n",
    "model1.coef_"
   ]
  },
  {
   "cell_type": "code",
   "execution_count": 168,
   "id": "abf55977",
   "metadata": {},
   "outputs": [],
   "source": [
    "#Predictions\n",
    "y_pred = model1.predict(X)"
   ]
  },
  {
   "cell_type": "code",
   "execution_count": 169,
   "id": "5355c64f",
   "metadata": {},
   "outputs": [
    {
     "name": "stdout",
     "output_type": "stream",
     "text": [
      "[[14200   928]\n",
      " [ 2608  1906]]\n"
     ]
    }
   ],
   "source": [
    "#Confusion matrix\n",
    "from sklearn import metrics\n",
    "cm = metrics.confusion_matrix(y, y_pred)\n",
    "print(cm)"
   ]
  },
  {
   "cell_type": "code",
   "execution_count": 170,
   "id": "cff31bb7",
   "metadata": {},
   "outputs": [
    {
     "data": {
      "text/plain": [
       "0.8199775990225028"
      ]
     },
     "execution_count": 170,
     "metadata": {},
     "output_type": "execute_result"
    }
   ],
   "source": [
    "#Accuracy Score - correct predictions / total number of data points\n",
    "model1.score(X,y) #.0.82\n",
    "(14200+1906)/(14200+928+2608+1906) # 0.82"
   ]
  },
  {
   "cell_type": "code",
   "execution_count": 171,
   "id": "0adc8930",
   "metadata": {},
   "outputs": [
    {
     "name": "stdout",
     "output_type": "stream",
     "text": [
      "              precision    recall  f1-score   support\n",
      "\n",
      "           0       0.84      0.94      0.89     15128\n",
      "           1       0.67      0.42      0.52      4514\n",
      "\n",
      "    accuracy                           0.82     19642\n",
      "   macro avg       0.76      0.68      0.70     19642\n",
      "weighted avg       0.81      0.82      0.80     19642\n",
      "\n"
     ]
    }
   ],
   "source": [
    "#Classification report\n",
    "from sklearn.metrics import classification_report\n",
    "print(classification_report(y, y_pred))"
   ]
  },
  {
   "cell_type": "code",
   "execution_count": 172,
   "id": "7d15da31",
   "metadata": {},
   "outputs": [
    {
     "name": "stdout",
     "output_type": "stream",
     "text": [
      "0.8216596972413459\n"
     ]
    }
   ],
   "source": [
    "#ROC Curve - Receiver Operating Characteristic curve\n",
    "#tpr = True Positive Rate \n",
    "#fpr = False Positive Rate\n",
    "from sklearn.metrics import roc_curve, auc, roc_auc_score\n",
    "y_pred_prob = model1.predict_proba(X)\n",
    "fpr, tpr, thresholds =roc_curve(df[\"h1n1_vaccine\"], y_pred_prob[:,1])\n",
    "roc_auc = auc(fpr, tpr) #Area under Curve 0.82\n",
    "print(roc_auc)"
   ]
  },
  {
   "cell_type": "code",
   "execution_count": 173,
   "id": "f23acbbc",
   "metadata": {},
   "outputs": [
    {
     "data": {
      "image/png": "[encoded data removed]",
      "text/plain": [
       "<Figure size 432x288 with 1 Axes>"
      ]
     },
     "metadata": {
      "needs_background": "light"
     },
     "output_type": "display_data"
    }
   ],
   "source": [
    "#ROC Curve\n",
    "plt.title('ROC Curve for LogReg: liblinear')\n",
    "plt.xlabel('False Positive Rate (1-Specificity)')\n",
    "plt.ylabel('True Positive Rate (Sensitivity)')\n",
    "plt.plot([0, 1], [0, 1],'r--')\n",
    "plt.xlim([0, 1])\n",
    "plt.ylim([0, 1])\n",
    "plt.plot(fpr, tpr, label = 'AUC =' +str(roc_auc))\n",
    "plt.legend(loc=4) #Location of label\n",
    "plt.show()"
   ]
  },
  {
   "cell_type": "code",
   "execution_count": 174,
   "id": "3e565a5a",
   "metadata": {},
   "outputs": [],
   "source": [
    "\n",
    "#____________________SMOTE \n",
    "\n",
    "novac = df[df.h1n1_vaccine == 0] #15128,26\n",
    "vac = df[df.h1n1_vaccine == 1] #4514, 26"
   ]
  },
  {
   "cell_type": "code",
   "execution_count": 175,
   "id": "d59e5b36",
   "metadata": {},
   "outputs": [],
   "source": [
    "#__________________________________ oversample minority_with replacement\n",
    "from sklearn.utils import resample\n",
    "vac_oversample = resample(vac,\n",
    "                          replace=True, # sample with replacement\n",
    "                          n_samples=len(novac), # match number in majority class\n",
    "                          random_state=27) # reproducible results\n"
   ]
  },
  {
   "cell_type": "code",
   "execution_count": 176,
   "id": "f50b4cdf",
   "metadata": {},
   "outputs": [
    {
     "data": {
      "text/plain": [
       "0    15128\n",
       "1    15128\n",
       "Name: h1n1_vaccine, dtype: int64"
      ]
     },
     "execution_count": 176,
     "metadata": {},
     "output_type": "execute_result"
    }
   ],
   "source": [
    "# combine majority and oversampled minority\n",
    "\n",
    "dfsmote = pd.concat([novac, vac_oversample]) \n",
    "dfsmote.h1n1_vaccine.value_counts()"
   ]
  },
  {
   "cell_type": "code",
   "execution_count": 177,
   "id": "0fccde5a",
   "metadata": {},
   "outputs": [
    {
     "data": {
      "text/plain": [
       "h1n1_vaccine\n",
       "0               15128\n",
       "1               15128\n",
       "dtype: int64"
      ]
     },
     "execution_count": 177,
     "metadata": {},
     "output_type": "execute_result"
    }
   ],
   "source": [
    "dfsmote.to_csv('hnsmote.csv')\n",
    "#___________________lets re do log reg\n",
    "# X and y\n",
    "X2 = dfsmote.loc[:, dfsmote.columns != 'h1n1_vaccine']\n",
    "y2 = dfsmote.loc[:, dfsmote.columns == 'h1n1_vaccine']\n",
    "y2.value_counts() # both 15,128\n"
   ]
  },
  {
   "cell_type": "code",
   "execution_count": 178,
   "id": "12a84785",
   "metadata": {},
   "outputs": [
    {
     "name": "stderr",
     "output_type": "stream",
     "text": [
      "C:\\ProgramData\\Anaconda3\\lib\\site-packages\\sklearn\\utils\\validation.py:993: DataConversionWarning: A column-vector y was passed when a 1d array was expected. Please change the shape of y to (n_samples, ), for example using ravel().\n",
      "  y = column_or_1d(y, warn=True)\n"
     ]
    },
    {
     "data": {
      "text/plain": [
       "array([[-0.01118147,  0.2210547 ,  0.1371775 , -0.00679727,  0.14257456,\n",
       "         0.09421023, -0.2000553 , -0.11595893, -0.01936165,  2.10424967,\n",
       "        -0.63670885,  0.14104786,  0.19295641,  0.93630368,  0.43867647,\n",
       "        -0.05666603,  0.22833308,  0.1551444 ,  0.23000128,  0.10607717,\n",
       "        -0.11945159,  0.07376133,  0.04801412,  0.2681097 ,  0.24540743]])"
      ]
     },
     "execution_count": 178,
     "metadata": {},
     "output_type": "execute_result"
    }
   ],
   "source": [
    "# solver = liblinear\n",
    "'''\n",
    "liblinear [library for linear classification]: good for small data\n",
    "newton-cg [newton conjugate]: can be used in this case\n",
    "lbfgs[limited memory BFGS]: for multiclass problems\n",
    "BFGS:Broyden–Fletcher–Goldfarb–Shanno algorithm \n",
    "sag [Stochastic Average Gradient Descent]: good for large data sets\n",
    "saga: a little variant of sag\n",
    "'''\n",
    "from sklearn.linear_model import LogisticRegression\n",
    "model2 = LogisticRegression(solver='liblinear', random_state=0)\n",
    "model2.fit(X2, y2)\n",
    "model2.intercept_\n",
    "model2.coef_"
   ]
  },
  {
   "cell_type": "code",
   "execution_count": 179,
   "id": "31be5e6b",
   "metadata": {},
   "outputs": [],
   "source": [
    "#Predictions\n",
    "y_pred2 = model2.predict(X2)"
   ]
  },
  {
   "cell_type": "code",
   "execution_count": 180,
   "id": "7d4cee90",
   "metadata": {},
   "outputs": [
    {
     "name": "stdout",
     "output_type": "stream",
     "text": [
      "[[11848  3280]\n",
      " [ 4154 10974]]\n"
     ]
    }
   ],
   "source": [
    "#Confusion matrix\n",
    "from sklearn import metrics\n",
    "cm2 = metrics.confusion_matrix(y2, y_pred2)\n",
    "print(cm2)"
   ]
  },
  {
   "cell_type": "code",
   "execution_count": 181,
   "id": "a0fc1cdb",
   "metadata": {},
   "outputs": [
    {
     "data": {
      "text/plain": [
       "0.756296394485684"
      ]
     },
     "execution_count": 181,
     "metadata": {},
     "output_type": "execute_result"
    }
   ],
   "source": [
    "'''\n",
    "WITH SMOTE=\n",
    "[[11848  3280]\n",
    " [ 4154 10974]]\n",
    "\n",
    "WITHOUT SMOTE = \n",
    "[[14200   928]\n",
    " [ 2608  1906]]\n",
    "'''\n",
    "#Accuracy Score - correct predictions / total number of data points\n",
    "model2.score(X2,y2) #WITH SMOTE = 0.75; without = #.0.82\n",
    "(11848+10974)/(11848+3200+4154+10974) # 0.75\n"
   ]
  },
  {
   "cell_type": "code",
   "execution_count": 182,
   "id": "d8b5c437",
   "metadata": {},
   "outputs": [
    {
     "name": "stdout",
     "output_type": "stream",
     "text": [
      "              precision    recall  f1-score   support\n",
      "\n",
      "           0       0.74      0.78      0.76     15128\n",
      "           1       0.77      0.73      0.75     15128\n",
      "\n",
      "    accuracy                           0.75     30256\n",
      "   macro avg       0.76      0.75      0.75     30256\n",
      "weighted avg       0.76      0.75      0.75     30256\n",
      "\n"
     ]
    }
   ],
   "source": [
    "#Classification report\n",
    "from sklearn.metrics import classification_report\n",
    "print(classification_report(y2, y_pred2))"
   ]
  },
  {
   "cell_type": "code",
   "execution_count": 183,
   "id": "cc2f550f",
   "metadata": {},
   "outputs": [
    {
     "name": "stdout",
     "output_type": "stream",
     "text": [
      "0.8202646708776102\n"
     ]
    }
   ],
   "source": [
    "#ROC Curve - Receiver Operating Characteristic curve\n",
    "#tpr = True Positive Rate \n",
    "#fpr = False Positive Rate\n",
    "from sklearn.metrics import roc_curve, auc, roc_auc_score\n",
    "y_pred_prob2 = model2.predict_proba(X2)\n",
    "fpr2, tpr2, thresholds2 =roc_curve(dfsmote[\"h1n1_vaccine\"], y_pred_prob2[:,1])\n",
    "roc_auc2 = auc(fpr2, tpr2) #Area under Curve 0.82\n",
    "print(roc_auc2) # 0.82, same as without smote"
   ]
  },
  {
   "cell_type": "code",
   "execution_count": 184,
   "id": "9e748ed2",
   "metadata": {},
   "outputs": [
    {
     "data": {
      "image/png": "[encoded data removed]",
      "text/plain": [
       "<Figure size 432x288 with 1 Axes>"
      ]
     },
     "metadata": {
      "needs_background": "light"
     },
     "output_type": "display_data"
    }
   ],
   "source": [
    "#ROC Curve\n",
    "plt.title('ROC Curve for LogReg: liblinear SMOTE')\n",
    "plt.xlabel('False Positive Rate (1-Specificity)')\n",
    "plt.ylabel('True Positive Rate (Sensitivity)')\n",
    "plt.plot([0, 1], [0, 1],'r--')\n",
    "plt.xlim([0, 1])\n",
    "plt.ylim([0, 1])\n",
    "plt.plot(fpr2, tpr2, label = 'AUC =' +str(roc_auc2))\n",
    "plt.legend(loc=4) #Location of label\n",
    "plt.show()\n"
   ]
  },
  {
   "cell_type": "code",
   "execution_count": 1,
   "id": "1a4981ef",
   "metadata": {},
   "outputs": [],
   "source": [
    "#GLM Method\n",
    "import os\n",
    "os.chdir('C:\\\\Users\\\\Pallavi_P\\\\Desktop')\n",
    "import pandas as pd \n",
    "pd.set_option('display.max_column',None)\n",
    "import numpy as np \n",
    "import matplotlib.pyplot as plt\n",
    "import seaborn as sns\n",
    "import statsmodels.api as sm\n",
    "import statsmodels.formula.api as smf\n",
    "from scipy.stats import chi2_contingency\n",
    "from sklearn.preprocessing import LabelEncoder \n",
    "from statsmodels.stats.outliers_influence import variance_inflation_factor\n",
    "from sklearn.linear_model import LogisticRegression\n",
    "from sklearn import metrics\n",
    "from sklearn.metrics import classification_report, confusion_matrix\n",
    "from sklearn.metrics import classification_report\n",
    "from sklearn.metrics import roc_curve, auc, roc_auc_score\n",
    "from sklearn.utils import resample"
   ]
  },
  {
   "cell_type": "code",
   "execution_count": 2,
   "id": "df3a6467",
   "metadata": {},
   "outputs": [],
   "source": [
    "import statsmodels.api as sm\n",
    "import statsmodels.formula.api as smf"
   ]
  },
  {
   "cell_type": "code",
   "execution_count": 4,
   "id": "eb39ff04",
   "metadata": {},
   "outputs": [],
   "source": [
    "import os"
   ]
  },
  {
   "cell_type": "code",
   "execution_count": 5,
   "id": "8c10a32d",
   "metadata": {},
   "outputs": [
    {
     "data": {
      "text/plain": [
       "'C:\\\\Users\\\\Pallavi_P\\\\Desktop'"
      ]
     },
     "execution_count": 5,
     "metadata": {},
     "output_type": "execute_result"
    }
   ],
   "source": [
    "os.getcwd()"
   ]
  },
  {
   "cell_type": "code",
   "execution_count": 7,
   "id": "bf15bd4f",
   "metadata": {},
   "outputs": [],
   "source": [
    "df=pd.read_csv(r'C:\\Users\\Pallavi_P\\Desktop\\WD_Python\\hnsmote.csv')"
   ]
  },
  {
   "cell_type": "code",
   "execution_count": 8,
   "id": "608637bc",
   "metadata": {},
   "outputs": [
    {
     "data": {
      "text/html": [
       "<div>\n",
       "<style scoped>\n",
       "    .dataframe tbody tr th:only-of-type {\n",
       "        vertical-align: middle;\n",
       "    }\n",
       "\n",
       "    .dataframe tbody tr th {\n",
       "        vertical-align: top;\n",
       "    }\n",
       "\n",
       "    .dataframe thead th {\n",
       "        text-align: right;\n",
       "    }\n",
       "</style>\n",
       "<table border=\"1\" class=\"dataframe\">\n",
       "  <thead>\n",
       "    <tr style=\"text-align: right;\">\n",
       "      <th></th>\n",
       "      <th>Unnamed: 0</th>\n",
       "      <th>h1n1_worry</th>\n",
       "      <th>h1n1_awareness</th>\n",
       "      <th>antiviral_medication</th>\n",
       "      <th>contact_avoidance</th>\n",
       "      <th>bought_face_mask</th>\n",
       "      <th>wash_hands_frequently</th>\n",
       "      <th>avoid_large_gatherings</th>\n",
       "      <th>reduced_outside_home_cont</th>\n",
       "      <th>avoid_touch_face</th>\n",
       "      <th>dr_recc_h1n1_vacc</th>\n",
       "      <th>dr_recc_seasonal_vacc</th>\n",
       "      <th>chronic_medic_condition</th>\n",
       "      <th>cont_child_undr_6_mnths</th>\n",
       "      <th>is_health_worker</th>\n",
       "      <th>is_h1n1_risky</th>\n",
       "      <th>sick_from_h1n1_vacc</th>\n",
       "      <th>is_seas_risky</th>\n",
       "      <th>age_bracket</th>\n",
       "      <th>sex</th>\n",
       "      <th>income_level</th>\n",
       "      <th>marital_status</th>\n",
       "      <th>housing_status</th>\n",
       "      <th>h1n1_vaccine</th>\n",
       "      <th>race_1</th>\n",
       "      <th>race_2</th>\n",
       "      <th>race_3</th>\n",
       "    </tr>\n",
       "  </thead>\n",
       "  <tbody>\n",
       "    <tr>\n",
       "      <th>0</th>\n",
       "      <td>0</td>\n",
       "      <td>1.0</td>\n",
       "      <td>0.0</td>\n",
       "      <td>0.0</td>\n",
       "      <td>0.0</td>\n",
       "      <td>0.0</td>\n",
       "      <td>0.0</td>\n",
       "      <td>0.0</td>\n",
       "      <td>1.0</td>\n",
       "      <td>1.0</td>\n",
       "      <td>0.0</td>\n",
       "      <td>0.0</td>\n",
       "      <td>0.0</td>\n",
       "      <td>0.0</td>\n",
       "      <td>0.0</td>\n",
       "      <td>1.0</td>\n",
       "      <td>2.0</td>\n",
       "      <td>1.0</td>\n",
       "      <td>4</td>\n",
       "      <td>0</td>\n",
       "      <td>1</td>\n",
       "      <td>1</td>\n",
       "      <td>0</td>\n",
       "      <td>0</td>\n",
       "      <td>0</td>\n",
       "      <td>0</td>\n",
       "      <td>1</td>\n",
       "    </tr>\n",
       "    <tr>\n",
       "      <th>1</th>\n",
       "      <td>1</td>\n",
       "      <td>3.0</td>\n",
       "      <td>2.0</td>\n",
       "      <td>0.0</td>\n",
       "      <td>1.0</td>\n",
       "      <td>0.0</td>\n",
       "      <td>1.0</td>\n",
       "      <td>0.0</td>\n",
       "      <td>1.0</td>\n",
       "      <td>1.0</td>\n",
       "      <td>0.0</td>\n",
       "      <td>0.0</td>\n",
       "      <td>0.0</td>\n",
       "      <td>0.0</td>\n",
       "      <td>0.0</td>\n",
       "      <td>4.0</td>\n",
       "      <td>4.0</td>\n",
       "      <td>2.0</td>\n",
       "      <td>2</td>\n",
       "      <td>1</td>\n",
       "      <td>1</td>\n",
       "      <td>1</td>\n",
       "      <td>1</td>\n",
       "      <td>0</td>\n",
       "      <td>0</td>\n",
       "      <td>0</td>\n",
       "      <td>1</td>\n",
       "    </tr>\n",
       "    <tr>\n",
       "      <th>2</th>\n",
       "      <td>2</td>\n",
       "      <td>1.0</td>\n",
       "      <td>1.0</td>\n",
       "      <td>0.0</td>\n",
       "      <td>1.0</td>\n",
       "      <td>0.0</td>\n",
       "      <td>1.0</td>\n",
       "      <td>1.0</td>\n",
       "      <td>0.0</td>\n",
       "      <td>0.0</td>\n",
       "      <td>0.0</td>\n",
       "      <td>1.0</td>\n",
       "      <td>1.0</td>\n",
       "      <td>0.0</td>\n",
       "      <td>0.0</td>\n",
       "      <td>3.0</td>\n",
       "      <td>5.0</td>\n",
       "      <td>4.0</td>\n",
       "      <td>5</td>\n",
       "      <td>0</td>\n",
       "      <td>1</td>\n",
       "      <td>1</td>\n",
       "      <td>1</td>\n",
       "      <td>0</td>\n",
       "      <td>0</td>\n",
       "      <td>0</td>\n",
       "      <td>1</td>\n",
       "    </tr>\n",
       "    <tr>\n",
       "      <th>3</th>\n",
       "      <td>3</td>\n",
       "      <td>2.0</td>\n",
       "      <td>1.0</td>\n",
       "      <td>0.0</td>\n",
       "      <td>1.0</td>\n",
       "      <td>0.0</td>\n",
       "      <td>1.0</td>\n",
       "      <td>1.0</td>\n",
       "      <td>0.0</td>\n",
       "      <td>1.0</td>\n",
       "      <td>0.0</td>\n",
       "      <td>0.0</td>\n",
       "      <td>0.0</td>\n",
       "      <td>0.0</td>\n",
       "      <td>0.0</td>\n",
       "      <td>3.0</td>\n",
       "      <td>2.0</td>\n",
       "      <td>1.0</td>\n",
       "      <td>3</td>\n",
       "      <td>0</td>\n",
       "      <td>2</td>\n",
       "      <td>0</td>\n",
       "      <td>0</td>\n",
       "      <td>0</td>\n",
       "      <td>0</td>\n",
       "      <td>0</td>\n",
       "      <td>1</td>\n",
       "    </tr>\n",
       "    <tr>\n",
       "      <th>4</th>\n",
       "      <td>4</td>\n",
       "      <td>3.0</td>\n",
       "      <td>1.0</td>\n",
       "      <td>0.0</td>\n",
       "      <td>1.0</td>\n",
       "      <td>0.0</td>\n",
       "      <td>1.0</td>\n",
       "      <td>0.0</td>\n",
       "      <td>0.0</td>\n",
       "      <td>1.0</td>\n",
       "      <td>0.0</td>\n",
       "      <td>1.0</td>\n",
       "      <td>0.0</td>\n",
       "      <td>0.0</td>\n",
       "      <td>0.0</td>\n",
       "      <td>2.0</td>\n",
       "      <td>1.0</td>\n",
       "      <td>4.0</td>\n",
       "      <td>5</td>\n",
       "      <td>1</td>\n",
       "      <td>2</td>\n",
       "      <td>0</td>\n",
       "      <td>0</td>\n",
       "      <td>0</td>\n",
       "      <td>0</td>\n",
       "      <td>0</td>\n",
       "      <td>1</td>\n",
       "    </tr>\n",
       "    <tr>\n",
       "      <th>...</th>\n",
       "      <td>...</td>\n",
       "      <td>...</td>\n",
       "      <td>...</td>\n",
       "      <td>...</td>\n",
       "      <td>...</td>\n",
       "      <td>...</td>\n",
       "      <td>...</td>\n",
       "      <td>...</td>\n",
       "      <td>...</td>\n",
       "      <td>...</td>\n",
       "      <td>...</td>\n",
       "      <td>...</td>\n",
       "      <td>...</td>\n",
       "      <td>...</td>\n",
       "      <td>...</td>\n",
       "      <td>...</td>\n",
       "      <td>...</td>\n",
       "      <td>...</td>\n",
       "      <td>...</td>\n",
       "      <td>...</td>\n",
       "      <td>...</td>\n",
       "      <td>...</td>\n",
       "      <td>...</td>\n",
       "      <td>...</td>\n",
       "      <td>...</td>\n",
       "      <td>...</td>\n",
       "      <td>...</td>\n",
       "    </tr>\n",
       "    <tr>\n",
       "      <th>30251</th>\n",
       "      <td>18654</td>\n",
       "      <td>0.0</td>\n",
       "      <td>1.0</td>\n",
       "      <td>0.0</td>\n",
       "      <td>0.0</td>\n",
       "      <td>0.0</td>\n",
       "      <td>1.0</td>\n",
       "      <td>0.0</td>\n",
       "      <td>0.0</td>\n",
       "      <td>1.0</td>\n",
       "      <td>1.0</td>\n",
       "      <td>1.0</td>\n",
       "      <td>0.0</td>\n",
       "      <td>0.0</td>\n",
       "      <td>0.0</td>\n",
       "      <td>4.0</td>\n",
       "      <td>2.0</td>\n",
       "      <td>4.0</td>\n",
       "      <td>1</td>\n",
       "      <td>1</td>\n",
       "      <td>3</td>\n",
       "      <td>1</td>\n",
       "      <td>0</td>\n",
       "      <td>1</td>\n",
       "      <td>0</td>\n",
       "      <td>0</td>\n",
       "      <td>1</td>\n",
       "    </tr>\n",
       "    <tr>\n",
       "      <th>30252</th>\n",
       "      <td>11916</td>\n",
       "      <td>2.0</td>\n",
       "      <td>2.0</td>\n",
       "      <td>0.0</td>\n",
       "      <td>1.0</td>\n",
       "      <td>0.0</td>\n",
       "      <td>1.0</td>\n",
       "      <td>1.0</td>\n",
       "      <td>1.0</td>\n",
       "      <td>1.0</td>\n",
       "      <td>1.0</td>\n",
       "      <td>1.0</td>\n",
       "      <td>1.0</td>\n",
       "      <td>0.0</td>\n",
       "      <td>0.0</td>\n",
       "      <td>5.0</td>\n",
       "      <td>2.0</td>\n",
       "      <td>5.0</td>\n",
       "      <td>5</td>\n",
       "      <td>0</td>\n",
       "      <td>2</td>\n",
       "      <td>1</td>\n",
       "      <td>0</td>\n",
       "      <td>1</td>\n",
       "      <td>0</td>\n",
       "      <td>0</td>\n",
       "      <td>1</td>\n",
       "    </tr>\n",
       "    <tr>\n",
       "      <th>30253</th>\n",
       "      <td>7137</td>\n",
       "      <td>2.0</td>\n",
       "      <td>2.0</td>\n",
       "      <td>0.0</td>\n",
       "      <td>1.0</td>\n",
       "      <td>0.0</td>\n",
       "      <td>1.0</td>\n",
       "      <td>0.0</td>\n",
       "      <td>0.0</td>\n",
       "      <td>1.0</td>\n",
       "      <td>0.0</td>\n",
       "      <td>0.0</td>\n",
       "      <td>0.0</td>\n",
       "      <td>0.0</td>\n",
       "      <td>1.0</td>\n",
       "      <td>4.0</td>\n",
       "      <td>4.0</td>\n",
       "      <td>4.0</td>\n",
       "      <td>3</td>\n",
       "      <td>0</td>\n",
       "      <td>2</td>\n",
       "      <td>1</td>\n",
       "      <td>0</td>\n",
       "      <td>1</td>\n",
       "      <td>0</td>\n",
       "      <td>0</td>\n",
       "      <td>1</td>\n",
       "    </tr>\n",
       "    <tr>\n",
       "      <th>30254</th>\n",
       "      <td>12817</td>\n",
       "      <td>2.0</td>\n",
       "      <td>1.0</td>\n",
       "      <td>0.0</td>\n",
       "      <td>1.0</td>\n",
       "      <td>0.0</td>\n",
       "      <td>1.0</td>\n",
       "      <td>1.0</td>\n",
       "      <td>0.0</td>\n",
       "      <td>1.0</td>\n",
       "      <td>1.0</td>\n",
       "      <td>0.0</td>\n",
       "      <td>0.0</td>\n",
       "      <td>0.0</td>\n",
       "      <td>0.0</td>\n",
       "      <td>4.0</td>\n",
       "      <td>4.0</td>\n",
       "      <td>2.0</td>\n",
       "      <td>1</td>\n",
       "      <td>1</td>\n",
       "      <td>3</td>\n",
       "      <td>1</td>\n",
       "      <td>0</td>\n",
       "      <td>1</td>\n",
       "      <td>0</td>\n",
       "      <td>0</td>\n",
       "      <td>1</td>\n",
       "    </tr>\n",
       "    <tr>\n",
       "      <th>30255</th>\n",
       "      <td>16278</td>\n",
       "      <td>2.0</td>\n",
       "      <td>1.0</td>\n",
       "      <td>0.0</td>\n",
       "      <td>1.0</td>\n",
       "      <td>0.0</td>\n",
       "      <td>1.0</td>\n",
       "      <td>0.0</td>\n",
       "      <td>0.0</td>\n",
       "      <td>1.0</td>\n",
       "      <td>0.0</td>\n",
       "      <td>0.0</td>\n",
       "      <td>0.0</td>\n",
       "      <td>0.0</td>\n",
       "      <td>0.0</td>\n",
       "      <td>4.0</td>\n",
       "      <td>4.0</td>\n",
       "      <td>4.0</td>\n",
       "      <td>3</td>\n",
       "      <td>1</td>\n",
       "      <td>2</td>\n",
       "      <td>1</td>\n",
       "      <td>1</td>\n",
       "      <td>1</td>\n",
       "      <td>0</td>\n",
       "      <td>0</td>\n",
       "      <td>1</td>\n",
       "    </tr>\n",
       "  </tbody>\n",
       "</table>\n",
       "<p>30256 rows × 27 columns</p>\n",
       "</div>"
      ],
      "text/plain": [
       "       Unnamed: 0  h1n1_worry  h1n1_awareness  antiviral_medication  \\\n",
       "0               0         1.0             0.0                   0.0   \n",
       "1               1         3.0             2.0                   0.0   \n",
       "2               2         1.0             1.0                   0.0   \n",
       "3               3         2.0             1.0                   0.0   \n",
       "4               4         3.0             1.0                   0.0   \n",
       "...           ...         ...             ...                   ...   \n",
       "30251       18654         0.0             1.0                   0.0   \n",
       "30252       11916         2.0             2.0                   0.0   \n",
       "30253        7137         2.0             2.0                   0.0   \n",
       "30254       12817         2.0             1.0                   0.0   \n",
       "30255       16278         2.0             1.0                   0.0   \n",
       "\n",
       "       contact_avoidance  bought_face_mask  wash_hands_frequently  \\\n",
       "0                    0.0               0.0                    0.0   \n",
       "1                    1.0               0.0                    1.0   \n",
       "2                    1.0               0.0                    1.0   \n",
       "3                    1.0               0.0                    1.0   \n",
       "4                    1.0               0.0                    1.0   \n",
       "...                  ...               ...                    ...   \n",
       "30251                0.0               0.0                    1.0   \n",
       "30252                1.0               0.0                    1.0   \n",
       "30253                1.0               0.0                    1.0   \n",
       "30254                1.0               0.0                    1.0   \n",
       "30255                1.0               0.0                    1.0   \n",
       "\n",
       "       avoid_large_gatherings  reduced_outside_home_cont  avoid_touch_face  \\\n",
       "0                         0.0                        1.0               1.0   \n",
       "1                         0.0                        1.0               1.0   \n",
       "2                         1.0                        0.0               0.0   \n",
       "3                         1.0                        0.0               1.0   \n",
       "4                         0.0                        0.0               1.0   \n",
       "...                       ...                        ...               ...   \n",
       "30251                     0.0                        0.0               1.0   \n",
       "30252                     1.0                        1.0               1.0   \n",
       "30253                     0.0                        0.0               1.0   \n",
       "30254                     1.0                        0.0               1.0   \n",
       "30255                     0.0                        0.0               1.0   \n",
       "\n",
       "       dr_recc_h1n1_vacc  dr_recc_seasonal_vacc  chronic_medic_condition  \\\n",
       "0                    0.0                    0.0                      0.0   \n",
       "1                    0.0                    0.0                      0.0   \n",
       "2                    0.0                    1.0                      1.0   \n",
       "3                    0.0                    0.0                      0.0   \n",
       "4                    0.0                    1.0                      0.0   \n",
       "...                  ...                    ...                      ...   \n",
       "30251                1.0                    1.0                      0.0   \n",
       "30252                1.0                    1.0                      1.0   \n",
       "30253                0.0                    0.0                      0.0   \n",
       "30254                1.0                    0.0                      0.0   \n",
       "30255                0.0                    0.0                      0.0   \n",
       "\n",
       "       cont_child_undr_6_mnths  is_health_worker  is_h1n1_risky  \\\n",
       "0                          0.0               0.0            1.0   \n",
       "1                          0.0               0.0            4.0   \n",
       "2                          0.0               0.0            3.0   \n",
       "3                          0.0               0.0            3.0   \n",
       "4                          0.0               0.0            2.0   \n",
       "...                        ...               ...            ...   \n",
       "30251                      0.0               0.0            4.0   \n",
       "30252                      0.0               0.0            5.0   \n",
       "30253                      0.0               1.0            4.0   \n",
       "30254                      0.0               0.0            4.0   \n",
       "30255                      0.0               0.0            4.0   \n",
       "\n",
       "       sick_from_h1n1_vacc  is_seas_risky  age_bracket  sex  income_level  \\\n",
       "0                      2.0            1.0            4    0             1   \n",
       "1                      4.0            2.0            2    1             1   \n",
       "2                      5.0            4.0            5    0             1   \n",
       "3                      2.0            1.0            3    0             2   \n",
       "4                      1.0            4.0            5    1             2   \n",
       "...                    ...            ...          ...  ...           ...   \n",
       "30251                  2.0            4.0            1    1             3   \n",
       "30252                  2.0            5.0            5    0             2   \n",
       "30253                  4.0            4.0            3    0             2   \n",
       "30254                  4.0            2.0            1    1             3   \n",
       "30255                  4.0            4.0            3    1             2   \n",
       "\n",
       "       marital_status  housing_status  h1n1_vaccine  race_1  race_2  race_3  \n",
       "0                   1               0             0       0       0       1  \n",
       "1                   1               1             0       0       0       1  \n",
       "2                   1               1             0       0       0       1  \n",
       "3                   0               0             0       0       0       1  \n",
       "4                   0               0             0       0       0       1  \n",
       "...               ...             ...           ...     ...     ...     ...  \n",
       "30251               1               0             1       0       0       1  \n",
       "30252               1               0             1       0       0       1  \n",
       "30253               1               0             1       0       0       1  \n",
       "30254               1               0             1       0       0       1  \n",
       "30255               1               1             1       0       0       1  \n",
       "\n",
       "[30256 rows x 27 columns]"
      ]
     },
     "execution_count": 8,
     "metadata": {},
     "output_type": "execute_result"
    }
   ],
   "source": [
    "df"
   ]
  },
  {
   "cell_type": "code",
   "execution_count": 10,
   "id": "400ee291",
   "metadata": {},
   "outputs": [
    {
     "data": {
      "text/plain": [
       "<bound method DataFrame.info of        Unnamed: 0  h1n1_worry  h1n1_awareness  antiviral_medication  \\\n",
       "0               0         1.0             0.0                   0.0   \n",
       "1               1         3.0             2.0                   0.0   \n",
       "2               2         1.0             1.0                   0.0   \n",
       "3               3         2.0             1.0                   0.0   \n",
       "4               4         3.0             1.0                   0.0   \n",
       "...           ...         ...             ...                   ...   \n",
       "30251       18654         0.0             1.0                   0.0   \n",
       "30252       11916         2.0             2.0                   0.0   \n",
       "30253        7137         2.0             2.0                   0.0   \n",
       "30254       12817         2.0             1.0                   0.0   \n",
       "30255       16278         2.0             1.0                   0.0   \n",
       "\n",
       "       contact_avoidance  bought_face_mask  wash_hands_frequently  \\\n",
       "0                    0.0               0.0                    0.0   \n",
       "1                    1.0               0.0                    1.0   \n",
       "2                    1.0               0.0                    1.0   \n",
       "3                    1.0               0.0                    1.0   \n",
       "4                    1.0               0.0                    1.0   \n",
       "...                  ...               ...                    ...   \n",
       "30251                0.0               0.0                    1.0   \n",
       "30252                1.0               0.0                    1.0   \n",
       "30253                1.0               0.0                    1.0   \n",
       "30254                1.0               0.0                    1.0   \n",
       "30255                1.0               0.0                    1.0   \n",
       "\n",
       "       avoid_large_gatherings  reduced_outside_home_cont  avoid_touch_face  \\\n",
       "0                         0.0                        1.0               1.0   \n",
       "1                         0.0                        1.0               1.0   \n",
       "2                         1.0                        0.0               0.0   \n",
       "3                         1.0                        0.0               1.0   \n",
       "4                         0.0                        0.0               1.0   \n",
       "...                       ...                        ...               ...   \n",
       "30251                     0.0                        0.0               1.0   \n",
       "30252                     1.0                        1.0               1.0   \n",
       "30253                     0.0                        0.0               1.0   \n",
       "30254                     1.0                        0.0               1.0   \n",
       "30255                     0.0                        0.0               1.0   \n",
       "\n",
       "       dr_recc_h1n1_vacc  dr_recc_seasonal_vacc  chronic_medic_condition  \\\n",
       "0                    0.0                    0.0                      0.0   \n",
       "1                    0.0                    0.0                      0.0   \n",
       "2                    0.0                    1.0                      1.0   \n",
       "3                    0.0                    0.0                      0.0   \n",
       "4                    0.0                    1.0                      0.0   \n",
       "...                  ...                    ...                      ...   \n",
       "30251                1.0                    1.0                      0.0   \n",
       "30252                1.0                    1.0                      1.0   \n",
       "30253                0.0                    0.0                      0.0   \n",
       "30254                1.0                    0.0                      0.0   \n",
       "30255                0.0                    0.0                      0.0   \n",
       "\n",
       "       cont_child_undr_6_mnths  is_health_worker  is_h1n1_risky  \\\n",
       "0                          0.0               0.0            1.0   \n",
       "1                          0.0               0.0            4.0   \n",
       "2                          0.0               0.0            3.0   \n",
       "3                          0.0               0.0            3.0   \n",
       "4                          0.0               0.0            2.0   \n",
       "...                        ...               ...            ...   \n",
       "30251                      0.0               0.0            4.0   \n",
       "30252                      0.0               0.0            5.0   \n",
       "30253                      0.0               1.0            4.0   \n",
       "30254                      0.0               0.0            4.0   \n",
       "30255                      0.0               0.0            4.0   \n",
       "\n",
       "       sick_from_h1n1_vacc  is_seas_risky  age_bracket  sex  income_level  \\\n",
       "0                      2.0            1.0            4    0             1   \n",
       "1                      4.0            2.0            2    1             1   \n",
       "2                      5.0            4.0            5    0             1   \n",
       "3                      2.0            1.0            3    0             2   \n",
       "4                      1.0            4.0            5    1             2   \n",
       "...                    ...            ...          ...  ...           ...   \n",
       "30251                  2.0            4.0            1    1             3   \n",
       "30252                  2.0            5.0            5    0             2   \n",
       "30253                  4.0            4.0            3    0             2   \n",
       "30254                  4.0            2.0            1    1             3   \n",
       "30255                  4.0            4.0            3    1             2   \n",
       "\n",
       "       marital_status  housing_status  h1n1_vaccine  race_1  race_2  race_3  \n",
       "0                   1               0             0       0       0       1  \n",
       "1                   1               1             0       0       0       1  \n",
       "2                   1               1             0       0       0       1  \n",
       "3                   0               0             0       0       0       1  \n",
       "4                   0               0             0       0       0       1  \n",
       "...               ...             ...           ...     ...     ...     ...  \n",
       "30251               1               0             1       0       0       1  \n",
       "30252               1               0             1       0       0       1  \n",
       "30253               1               0             1       0       0       1  \n",
       "30254               1               0             1       0       0       1  \n",
       "30255               1               1             1       0       0       1  \n",
       "\n",
       "[30256 rows x 27 columns]>"
      ]
     },
     "execution_count": 10,
     "metadata": {},
     "output_type": "execute_result"
    }
   ],
   "source": [
    "df.info"
   ]
  },
  {
   "cell_type": "code",
   "execution_count": 12,
   "id": "447da4c1",
   "metadata": {},
   "outputs": [],
   "source": [
    "import statsmodels.api as sm\n",
    "import statsmodels.formula.api as smf"
   ]
  },
  {
   "cell_type": "code",
   "execution_count": 15,
   "id": "240c0b25",
   "metadata": {},
   "outputs": [
    {
     "ename": "PatsyError",
     "evalue": "Error evaluating factor: NameError: name 'is_seas_vacc_effective' is not defined\n    h1n1_vaccine~h1n1_worry+h1n1_awareness+ antiviral_medication+        bought_face_mask+wash_hands_frequently+avoid_large_gatherings+        reduced_outside_home_cont+ avoid_touch_face+dr_recc_h1n1_vacc+recc_seasonal_vacc+        chronic_medic_condition+cont_child_undr_6_mnths+        is_health_worker+ has_health_insur+is_h1n1_vacc_effective+        is_h1n1_risky+sick_from_h1n1_vacc+is_seas_vacc_effective+        is_seas_risky + sick_from_h1n1_vacc + is_seas_risky + age_bracket+sex+income_level+marital_status+housing_status+race_1+race_2+race3\n                                                                                                                                                                                                                                                                                                                                                                                                    ^^^^^^^^^^^^^^^^^^^^^^",
     "output_type": "error",
     "traceback": [
      "\u001b[1;31m---------------------------------------------------------------------------\u001b[0m",
      "\u001b[1;31mNameError\u001b[0m                                 Traceback (most recent call last)",
      "File \u001b[1;32mC:\\ProgramData\\Anaconda3\\lib\\site-packages\\patsy\\compat.py:36\u001b[0m, in \u001b[0;36mcall_and_wrap_exc\u001b[1;34m(msg, origin, f, *args, **kwargs)\u001b[0m\n\u001b[0;32m     35\u001b[0m \u001b[38;5;28;01mtry\u001b[39;00m:\n\u001b[1;32m---> 36\u001b[0m     \u001b[38;5;28;01mreturn\u001b[39;00m f(\u001b[38;5;241m*\u001b[39margs, \u001b[38;5;241m*\u001b[39m\u001b[38;5;241m*\u001b[39mkwargs)\n\u001b[0;32m     37\u001b[0m \u001b[38;5;28;01mexcept\u001b[39;00m \u001b[38;5;167;01mException\u001b[39;00m \u001b[38;5;28;01mas\u001b[39;00m e:\n",
      "File \u001b[1;32mC:\\ProgramData\\Anaconda3\\lib\\site-packages\\patsy\\eval.py:165\u001b[0m, in \u001b[0;36mEvalEnvironment.eval\u001b[1;34m(self, expr, source_name, inner_namespace)\u001b[0m\n\u001b[0;32m    164\u001b[0m code \u001b[38;5;241m=\u001b[39m \u001b[38;5;28mcompile\u001b[39m(expr, source_name, \u001b[38;5;124m\"\u001b[39m\u001b[38;5;124meval\u001b[39m\u001b[38;5;124m\"\u001b[39m, \u001b[38;5;28mself\u001b[39m\u001b[38;5;241m.\u001b[39mflags, \u001b[38;5;28;01mFalse\u001b[39;00m)\n\u001b[1;32m--> 165\u001b[0m \u001b[38;5;28;01mreturn\u001b[39;00m \u001b[38;5;28;43meval\u001b[39;49m\u001b[43m(\u001b[49m\u001b[43mcode\u001b[49m\u001b[43m,\u001b[49m\u001b[43m \u001b[49m\u001b[43m{\u001b[49m\u001b[43m}\u001b[49m\u001b[43m,\u001b[49m\u001b[43m \u001b[49m\u001b[43mVarLookupDict\u001b[49m\u001b[43m(\u001b[49m\u001b[43m[\u001b[49m\u001b[43minner_namespace\u001b[49m\u001b[43m]\u001b[49m\n\u001b[0;32m    166\u001b[0m \u001b[43m                                    \u001b[49m\u001b[38;5;241;43m+\u001b[39;49m\u001b[43m \u001b[49m\u001b[38;5;28;43mself\u001b[39;49m\u001b[38;5;241;43m.\u001b[39;49m\u001b[43m_namespaces\u001b[49m\u001b[43m)\u001b[49m\u001b[43m)\u001b[49m\n",
      "File \u001b[1;32m<string>:1\u001b[0m, in \u001b[0;36m<module>\u001b[1;34m\u001b[0m\n",
      "\u001b[1;31mNameError\u001b[0m: name 'is_seas_vacc_effective' is not defined",
      "\nThe above exception was the direct cause of the following exception:\n",
      "\u001b[1;31mPatsyError\u001b[0m                                Traceback (most recent call last)",
      "Input \u001b[1;32mIn [15]\u001b[0m, in \u001b[0;36m<cell line: 1>\u001b[1;34m()\u001b[0m\n\u001b[1;32m----> 1\u001b[0m model3\u001b[38;5;241m=\u001b[39m\u001b[43msmf\u001b[49m\u001b[38;5;241;43m.\u001b[39;49m\u001b[43mglm\u001b[49m\u001b[43m(\u001b[49m\u001b[43mformula\u001b[49m\u001b[38;5;241;43m=\u001b[39;49m\u001b[38;5;124;43m'''\u001b[39;49m\u001b[38;5;124;43mh1n1_vaccine~h1n1_worry+h1n1_awareness+ antiviral_medication+\u001b[39;49m\n\u001b[0;32m      2\u001b[0m \u001b[38;5;124;43m       bought_face_mask+wash_hands_frequently+avoid_large_gatherings+\u001b[39;49m\n\u001b[0;32m      3\u001b[0m \u001b[38;5;124;43m       reduced_outside_home_cont+ avoid_touch_face+dr_recc_h1n1_vacc+recc_seasonal_vacc+\u001b[39;49m\n\u001b[0;32m      4\u001b[0m \u001b[38;5;124;43m       chronic_medic_condition+cont_child_undr_6_mnths+\u001b[39;49m\n\u001b[0;32m      5\u001b[0m \u001b[38;5;124;43m       is_health_worker+ has_health_insur+is_h1n1_vacc_effective+\u001b[39;49m\n\u001b[0;32m      6\u001b[0m \u001b[38;5;124;43m       is_h1n1_risky+sick_from_h1n1_vacc+is_seas_vacc_effective+\u001b[39;49m\n\u001b[0;32m      7\u001b[0m \u001b[38;5;124;43m       is_seas_risky + sick_from_h1n1_vacc + is_seas_risky + age_bracket+sex+income_level+marital_status+housing_status+race_1+race_2+race3\u001b[39;49m\u001b[38;5;124;43m'''\u001b[39;49m\u001b[43m,\u001b[49m\u001b[43mdata\u001b[49m\u001b[38;5;241;43m=\u001b[39;49m\u001b[43mdf\u001b[49m\u001b[43m,\u001b[49m\u001b[43mfamily\u001b[49m\u001b[38;5;241;43m=\u001b[39;49m\u001b[43msm\u001b[49m\u001b[38;5;241;43m.\u001b[39;49m\u001b[43mfamilies\u001b[49m\u001b[38;5;241;43m.\u001b[39;49m\u001b[43mBinomial\u001b[49m\u001b[43m(\u001b[49m\u001b[43m)\u001b[49m\u001b[43m)\u001b[49m\n\u001b[0;32m      8\u001b[0m result\u001b[38;5;241m=\u001b[39mmodel3\u001b[38;5;241m.\u001b[39mfit()\n\u001b[0;32m      9\u001b[0m \u001b[38;5;28mprint\u001b[39m(result\u001b[38;5;241m.\u001b[39msummary())\n",
      "File \u001b[1;32mC:\\ProgramData\\Anaconda3\\lib\\site-packages\\statsmodels\\base\\model.py:200\u001b[0m, in \u001b[0;36mModel.from_formula\u001b[1;34m(cls, formula, data, subset, drop_cols, *args, **kwargs)\u001b[0m\n\u001b[0;32m    197\u001b[0m \u001b[38;5;28;01mif\u001b[39;00m missing \u001b[38;5;241m==\u001b[39m \u001b[38;5;124m'\u001b[39m\u001b[38;5;124mnone\u001b[39m\u001b[38;5;124m'\u001b[39m:  \u001b[38;5;66;03m# with patsy it's drop or raise. let's raise.\u001b[39;00m\n\u001b[0;32m    198\u001b[0m     missing \u001b[38;5;241m=\u001b[39m \u001b[38;5;124m'\u001b[39m\u001b[38;5;124mraise\u001b[39m\u001b[38;5;124m'\u001b[39m\n\u001b[1;32m--> 200\u001b[0m tmp \u001b[38;5;241m=\u001b[39m \u001b[43mhandle_formula_data\u001b[49m\u001b[43m(\u001b[49m\u001b[43mdata\u001b[49m\u001b[43m,\u001b[49m\u001b[43m \u001b[49m\u001b[38;5;28;43;01mNone\u001b[39;49;00m\u001b[43m,\u001b[49m\u001b[43m \u001b[49m\u001b[43mformula\u001b[49m\u001b[43m,\u001b[49m\u001b[43m \u001b[49m\u001b[43mdepth\u001b[49m\u001b[38;5;241;43m=\u001b[39;49m\u001b[43meval_env\u001b[49m\u001b[43m,\u001b[49m\n\u001b[0;32m    201\u001b[0m \u001b[43m                          \u001b[49m\u001b[43mmissing\u001b[49m\u001b[38;5;241;43m=\u001b[39;49m\u001b[43mmissing\u001b[49m\u001b[43m)\u001b[49m\n\u001b[0;32m    202\u001b[0m ((endog, exog), missing_idx, design_info) \u001b[38;5;241m=\u001b[39m tmp\n\u001b[0;32m    203\u001b[0m max_endog \u001b[38;5;241m=\u001b[39m \u001b[38;5;28mcls\u001b[39m\u001b[38;5;241m.\u001b[39m_formula_max_endog\n",
      "File \u001b[1;32mC:\\ProgramData\\Anaconda3\\lib\\site-packages\\statsmodels\\formula\\formulatools.py:63\u001b[0m, in \u001b[0;36mhandle_formula_data\u001b[1;34m(Y, X, formula, depth, missing)\u001b[0m\n\u001b[0;32m     61\u001b[0m \u001b[38;5;28;01melse\u001b[39;00m:\n\u001b[0;32m     62\u001b[0m     \u001b[38;5;28;01mif\u001b[39;00m data_util\u001b[38;5;241m.\u001b[39m_is_using_pandas(Y, \u001b[38;5;28;01mNone\u001b[39;00m):\n\u001b[1;32m---> 63\u001b[0m         result \u001b[38;5;241m=\u001b[39m \u001b[43mdmatrices\u001b[49m\u001b[43m(\u001b[49m\u001b[43mformula\u001b[49m\u001b[43m,\u001b[49m\u001b[43m \u001b[49m\u001b[43mY\u001b[49m\u001b[43m,\u001b[49m\u001b[43m \u001b[49m\u001b[43mdepth\u001b[49m\u001b[43m,\u001b[49m\u001b[43m \u001b[49m\u001b[43mreturn_type\u001b[49m\u001b[38;5;241;43m=\u001b[39;49m\u001b[38;5;124;43m'\u001b[39;49m\u001b[38;5;124;43mdataframe\u001b[39;49m\u001b[38;5;124;43m'\u001b[39;49m\u001b[43m,\u001b[49m\n\u001b[0;32m     64\u001b[0m \u001b[43m                           \u001b[49m\u001b[43mNA_action\u001b[49m\u001b[38;5;241;43m=\u001b[39;49m\u001b[43mna_action\u001b[49m\u001b[43m)\u001b[49m\n\u001b[0;32m     65\u001b[0m     \u001b[38;5;28;01melse\u001b[39;00m:\n\u001b[0;32m     66\u001b[0m         result \u001b[38;5;241m=\u001b[39m dmatrices(formula, Y, depth, return_type\u001b[38;5;241m=\u001b[39m\u001b[38;5;124m'\u001b[39m\u001b[38;5;124mdataframe\u001b[39m\u001b[38;5;124m'\u001b[39m,\n\u001b[0;32m     67\u001b[0m                            NA_action\u001b[38;5;241m=\u001b[39mna_action)\n",
      "File \u001b[1;32mC:\\ProgramData\\Anaconda3\\lib\\site-packages\\patsy\\highlevel.py:309\u001b[0m, in \u001b[0;36mdmatrices\u001b[1;34m(formula_like, data, eval_env, NA_action, return_type)\u001b[0m\n\u001b[0;32m    299\u001b[0m \u001b[38;5;124;03m\"\"\"Construct two design matrices given a formula_like and data.\u001b[39;00m\n\u001b[0;32m    300\u001b[0m \n\u001b[0;32m    301\u001b[0m \u001b[38;5;124;03mThis function is identical to :func:`dmatrix`, except that it requires\u001b[39;00m\n\u001b[1;32m   (...)\u001b[0m\n\u001b[0;32m    306\u001b[0m \u001b[38;5;124;03mSee :func:`dmatrix` for details.\u001b[39;00m\n\u001b[0;32m    307\u001b[0m \u001b[38;5;124;03m\"\"\"\u001b[39;00m\n\u001b[0;32m    308\u001b[0m eval_env \u001b[38;5;241m=\u001b[39m EvalEnvironment\u001b[38;5;241m.\u001b[39mcapture(eval_env, reference\u001b[38;5;241m=\u001b[39m\u001b[38;5;241m1\u001b[39m)\n\u001b[1;32m--> 309\u001b[0m (lhs, rhs) \u001b[38;5;241m=\u001b[39m \u001b[43m_do_highlevel_design\u001b[49m\u001b[43m(\u001b[49m\u001b[43mformula_like\u001b[49m\u001b[43m,\u001b[49m\u001b[43m \u001b[49m\u001b[43mdata\u001b[49m\u001b[43m,\u001b[49m\u001b[43m \u001b[49m\u001b[43meval_env\u001b[49m\u001b[43m,\u001b[49m\n\u001b[0;32m    310\u001b[0m \u001b[43m                                  \u001b[49m\u001b[43mNA_action\u001b[49m\u001b[43m,\u001b[49m\u001b[43m \u001b[49m\u001b[43mreturn_type\u001b[49m\u001b[43m)\u001b[49m\n\u001b[0;32m    311\u001b[0m \u001b[38;5;28;01mif\u001b[39;00m lhs\u001b[38;5;241m.\u001b[39mshape[\u001b[38;5;241m1\u001b[39m] \u001b[38;5;241m==\u001b[39m \u001b[38;5;241m0\u001b[39m:\n\u001b[0;32m    312\u001b[0m     \u001b[38;5;28;01mraise\u001b[39;00m PatsyError(\u001b[38;5;124m\"\u001b[39m\u001b[38;5;124mmodel is missing required outcome variables\u001b[39m\u001b[38;5;124m\"\u001b[39m)\n",
      "File \u001b[1;32mC:\\ProgramData\\Anaconda3\\lib\\site-packages\\patsy\\highlevel.py:164\u001b[0m, in \u001b[0;36m_do_highlevel_design\u001b[1;34m(formula_like, data, eval_env, NA_action, return_type)\u001b[0m\n\u001b[0;32m    162\u001b[0m \u001b[38;5;28;01mdef\u001b[39;00m \u001b[38;5;21mdata_iter_maker\u001b[39m():\n\u001b[0;32m    163\u001b[0m     \u001b[38;5;28;01mreturn\u001b[39;00m \u001b[38;5;28miter\u001b[39m([data])\n\u001b[1;32m--> 164\u001b[0m design_infos \u001b[38;5;241m=\u001b[39m \u001b[43m_try_incr_builders\u001b[49m\u001b[43m(\u001b[49m\u001b[43mformula_like\u001b[49m\u001b[43m,\u001b[49m\u001b[43m \u001b[49m\u001b[43mdata_iter_maker\u001b[49m\u001b[43m,\u001b[49m\u001b[43m \u001b[49m\u001b[43meval_env\u001b[49m\u001b[43m,\u001b[49m\n\u001b[0;32m    165\u001b[0m \u001b[43m                                  \u001b[49m\u001b[43mNA_action\u001b[49m\u001b[43m)\u001b[49m\n\u001b[0;32m    166\u001b[0m \u001b[38;5;28;01mif\u001b[39;00m design_infos \u001b[38;5;129;01mis\u001b[39;00m \u001b[38;5;129;01mnot\u001b[39;00m \u001b[38;5;28;01mNone\u001b[39;00m:\n\u001b[0;32m    167\u001b[0m     \u001b[38;5;28;01mreturn\u001b[39;00m build_design_matrices(design_infos, data,\n\u001b[0;32m    168\u001b[0m                                  NA_action\u001b[38;5;241m=\u001b[39mNA_action,\n\u001b[0;32m    169\u001b[0m                                  return_type\u001b[38;5;241m=\u001b[39mreturn_type)\n",
      "File \u001b[1;32mC:\\ProgramData\\Anaconda3\\lib\\site-packages\\patsy\\highlevel.py:66\u001b[0m, in \u001b[0;36m_try_incr_builders\u001b[1;34m(formula_like, data_iter_maker, eval_env, NA_action)\u001b[0m\n\u001b[0;32m     64\u001b[0m \u001b[38;5;28;01mif\u001b[39;00m \u001b[38;5;28misinstance\u001b[39m(formula_like, ModelDesc):\n\u001b[0;32m     65\u001b[0m     \u001b[38;5;28;01massert\u001b[39;00m \u001b[38;5;28misinstance\u001b[39m(eval_env, EvalEnvironment)\n\u001b[1;32m---> 66\u001b[0m     \u001b[38;5;28;01mreturn\u001b[39;00m \u001b[43mdesign_matrix_builders\u001b[49m\u001b[43m(\u001b[49m\u001b[43m[\u001b[49m\u001b[43mformula_like\u001b[49m\u001b[38;5;241;43m.\u001b[39;49m\u001b[43mlhs_termlist\u001b[49m\u001b[43m,\u001b[49m\n\u001b[0;32m     67\u001b[0m \u001b[43m                                   \u001b[49m\u001b[43mformula_like\u001b[49m\u001b[38;5;241;43m.\u001b[39;49m\u001b[43mrhs_termlist\u001b[49m\u001b[43m]\u001b[49m\u001b[43m,\u001b[49m\n\u001b[0;32m     68\u001b[0m \u001b[43m                                  \u001b[49m\u001b[43mdata_iter_maker\u001b[49m\u001b[43m,\u001b[49m\n\u001b[0;32m     69\u001b[0m \u001b[43m                                  \u001b[49m\u001b[43meval_env\u001b[49m\u001b[43m,\u001b[49m\n\u001b[0;32m     70\u001b[0m \u001b[43m                                  \u001b[49m\u001b[43mNA_action\u001b[49m\u001b[43m)\u001b[49m\n\u001b[0;32m     71\u001b[0m \u001b[38;5;28;01melse\u001b[39;00m:\n\u001b[0;32m     72\u001b[0m     \u001b[38;5;28;01mreturn\u001b[39;00m \u001b[38;5;28;01mNone\u001b[39;00m\n",
      "File \u001b[1;32mC:\\ProgramData\\Anaconda3\\lib\\site-packages\\patsy\\build.py:693\u001b[0m, in \u001b[0;36mdesign_matrix_builders\u001b[1;34m(termlists, data_iter_maker, eval_env, NA_action)\u001b[0m\n\u001b[0;32m    689\u001b[0m factor_states \u001b[38;5;241m=\u001b[39m _factors_memorize(all_factors, data_iter_maker, eval_env)\n\u001b[0;32m    690\u001b[0m \u001b[38;5;66;03m# Now all the factors have working eval methods, so we can evaluate them\u001b[39;00m\n\u001b[0;32m    691\u001b[0m \u001b[38;5;66;03m# on some data to find out what type of data they return.\u001b[39;00m\n\u001b[0;32m    692\u001b[0m (num_column_counts,\n\u001b[1;32m--> 693\u001b[0m  cat_levels_contrasts) \u001b[38;5;241m=\u001b[39m \u001b[43m_examine_factor_types\u001b[49m\u001b[43m(\u001b[49m\u001b[43mall_factors\u001b[49m\u001b[43m,\u001b[49m\n\u001b[0;32m    694\u001b[0m \u001b[43m                                               \u001b[49m\u001b[43mfactor_states\u001b[49m\u001b[43m,\u001b[49m\n\u001b[0;32m    695\u001b[0m \u001b[43m                                               \u001b[49m\u001b[43mdata_iter_maker\u001b[49m\u001b[43m,\u001b[49m\n\u001b[0;32m    696\u001b[0m \u001b[43m                                               \u001b[49m\u001b[43mNA_action\u001b[49m\u001b[43m)\u001b[49m\n\u001b[0;32m    697\u001b[0m \u001b[38;5;66;03m# Now we need the factor infos, which encapsulate the knowledge of\u001b[39;00m\n\u001b[0;32m    698\u001b[0m \u001b[38;5;66;03m# how to turn any given factor into a chunk of data:\u001b[39;00m\n\u001b[0;32m    699\u001b[0m factor_infos \u001b[38;5;241m=\u001b[39m {}\n",
      "File \u001b[1;32mC:\\ProgramData\\Anaconda3\\lib\\site-packages\\patsy\\build.py:443\u001b[0m, in \u001b[0;36m_examine_factor_types\u001b[1;34m(factors, factor_states, data_iter_maker, NA_action)\u001b[0m\n\u001b[0;32m    441\u001b[0m \u001b[38;5;28;01mfor\u001b[39;00m data \u001b[38;5;129;01min\u001b[39;00m data_iter_maker():\n\u001b[0;32m    442\u001b[0m     \u001b[38;5;28;01mfor\u001b[39;00m factor \u001b[38;5;129;01min\u001b[39;00m \u001b[38;5;28mlist\u001b[39m(examine_needed):\n\u001b[1;32m--> 443\u001b[0m         value \u001b[38;5;241m=\u001b[39m \u001b[43mfactor\u001b[49m\u001b[38;5;241;43m.\u001b[39;49m\u001b[43meval\u001b[49m\u001b[43m(\u001b[49m\u001b[43mfactor_states\u001b[49m\u001b[43m[\u001b[49m\u001b[43mfactor\u001b[49m\u001b[43m]\u001b[49m\u001b[43m,\u001b[49m\u001b[43m \u001b[49m\u001b[43mdata\u001b[49m\u001b[43m)\u001b[49m\n\u001b[0;32m    444\u001b[0m         \u001b[38;5;28;01mif\u001b[39;00m factor \u001b[38;5;129;01min\u001b[39;00m cat_sniffers \u001b[38;5;129;01mor\u001b[39;00m guess_categorical(value):\n\u001b[0;32m    445\u001b[0m             \u001b[38;5;28;01mif\u001b[39;00m factor \u001b[38;5;129;01mnot\u001b[39;00m \u001b[38;5;129;01min\u001b[39;00m cat_sniffers:\n",
      "File \u001b[1;32mC:\\ProgramData\\Anaconda3\\lib\\site-packages\\patsy\\eval.py:564\u001b[0m, in \u001b[0;36mEvalFactor.eval\u001b[1;34m(self, memorize_state, data)\u001b[0m\n\u001b[0;32m    563\u001b[0m \u001b[38;5;28;01mdef\u001b[39;00m \u001b[38;5;21meval\u001b[39m(\u001b[38;5;28mself\u001b[39m, memorize_state, data):\n\u001b[1;32m--> 564\u001b[0m     \u001b[38;5;28;01mreturn\u001b[39;00m \u001b[38;5;28;43mself\u001b[39;49m\u001b[38;5;241;43m.\u001b[39;49m\u001b[43m_eval\u001b[49m\u001b[43m(\u001b[49m\u001b[43mmemorize_state\u001b[49m\u001b[43m[\u001b[49m\u001b[38;5;124;43m\"\u001b[39;49m\u001b[38;5;124;43meval_code\u001b[39;49m\u001b[38;5;124;43m\"\u001b[39;49m\u001b[43m]\u001b[49m\u001b[43m,\u001b[49m\n\u001b[0;32m    565\u001b[0m \u001b[43m                      \u001b[49m\u001b[43mmemorize_state\u001b[49m\u001b[43m,\u001b[49m\n\u001b[0;32m    566\u001b[0m \u001b[43m                      \u001b[49m\u001b[43mdata\u001b[49m\u001b[43m)\u001b[49m\n",
      "File \u001b[1;32mC:\\ProgramData\\Anaconda3\\lib\\site-packages\\patsy\\eval.py:547\u001b[0m, in \u001b[0;36mEvalFactor._eval\u001b[1;34m(self, code, memorize_state, data)\u001b[0m\n\u001b[0;32m    545\u001b[0m \u001b[38;5;28;01mdef\u001b[39;00m \u001b[38;5;21m_eval\u001b[39m(\u001b[38;5;28mself\u001b[39m, code, memorize_state, data):\n\u001b[0;32m    546\u001b[0m     inner_namespace \u001b[38;5;241m=\u001b[39m VarLookupDict([data, memorize_state[\u001b[38;5;124m\"\u001b[39m\u001b[38;5;124mtransforms\u001b[39m\u001b[38;5;124m\"\u001b[39m]])\n\u001b[1;32m--> 547\u001b[0m     \u001b[38;5;28;01mreturn\u001b[39;00m \u001b[43mcall_and_wrap_exc\u001b[49m\u001b[43m(\u001b[49m\u001b[38;5;124;43m\"\u001b[39;49m\u001b[38;5;124;43mError evaluating factor\u001b[39;49m\u001b[38;5;124;43m\"\u001b[39;49m\u001b[43m,\u001b[49m\n\u001b[0;32m    548\u001b[0m \u001b[43m                             \u001b[49m\u001b[38;5;28;43mself\u001b[39;49m\u001b[43m,\u001b[49m\n\u001b[0;32m    549\u001b[0m \u001b[43m                             \u001b[49m\u001b[43mmemorize_state\u001b[49m\u001b[43m[\u001b[49m\u001b[38;5;124;43m\"\u001b[39;49m\u001b[38;5;124;43meval_env\u001b[39;49m\u001b[38;5;124;43m\"\u001b[39;49m\u001b[43m]\u001b[49m\u001b[38;5;241;43m.\u001b[39;49m\u001b[43meval\u001b[49m\u001b[43m,\u001b[49m\n\u001b[0;32m    550\u001b[0m \u001b[43m                             \u001b[49m\u001b[43mcode\u001b[49m\u001b[43m,\u001b[49m\n\u001b[0;32m    551\u001b[0m \u001b[43m                             \u001b[49m\u001b[43minner_namespace\u001b[49m\u001b[38;5;241;43m=\u001b[39;49m\u001b[43minner_namespace\u001b[49m\u001b[43m)\u001b[49m\n",
      "File \u001b[1;32mC:\\ProgramData\\Anaconda3\\lib\\site-packages\\patsy\\compat.py:43\u001b[0m, in \u001b[0;36mcall_and_wrap_exc\u001b[1;34m(msg, origin, f, *args, **kwargs)\u001b[0m\n\u001b[0;32m     39\u001b[0m     new_exc \u001b[38;5;241m=\u001b[39m PatsyError(\u001b[38;5;124m\"\u001b[39m\u001b[38;5;132;01m%s\u001b[39;00m\u001b[38;5;124m: \u001b[39m\u001b[38;5;132;01m%s\u001b[39;00m\u001b[38;5;124m: \u001b[39m\u001b[38;5;132;01m%s\u001b[39;00m\u001b[38;5;124m\"\u001b[39m\n\u001b[0;32m     40\u001b[0m                          \u001b[38;5;241m%\u001b[39m (msg, e\u001b[38;5;241m.\u001b[39m\u001b[38;5;18m__class__\u001b[39m\u001b[38;5;241m.\u001b[39m\u001b[38;5;18m__name__\u001b[39m, e),\n\u001b[0;32m     41\u001b[0m                          origin)\n\u001b[0;32m     42\u001b[0m     \u001b[38;5;66;03m# Use 'exec' to hide this syntax from the Python 2 parser:\u001b[39;00m\n\u001b[1;32m---> 43\u001b[0m     \u001b[43mexec\u001b[49m\u001b[43m(\u001b[49m\u001b[38;5;124;43m\"\u001b[39;49m\u001b[38;5;124;43mraise new_exc from e\u001b[39;49m\u001b[38;5;124;43m\"\u001b[39;49m\u001b[43m)\u001b[49m\n\u001b[0;32m     44\u001b[0m \u001b[38;5;28;01melse\u001b[39;00m:\n\u001b[0;32m     45\u001b[0m     \u001b[38;5;66;03m# In python 2, we just let the original exception escape -- better\u001b[39;00m\n\u001b[0;32m     46\u001b[0m     \u001b[38;5;66;03m# than destroying the traceback. But if it's a PatsyError, we can\u001b[39;00m\n\u001b[0;32m     47\u001b[0m     \u001b[38;5;66;03m# at least set the origin properly.\u001b[39;00m\n\u001b[0;32m     48\u001b[0m     \u001b[38;5;28;01mif\u001b[39;00m \u001b[38;5;28misinstance\u001b[39m(e, PatsyError):\n",
      "File \u001b[1;32m<string>:1\u001b[0m, in \u001b[0;36m<module>\u001b[1;34m\u001b[0m\n",
      "\u001b[1;31mPatsyError\u001b[0m: Error evaluating factor: NameError: name 'is_seas_vacc_effective' is not defined\n    h1n1_vaccine~h1n1_worry+h1n1_awareness+ antiviral_medication+        bought_face_mask+wash_hands_frequently+avoid_large_gatherings+        reduced_outside_home_cont+ avoid_touch_face+dr_recc_h1n1_vacc+recc_seasonal_vacc+        chronic_medic_condition+cont_child_undr_6_mnths+        is_health_worker+ has_health_insur+is_h1n1_vacc_effective+        is_h1n1_risky+sick_from_h1n1_vacc+is_seas_vacc_effective+        is_seas_risky + sick_from_h1n1_vacc + is_seas_risky + age_bracket+sex+income_level+marital_status+housing_status+race_1+race_2+race3\n                                                                                                                                                                                                                                                                                                                                                                                                    ^^^^^^^^^^^^^^^^^^^^^^"
     ]
    }
   ],
   "source": [
    "model3=smf.glm(formula='''h1n1_vaccine~h1n1_worry+h1n1_awareness+ antiviral_medication+\n",
    "       bought_face_mask+wash_hands_frequently+avoid_large_gatherings+\n",
    "       reduced_outside_home_cont+ avoid_touch_face+dr_recc_h1n1_vacc+recc_seasonal_vacc+\n",
    "       chronic_medic_condition+cont_child_undr_6_mnths+\n",
    "       is_health_worker+ has_health_insur+is_h1n1_vacc_effective+\n",
    "       is_h1n1_risky+sick_from_h1n1_vacc+is_seas_vacc_effective+\n",
    "       is_seas_risky + sick_from_h1n1_vacc + is_seas_risky + age_bracket+sex+income_level+marital_status+housing_status+race_1+race_2+race3''',data=df,family=sm.families.Binomial())\n",
    "result=model3.fit()\n",
    "print(result.summary())"
   ]
  },
  {
   "cell_type": "code",
   "execution_count": null,
   "id": "38b9428d",
   "metadata": {},
   "outputs": [],
   "source": []
  }
 ],
 "metadata": {
  "kernelspec": {
   "display_name": "Python 3",
   "language": "python",
   "name": "python3"
  },
  "language_info": {
   "codemirror_mode": {
    "name": "ipython",
    "version": 3
   },
   "file_extension": ".py",
   "mimetype": "text/x-python",
   "name": "python",
   "nbconvert_exporter": "python",
   "pygments_lexer": "ipython3",
   "version": "3.10.9"
  }
 },
 "nbformat": 4,
 "nbformat_minor": 5
}
